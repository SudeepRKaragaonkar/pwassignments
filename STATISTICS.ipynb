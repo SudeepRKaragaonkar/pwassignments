{
 "cells": [
  {
   "cell_type": "code",
   "execution_count": 26,
   "metadata": {},
   "outputs": [
    {
     "name": "stdout",
     "output_type": "stream",
     "text": [
      "[124, 119, 123, 103, 118, 121, 107, 98, 111, 123, 108, 98, 94, 101, 117, 109, 99, 127, 96, 101, 123, 101, 112, 97, 129, 90, 92, 127, 116, 127, 100, 103, 93, 122, 120, 124, 110, 105, 117, 109, 108, 112, 110, 110, 125, 121, 117, 130, 112, 127, 92, 126, 102, 126, 95, 115, 121, 114, 123, 119, 128, 111, 120, 92, 122, 114, 105, 95, 120, 119, 106, 126, 109, 126, 109, 103, 90, 104, 98, 120, 108, 102, 130, 117, 105, 119, 111, 115, 128, 104, 118, 105, 103, 119, 125, 116, 127, 108, 116, 100]\n"
     ]
    }
   ],
   "source": [
    "#Question 1: Generate a list of 100 integers containing values between 90 to 130\n",
    "import random\n",
    "\n",
    "# Generate a list of 100 integers between 90 and 130\n",
    "int_list = random.choices(range(90, 131), k=100)\n",
    "print(int_list)\n"
   ]
  },
  {
   "cell_type": "code",
   "execution_count": 27,
   "metadata": {},
   "outputs": [
    {
     "name": "stdout",
     "output_type": "stream",
     "text": [
      "Mean: 112.12\n",
      "Median: 112.0\n"
     ]
    }
   ],
   "source": [
    "# (i) Write a Python function to calculate the mean of a given list of numbers.Create a function to find the median of a list of numbers.\n",
    "def calculate_mean(numbers):\n",
    "    return sum(numbers) / len(numbers)\n",
    "\n",
    "# Example usage:\n",
    "mean = calculate_mean(int_list)\n",
    "print(\"Mean:\", mean)\n",
    "\n",
    "def calculate_median(numbers):\n",
    "    sorted_numbers = sorted(numbers)\n",
    "    length = len(sorted_numbers)\n",
    "    \n",
    "    if length % 2 == 0:\n",
    "        return (sorted_numbers[length // 2 - 1] + sorted_numbers[length // 2]) / 2\n",
    "    else:\n",
    "        return sorted_numbers[length // 2]\n",
    "\n",
    "median = calculate_median(int_list)\n",
    "print(\"Median:\", median)\n"
   ]
  },
  {
   "cell_type": "code",
   "execution_count": 28,
   "metadata": {},
   "outputs": [
    {
     "name": "stdout",
     "output_type": "stream",
     "text": [
      "Mode: 119\n"
     ]
    }
   ],
   "source": [
    "#(ii) Program to compute the mode:\n",
    "from statistics import mode\n",
    "\n",
    "def calculate_mode(numbers):\n",
    "    return mode(numbers)\n",
    "\n",
    "mode_value = calculate_mode(int_list)\n",
    "print(\"Mode:\", mode_value)\n"
   ]
  },
  {
   "cell_type": "code",
   "execution_count": 29,
   "metadata": {},
   "outputs": [
    {
     "name": "stdout",
     "output_type": "stream",
     "text": [
      "Weighted Mean: 112.34548776788299\n"
     ]
    }
   ],
   "source": [
    "#(iii) Function to calculate the weighted mean:\n",
    "def weighted_mean(values, weights):\n",
    "    return sum(v * w for v, w in zip(values, weights)) / sum(weights)\n",
    "\n",
    "# Example usage:\n",
    "weights = [random.uniform(1, 3) for _ in range(100)]\n",
    "w_mean = weighted_mean(int_list, weights)\n",
    "print(\"Weighted Mean:\", w_mean)\n"
   ]
  },
  {
   "cell_type": "code",
   "execution_count": 30,
   "metadata": {},
   "outputs": [
    {
     "name": "stdout",
     "output_type": "stream",
     "text": [
      "Geometric Mean: 111.57270237699638\n"
     ]
    }
   ],
   "source": [
    "#(iv) Geometric mean of a list of positive numbers:\n",
    "import math\n",
    "\n",
    "def geometric_mean(numbers):\n",
    "    product = math.prod(numbers)\n",
    "    return product ** (1 / len(numbers))\n",
    "\n",
    "geo_mean = geometric_mean([n for n in int_list if n > 0])\n",
    "print(\"Geometric Mean:\", geo_mean)\n"
   ]
  },
  {
   "cell_type": "code",
   "execution_count": 31,
   "metadata": {},
   "outputs": [
    {
     "name": "stdout",
     "output_type": "stream",
     "text": [
      "Harmonic Mean: 111.01447549761794\n"
     ]
    }
   ],
   "source": [
    "#(v) Harmonic mean:\n",
    "def harmonic_mean(numbers):\n",
    "    return len(numbers) / sum(1 / n for n in numbers)\n",
    "\n",
    "harm_mean = harmonic_mean(int_list)\n",
    "print(\"Harmonic Mean:\", harm_mean)\n"
   ]
  },
  {
   "cell_type": "code",
   "execution_count": 32,
   "metadata": {},
   "outputs": [
    {
     "name": "stdout",
     "output_type": "stream",
     "text": [
      "Midrange: 110.0\n"
     ]
    }
   ],
   "source": [
    "#(vi) Function to calculate midrange:\n",
    "def midrange(numbers):\n",
    "    return (min(numbers) + max(numbers)) / 2\n",
    "\n",
    "midrange_value = midrange(int_list)\n",
    "print(\"Midrange:\", midrange_value)\n"
   ]
  },
  {
   "cell_type": "code",
   "execution_count": 33,
   "metadata": {},
   "outputs": [
    {
     "name": "stdout",
     "output_type": "stream",
     "text": [
      "Trimmed Mean: 112.5375\n"
     ]
    }
   ],
   "source": [
    "#(vii) Trimmed mean:\n",
    "from scipy.stats import trim_mean\n",
    "\n",
    "def trimmed_mean(numbers, percentage):\n",
    "    return trim_mean(numbers, percentage)\n",
    "\n",
    "# Example usage: Exclude 10% of extreme values\n",
    "trimmed_mean_value = trimmed_mean(int_list, 0.1)\n",
    "print(\"Trimmed Mean:\", trimmed_mean_value)\n"
   ]
  },
  {
   "cell_type": "code",
   "execution_count": 34,
   "metadata": {},
   "outputs": [
    {
     "name": "stdout",
     "output_type": "stream",
     "text": [
      "[267, 263, 290, 219, 235, 235, 238, 236, 238, 294, 274, 265, 293, 286, 267, 276, 256, 230, 204, 244, 299, 283, 260, 268, 211, 204, 297, 230, 272, 210, 234, 221, 293, 201, 227, 237, 242, 202, 278, 278, 296, 253, 223, 284, 298, 233, 233, 214, 227, 287, 299, 250, 293, 263, 217, 251, 272, 299, 231, 282, 201, 229, 251, 217, 262, 280, 211, 239, 238, 271, 201, 239, 268, 279, 208, 260, 268, 213, 242, 205, 250, 286, 246, 223, 266, 202, 260, 213, 271, 214, 295, 272, 206, 298, 287, 230, 270, 204, 236, 240, 252, 254, 223, 200, 248, 252, 284, 223, 215, 273, 241, 296, 282, 214, 236, 263, 264, 209, 252, 259, 211, 227, 237, 273, 214, 230, 231, 270, 212, 257, 260, 239, 286, 202, 266, 261, 273, 244, 208, 265, 254, 254, 234, 234, 284, 266, 211, 285, 223, 254, 239, 202, 264, 200, 274, 298, 278, 203, 233, 243, 276, 242, 273, 295, 248, 213, 273, 257, 216, 223, 224, 300, 248, 259, 300, 274, 208, 202, 249, 266, 201, 294, 268, 214, 259, 258, 243, 290, 255, 297, 226, 203, 292, 265, 210, 244, 237, 210, 300, 276, 279, 263, 207, 282, 214, 248, 252, 244, 233, 237, 293, 202, 290, 219, 245, 278, 283, 225, 271, 298, 292, 275, 271, 247, 202, 275, 289, 202, 206, 201, 293, 247, 223, 278, 246, 244, 235, 231, 249, 208, 245, 299, 300, 269, 213, 272, 288, 220, 291, 270, 208, 216, 227, 255, 254, 209, 223, 277, 277, 201, 201, 288, 257, 258, 202, 254, 254, 275, 289, 247, 229, 206, 296, 238, 283, 214, 221, 222, 260, 265, 292, 239, 254, 244, 232, 279, 219, 285, 290, 202, 293, 206, 253, 247, 267, 270, 208, 223, 255, 262, 237, 204, 252, 237, 294, 281, 214, 223, 272, 246, 206, 213, 283, 292, 231, 249, 290, 256, 231, 249, 222, 251, 254, 200, 217, 217, 234, 251, 290, 250, 223, 284, 260, 242, 281, 213, 227, 220, 237, 296, 204, 220, 284, 254, 221, 231, 205, 300, 213, 258, 286, 246, 294, 268, 295, 223, 265, 235, 257, 236, 283, 249, 221, 241, 256, 229, 285, 249, 291, 212, 278, 222, 286, 229, 207, 297, 296, 298, 280, 262, 209, 223, 201, 248, 279, 219, 239, 238, 211, 232, 265, 276, 284, 257, 206, 279, 214, 253, 263, 267, 232, 219, 272, 297, 219, 256, 217, 270, 259, 251, 295, 281, 219, 252, 289, 240, 250, 208, 292, 296, 287, 261, 233, 263, 277, 220, 250, 297, 283, 252, 248, 214, 299, 222, 261, 288, 259, 220, 285, 203, 222, 259, 279, 237, 295, 216, 233, 259, 234, 298, 210, 255, 240, 224, 225, 205, 203, 200, 208, 232, 275, 235, 233, 256, 205, 294, 233, 293, 236, 231, 206, 226, 263, 223, 220, 258, 289, 276, 265, 279, 291, 293, 202, 287, 274, 259, 228, 284, 257, 284, 258, 212, 268, 204, 249, 276, 203, 260, 211, 240]\n"
     ]
    }
   ],
   "source": [
    "#Question 2: Generate a list of 500 integers between 200 and 300\n",
    "int_list2 = random.choices(range(200, 301), k=500)\n",
    "print(int_list2)\n"
   ]
  },
  {
   "cell_type": "code",
   "execution_count": 35,
   "metadata": {},
   "outputs": [
    {
     "data": {
      "image/png": "[encoded data removed]",
      "text/plain": [
       "<Figure size 640x480 with 1 Axes>"
      ]
     },
     "metadata": {},
     "output_type": "display_data"
    }
   ],
   "source": [
    "#(i) Compare visualizations:\n",
    "#1. Frequency & Gaussian distribution:\n",
    "import seaborn as sns\n",
    "import matplotlib.pyplot as plt\n",
    "\n",
    "sns.histplot(int_list2, kde=False, color='blue')\n",
    "plt.title('Frequency Distribution')\n",
    "plt.show()\n"
   ]
  },
  {
   "cell_type": "code",
   "execution_count": 36,
   "metadata": {},
   "outputs": [
    {
     "data": {
      "image/png": "[encoded data removed]",
      "text/plain": [
       "<Figure size 640x480 with 1 Axes>"
      ]
     },
     "metadata": {},
     "output_type": "display_data"
    }
   ],
   "source": [
    "#2. Frequency smoothened KDE plot:\n",
    "sns.kdeplot(int_list2, color='red')\n",
    "plt.title('Smoothened KDE Plot')\n",
    "plt.show()\n"
   ]
  },
  {
   "cell_type": "code",
   "execution_count": 37,
   "metadata": {},
   "outputs": [
    {
     "data": {
      "image/png": "[encoded data removed]",
      "text/plain": [
       "<Figure size 640x480 with 1 Axes>"
      ]
     },
     "metadata": {},
     "output_type": "display_data"
    }
   ],
   "source": [
    "#3. Gaussian distribution & smoothened KDE plot:\n",
    "sns.histplot(int_list2, kde=True)\n",
    "plt.title('Gaussian Distribution & KDE Plot')\n",
    "plt.show()\n"
   ]
  },
  {
   "cell_type": "code",
   "execution_count": 38,
   "metadata": {},
   "outputs": [
    {
     "name": "stdout",
     "output_type": "stream",
     "text": [
      "Range: 100\n"
     ]
    }
   ],
   "source": [
    "#(ii) Function to calculate the range:\n",
    "def calculate_range(numbers):\n",
    "    return max(numbers) - min(numbers)\n",
    "\n",
    "range_value = calculate_range(int_list2)\n",
    "print(\"Range:\", range_value)\n"
   ]
  },
  {
   "cell_type": "code",
   "execution_count": 39,
   "metadata": {},
   "outputs": [
    {
     "name": "stdout",
     "output_type": "stream",
     "text": [
      "Variance: 882.8028959999999\n",
      "Standard Deviation: 29.711999192245546\n"
     ]
    }
   ],
   "source": [
    "#(iii) Variance and Standard Deviation:\n",
    "import numpy as np\n",
    "\n",
    "def calculate_variance(numbers):\n",
    "    return np.var(numbers)\n",
    "\n",
    "def calculate_std_deviation(numbers):\n",
    "    return np.std(numbers)\n",
    "\n",
    "variance = calculate_variance(int_list2)\n",
    "std_deviation = calculate_std_deviation(int_list2)\n",
    "print(\"Variance:\", variance)\n",
    "print(\"Standard Deviation:\", std_deviation)\n"
   ]
  },
  {
   "cell_type": "code",
   "execution_count": 40,
   "metadata": {},
   "outputs": [
    {
     "name": "stdout",
     "output_type": "stream",
     "text": [
      "Interquartile Range (IQR): 52.0\n"
     ]
    }
   ],
   "source": [
    "#(iv) Interquartile Range (IQR):\n",
    "def interquartile_range(numbers):\n",
    "    q75, q25 = np.percentile(numbers, [75, 25])\n",
    "    return q75 - q25\n",
    "\n",
    "iqr = interquartile_range(int_list2)\n",
    "print(\"Interquartile Range (IQR):\", iqr)\n"
   ]
  },
  {
   "cell_type": "code",
   "execution_count": 41,
   "metadata": {},
   "outputs": [
    {
     "name": "stdout",
     "output_type": "stream",
     "text": [
      "Coefficient of Variation (CV): 0.11915876282242306\n"
     ]
    }
   ],
   "source": [
    "#(v) Coefficient of Variation (CV):\n",
    "def coefficient_of_variation(numbers):\n",
    "    mean_value = np.mean(numbers)\n",
    "    std_dev = np.std(numbers)\n",
    "    return std_dev / mean_value\n",
    "\n",
    "cv = coefficient_of_variation(int_list2)\n",
    "print(\"Coefficient of Variation (CV):\", cv)\n"
   ]
  },
  {
   "cell_type": "code",
   "execution_count": 42,
   "metadata": {},
   "outputs": [
    {
     "name": "stdout",
     "output_type": "stream",
     "text": [
      "Mean Absolute Deviation (MAD): 25.627824\n"
     ]
    }
   ],
   "source": [
    "#(vi) Mean Absolute Deviation (MAD):\n",
    "def mean_absolute_deviation(numbers):\n",
    "    mean_value = np.mean(numbers)\n",
    "    return np.mean([abs(x - mean_value) for x in numbers])\n",
    "\n",
    "mad = mean_absolute_deviation(int_list2)\n",
    "print(\"Mean Absolute Deviation (MAD):\", mad)\n"
   ]
  },
  {
   "cell_type": "code",
   "execution_count": 43,
   "metadata": {},
   "outputs": [
    {
     "name": "stdout",
     "output_type": "stream",
     "text": [
      "Quartile Deviation: 26.0\n"
     ]
    }
   ],
   "source": [
    "#vii) Quartile Deviation:\n",
    "def quartile_deviation(numbers):\n",
    "    q75, q25 = np.percentile(numbers, [75, 25])\n",
    "    return (q75 - q25) / 2\n",
    "\n",
    "quartile_dev = quartile_deviation(int_list2)\n",
    "print(\"Quartile Deviation:\", quartile_dev)\n"
   ]
  },
  {
   "cell_type": "code",
   "execution_count": 44,
   "metadata": {},
   "outputs": [
    {
     "name": "stdout",
     "output_type": "stream",
     "text": [
      "Range-Based Coefficient of Dispersion: 0.2\n"
     ]
    }
   ],
   "source": [
    "#(viii) Range-Based Coefficient of Dispersion:\n",
    "def range_based_coefficient_of_dispersion(numbers):\n",
    "    range_value = max(numbers) - min(numbers)\n",
    "    return range_value / (max(numbers) + min(numbers))\n",
    "\n",
    "rbc_dispersion = range_based_coefficient_of_dispersion(int_list2)\n",
    "print(\"Range-Based Coefficient of Dispersion:\", rbc_dispersion)\n"
   ]
  },
  {
   "cell_type": "code",
   "execution_count": 45,
   "metadata": {},
   "outputs": [
    {
     "name": "stdout",
     "output_type": "stream",
     "text": [
      "Expected Value: 2.2\n",
      "Variance: 1.56\n"
     ]
    }
   ],
   "source": [
    "#Question 3:  Write a Python class representing a discrete random variable with methods to calculate its expected value and variance.\n",
    "class DiscreteRandomVariable:\n",
    "    def __init__(self, outcomes, probabilities):\n",
    "        self.outcomes = outcomes\n",
    "        self.probabilities = probabilities\n",
    "    \n",
    "    def expected_value(self):\n",
    "        return sum(o * p for o, p in zip(self.outcomes, self.probabilities))\n",
    "    \n",
    "    def variance(self):\n",
    "        expected_value = self.expected_value()\n",
    "        return sum(p * (o - expected_value) ** 2 for o, p in zip(self.outcomes, self.probabilities))\n",
    "\n",
    "# Example usage:\n",
    "outcomes = [0, 1, 2, 3, 4]\n",
    "probabilities = [0.1, 0.2, 0.3, 0.2, 0.2]\n",
    "rv = DiscreteRandomVariable(outcomes, probabilities)\n",
    "print(\"Expected Value:\", rv.expected_value())\n",
    "print(\"Variance:\", rv.variance())\n"
   ]
  },
  {
   "cell_type": "code",
   "execution_count": 46,
   "metadata": {},
   "outputs": [
    {
     "name": "stdout",
     "output_type": "stream",
     "text": [
      "Expected Value (Die Rolls): 3.455\n",
      "Variance (Die Rolls): 2.881975\n"
     ]
    }
   ],
   "source": [
    "#Question 4: Implement a program to simulate the rolling o6 a 6air six-sided die and calculate the expected value and variance o6 the outcomes.\n",
    "import numpy as np\n",
    "\n",
    "# Simulate 1000 rolls of a fair six-sided die\n",
    "die_rolls = np.random.randint(1, 7, 1000)\n",
    "\n",
    "# Calculate the expected value and variance\n",
    "expected_value_die = np.mean(die_rolls)\n",
    "variance_die = np.var(die_rolls)\n",
    "print(\"Expected Value (Die Rolls):\", expected_value_die)\n",
    "print(\"Variance (Die Rolls):\", variance_die)\n"
   ]
  },
  {
   "cell_type": "code",
   "execution_count": 47,
   "metadata": {},
   "outputs": [
    {
     "name": "stdout",
     "output_type": "stream",
     "text": [
      "Binomial - Mean: 4.993 Variance: 2.382951\n",
      "Poisson - Mean: 3.012 Variance: 2.943856\n"
     ]
    }
   ],
   "source": [
    "#Question 5: Create a Python 6unction to generate random samples 6rom a given probability distribution (e.g., binomial, Poisson) and calculate their mean and variance.\n",
    "from scipy.stats import binom, poisson\n",
    "\n",
    "# Generate random samples from a binomial distribution\n",
    "binomial_samples = binom.rvs(n=10, p=0.5, size=1000)\n",
    "\n",
    "# Generate random samples from a Poisson distribution\n",
    "poisson_samples = poisson.rvs(mu=3, size=1000)\n",
    "\n",
    "# Calculate the mean and variance for both distributions\n",
    "print(\"Binomial - Mean:\", np.mean(binomial_samples), \"Variance:\", np.var(binomial_samples))\n",
    "print(\"Poisson - Mean:\", np.mean(poisson_samples), \"Variance:\", np.var(poisson_samples))\n"
   ]
  },
  {
   "cell_type": "code",
   "execution_count": 48,
   "metadata": {},
   "outputs": [
    {
     "name": "stdout",
     "output_type": "stream",
     "text": [
      "Mean (Gaussian): -0.028893100458283045\n",
      "Variance (Gaussian): 1.0030411173761178\n",
      "Standard Deviation (Gaussian): 1.0015194043932039\n"
     ]
    }
   ],
   "source": [
    "#Question 6:  Write a Python script to generate random numbers 6rom a Gaussian (normal) distribution and compute he mean, variance, and standard deviation o6 the samples.\n",
    "# Generate random numbers from a normal (Gaussian) distribution\n",
    "normal_samples = np.random.normal(loc=0, scale=1, size=1000)\n",
    "\n",
    "# Calculate mean, variance, and standard deviation\n",
    "mean_gaussian = np.mean(normal_samples)\n",
    "variance_gaussian = np.var(normal_samples)\n",
    "std_gaussian = np.std(normal_samples)\n",
    "print(\"Mean (Gaussian):\", mean_gaussian)\n",
    "print(\"Variance (Gaussian):\", variance_gaussian)\n",
    "print(\"Standard Deviation (Gaussian):\", std_gaussian)\n"
   ]
  },
  {
   "cell_type": "code",
   "execution_count": 49,
   "metadata": {},
   "outputs": [
    {
     "name": "stdout",
     "output_type": "stream",
     "text": [
      "Skewness of total_bill: 1.1262346334818638\n",
      "Skewness of tip: 1.4564266884221506\n"
     ]
    }
   ],
   "source": [
    "#Question 7: Use seaborn library to load tips dataset. Find the 6ollowing 6rom the dataset 6or the columns total_bill and tip`:\n",
    "#1.Skewness of total_bill and tip columns from seaborn's tips dataset\n",
    "import seaborn as sns\n",
    "from scipy.stats import skew\n",
    "\n",
    "# Load tips dataset\n",
    "tips = sns.load_dataset('tips')\n",
    "\n",
    "# Skewness of total_bill and tip columns\n",
    "skew_total_bill = skew(tips['total_bill'])\n",
    "skew_tip = skew(tips['tip'])\n",
    "\n",
    "print(\"Skewness of total_bill:\", skew_total_bill)\n",
    "print(\"Skewness of tip:\", skew_tip)\n"
   ]
  },
  {
   "cell_type": "code",
   "execution_count": 50,
   "metadata": {},
   "outputs": [
    {
     "name": "stdout",
     "output_type": "stream",
     "text": [
      "Skewness of total_bill: Positive Skewness\n",
      "Skewness of tip: Positive Skewness\n"
     ]
    }
   ],
   "source": [
    "#2.Determine skewness type for total_bill and tip\n",
    "def skewness_type(column):\n",
    "    skew_value = skew(column)\n",
    "    if skew_value > 0:\n",
    "        return \"Positive Skewness\"\n",
    "    elif skew_value < 0:\n",
    "        return \"Negative Skewness\"\n",
    "    else:\n",
    "        return \"Approximately Symmetric\"\n",
    "\n",
    "skewness_total_bill = skewness_type(tips['total_bill'])\n",
    "skewness_tip = skewness_type(tips['tip'])\n",
    "\n",
    "print(\"Skewness of total_bill:\", skewness_total_bill)\n",
    "print(\"Skewness of tip:\", skewness_tip)\n"
   ]
  },
  {
   "cell_type": "code",
   "execution_count": 51,
   "metadata": {},
   "outputs": [
    {
     "name": "stdout",
     "output_type": "stream",
     "text": [
      "Covariance between total_bill and tip: 8.323501629224854\n"
     ]
    }
   ],
   "source": [
    "#3.Calculate covariance between two columns\n",
    "def calculate_covariance(col1, col2):\n",
    "    return np.cov(col1, col2)[0][1]\n",
    "\n",
    "covariance = calculate_covariance(tips['total_bill'], tips['tip'])\n",
    "print(\"Covariance between total_bill and tip:\", covariance)\n"
   ]
  },
  {
   "cell_type": "code",
   "execution_count": 52,
   "metadata": {},
   "outputs": [
    {
     "name": "stdout",
     "output_type": "stream",
     "text": [
      "Pearson Correlation Coefficient: 0.6757341092113641\n"
     ]
    }
   ],
   "source": [
    "#4.Calculate Pearson correlation coefficient\n",
    "def calculate_pearson_corr(col1, col2):\n",
    "    return np.corrcoef(col1, col2)[0][1]\n",
    "\n",
    "pearson_corr = calculate_pearson_corr(tips['total_bill'], tips['tip'])\n",
    "print(\"Pearson Correlation Coefficient:\", pearson_corr)\n"
   ]
  },
  {
   "cell_type": "code",
   "execution_count": 53,
   "metadata": {},
   "outputs": [
    {
     "data": {
      "image/png": "[encoded data removed]",
      "text/plain": [
       "<Figure size 640x480 with 1 Axes>"
      ]
     },
     "metadata": {},
     "output_type": "display_data"
    }
   ],
   "source": [
    "#5.Visualize correlation using scatter plot\n",
    "import matplotlib.pyplot as plt\n",
    "\n",
    "plt.scatter(tips['total_bill'], tips['tip'])\n",
    "plt.title('Scatter Plot: total_bill vs tip')\n",
    "plt.xlabel('Total Bill')\n",
    "plt.ylabel('Tip')\n",
    "plt.show()\n"
   ]
  },
  {
   "cell_type": "code",
   "execution_count": 54,
   "metadata": {},
   "outputs": [
    {
     "name": "stdout",
     "output_type": "stream",
     "text": [
      "[0.00443185 0.00530579 0.00632878 0.00752133 0.00890582 0.0105065\n",
      " 0.01234943 0.01446241 0.01687483 0.01961746 0.02272223 0.02622189\n",
      " 0.03014961 0.03453857 0.03942137 0.0448295  0.05079264 0.05733801\n",
      " 0.06448952 0.07226707 0.08068571 0.08975477 0.09947714 0.10984842\n",
      " 0.12085626 0.13247967 0.14468855 0.15744319 0.17069405 0.18438164\n",
      " 0.1984366  0.21277993 0.22732351 0.24197072 0.2566174  0.27115285\n",
      " 0.28546117 0.29942268 0.31291556 0.3258175  0.33800759 0.34936814\n",
      " 0.35978656 0.36915722 0.37738323 0.38437808 0.3900672  0.39438923\n",
      " 0.39729716 0.39875915 0.39875915 0.39729716 0.39438923 0.3900672\n",
      " 0.38437808 0.37738323 0.36915722 0.35978656 0.34936814 0.33800759\n",
      " 0.3258175  0.31291556 0.29942268 0.28546117 0.27115285 0.2566174\n",
      " 0.24197072 0.22732351 0.21277993 0.1984366  0.18438164 0.17069405\n",
      " 0.15744319 0.14468855 0.13247967 0.12085626 0.10984842 0.09947714\n",
      " 0.08975477 0.08068571 0.07226707 0.06448952 0.05733801 0.05079264\n",
      " 0.0448295  0.03942137 0.03453857 0.03014961 0.02622189 0.02272223\n",
      " 0.01961746 0.01687483 0.01446241 0.01234943 0.0105065  0.00890582\n",
      " 0.00752133 0.00632878 0.00530579 0.00443185]\n"
     ]
    }
   ],
   "source": [
    "#Question 8: Probability Density Function (PDF) of a normal distribution\n",
    "from scipy.stats import norm\n",
    "\n",
    "def normal_pdf(x, mean, std_dev):\n",
    "    return norm.pdf(x, loc=mean, scale=std_dev)\n",
    "\n",
    "# Example usage:\n",
    "x_values = np.linspace(-3, 3, 100)\n",
    "pdf_values = normal_pdf(x_values, 0, 1)\n",
    "print(pdf_values)\n"
   ]
  },
  {
   "cell_type": "code",
   "execution_count": 55,
   "metadata": {},
   "outputs": [
    {
     "name": "stdout",
     "output_type": "stream",
     "text": [
      "[0.         0.0960761  0.18292158 0.26142329 0.33238285 0.3965249\n",
      " 0.45450444 0.50691352 0.55428735 0.59710968 0.63581781 0.67080701\n",
      " 0.70243459 0.73102351 0.75686572 0.78022512 0.80134023 0.82042669\n",
      " 0.83767939 0.85327452 0.86737133 0.88011378 0.89163198 0.90204355\n",
      " 0.91145483 0.9199619  0.92765165 0.9346026  0.94088572 0.94656519\n",
      " 0.951699   0.95633957 0.9605343  0.96432601 0.96775342 0.97085155\n",
      " 0.97365202 0.97618343 0.97847163 0.98053999 0.98240964 0.98409965\n",
      " 0.98562729 0.98700817 0.98825637 0.98938465 0.99040453 0.99132643\n",
      " 0.99215975 0.99291301 0.9935939  0.99420938 0.99476572 0.99526861\n",
      " 0.99572318 0.99613408 0.9965055  0.99684124 0.99714472 0.99741905\n",
      " 0.99766701 0.99789116 0.99809377 0.99827691 0.99844246 0.9985921\n",
      " 0.99872737 0.99884964 0.99896016 0.99906006 0.99915037 0.999232\n",
      " 0.99930578 0.99937248 0.99943277 0.99948727 0.99953653 0.99958106\n",
      " 0.99962131 0.99965769 0.99969058 0.99972031 0.99974718 0.99977147\n",
      " 0.99979343 0.99981327 0.99983121 0.99984743 0.99986209 0.99987534\n",
      " 0.99988731 0.99989814 0.99990793 0.99991677 0.99992477 0.999932\n",
      " 0.99993853 0.99994444 0.99994977 0.9999546 ]\n"
     ]
    }
   ],
   "source": [
    "#Question 9: Cumulative Distribution Function (CDF) of an exponential distribution\n",
    "from scipy.stats import expon\n",
    "\n",
    "def exponential_cdf(x, scale):\n",
    "    return expon.cdf(x, scale=scale)\n",
    "\n",
    "# Example usage:\n",
    "x_values = np.linspace(0, 10, 100)\n",
    "cdf_values = exponential_cdf(x_values, scale=1)\n",
    "print(cdf_values)\n"
   ]
  },
  {
   "cell_type": "code",
   "execution_count": 56,
   "metadata": {},
   "outputs": [
    {
     "name": "stdout",
     "output_type": "stream",
     "text": [
      "[0.049787068367863944, 0.14936120510359185, 0.22404180765538775, 0.22404180765538775, 0.16803135574154085, 0.10081881344492458, 0.05040940672246224, 0.02160403145248382, 0.008101511794681432, 0.002700503931560479]\n"
     ]
    }
   ],
   "source": [
    "#Question 10: Probability Mass Function (PMF) of a Poisson distribution\n",
    "from scipy.stats import poisson  # Import poisson from scipy.stats\n",
    "\n",
    "def poisson_pmf(k, mu):\n",
    "    return poisson.pmf(k, mu)\n",
    "\n",
    "# Example usage:\n",
    "k_values = range(10)\n",
    "pmf_values = [poisson_pmf(k, 3) for k in k_values]\n",
    "print(pmf_values)\n",
    "\n",
    "\n"
   ]
  },
  {
   "cell_type": "code",
   "execution_count": 57,
   "metadata": {},
   "outputs": [
    {
     "name": "stdout",
     "output_type": "stream",
     "text": [
      "Z-statistic: 1.883837962960912\n",
      "P-value: 0.05958689675745177\n"
     ]
    }
   ],
   "source": [
    "#Question 11: Apply z-test on website layout success\n",
    "import numpy as np\n",
    "from statsmodels.stats.weightstats import ztest\n",
    "\n",
    "# Old layout and new layout data\n",
    "old_layout = np.array([1] * 50 + [0] * 950)\n",
    "new_layout = np.array([1] * 70 + [0] * 930)\n",
    "\n",
    "# Perform z-test\n",
    "z_stat, p_value = ztest(new_layout, old_layout)\n",
    "print(\"Z-statistic:\", z_stat)\n",
    "print(\"P-value:\", p_value)\n"
   ]
  },
  {
   "cell_type": "code",
   "execution_count": 58,
   "metadata": {},
   "outputs": [
    {
     "name": "stdout",
     "output_type": "stream",
     "text": [
      "Z-statistic: 1.3600371723457605\n",
      "P-value: 0.17381816101827674\n"
     ]
    }
   ],
   "source": [
    "#Question 12: Z-test on exam score improvement\n",
    "# Before and after program exam scores\n",
    "before_program = np.array([75, 80, 85, 70, 90, 78, 92, 88, 82, 87])\n",
    "after_program = np.array([80, 85, 90, 80, 92, 80, 95, 90, 85, 88])\n",
    "\n",
    "# Perform z-test\n",
    "z_stat, p_value = ztest(after_program, before_program)\n",
    "print(\"Z-statistic:\", z_stat)\n",
    "print(\"P-value:\", p_value)\n"
   ]
  },
  {
   "cell_type": "code",
   "execution_count": 59,
   "metadata": {},
   "outputs": [
    {
     "name": "stdout",
     "output_type": "stream",
     "text": [
      "Z-statistic: -2.639577121919447\n",
      "P-value: 0.008300953387191556\n"
     ]
    }
   ],
   "source": [
    "#Question 13: Z-test on blood pressure reduction\n",
    "before_drug = np.array([145, 150, 140, 135, 155, 160, 152, 148, 130, 138])\n",
    "after_drug = np.array([130, 140, 132, 128, 145, 148, 138, 136, 125, 130])\n",
    "\n",
    "# Perform z-test\n",
    "z_stat, p_value = ztest(after_drug, before_drug)\n",
    "print(\"Z-statistic:\", z_stat)\n",
    "print(\"P-value:\", p_value)\n"
   ]
  },
  {
   "cell_type": "code",
   "execution_count": 60,
   "metadata": {},
   "outputs": [
    {
     "name": "stdout",
     "output_type": "stream",
     "text": [
      "Z-statistic: -3.1844572260429627\n",
      "P-value: 0.0014502574226137916\n"
     ]
    }
   ],
   "source": [
    "#Question 14: Z-test for customer service response time\n",
    "response_times = np.array([4.3, 3.8, 5.1, 4.9, 4.7, 4.2, 5.2, 4.5, 4.6, 4.4])\n",
    "\n",
    "# Perform z-test (mean claimed is 5)\n",
    "z_stat, p_value = ztest(response_times, value=5)\n",
    "print(\"Z-statistic:\", z_stat)\n",
    "print(\"P-value:\", p_value)\n"
   ]
  },
  {
   "cell_type": "code",
   "execution_count": 61,
   "metadata": {},
   "outputs": [
    {
     "name": "stdout",
     "output_type": "stream",
     "text": [
      "T-statistic: -7.298102156175071\n",
      "P-value: 8.833437608301987e-07\n"
     ]
    }
   ],
   "source": [
    "#Question 15: A/B test for click-through rates\n",
    "from scipy.stats import ttest_ind\n",
    "\n",
    "layout_a_clicks = [28, 32, 33, 29, 31, 34, 30, 35, 36, 37]\n",
    "layout_b_clicks = [40, 41, 38, 42, 39, 44, 43, 41, 45, 47]\n",
    "\n",
    "# Perform t-test\n",
    "t_stat, p_value = ttest_ind(layout_a_clicks, layout_b_clicks)\n",
    "print(\"T-statistic:\", t_stat)\n",
    "print(\"P-value:\", p_value)\n"
   ]
  },
  {
   "cell_type": "code",
   "execution_count": 62,
   "metadata": {},
   "outputs": [
    {
     "name": "stdout",
     "output_type": "stream",
     "text": [
      "T-statistic: 4.14048098620866\n",
      "P-value: 0.0006143398442372505\n"
     ]
    }
   ],
   "source": [
    "#Question 16: T-test for cholesterol level reduction\n",
    "existing_drug_levels = [180, 182, 175, 185, 178, 176, 172, 184, 179, 183]\n",
    "new_drug_levels = [170, 172, 165, 168, 175, 173, 170, 178, 172, 176]\n",
    "\n",
    "# Perform t-test\n",
    "t_stat, p_value = ttest_ind(existing_drug_levels, new_drug_levels)\n",
    "print(\"T-statistic:\", t_stat)\n",
    "print(\"P-value:\", p_value)\n"
   ]
  },
  {
   "cell_type": "code",
   "execution_count": 63,
   "metadata": {},
   "outputs": [
    {
     "name": "stdout",
     "output_type": "stream",
     "text": [
      "T-statistic: -4.080355128162116\n",
      "P-value: 0.0007022570725706455\n"
     ]
    }
   ],
   "source": [
    "#Question 17: T-test for pre- and post-intervention scores\n",
    "pre_intervention_scores = [80, 85, 90, 75, 88, 82, 92, 78, 85, 87]\n",
    "post_intervention_scores = [90, 92, 88, 92, 95, 91, 96, 93, 89, 93]\n",
    "\n",
    "# Perform t-test\n",
    "t_stat, p_value = ttest_ind(pre_intervention_scores, post_intervention_scores)\n",
    "print(\"T-statistic:\", t_stat)\n",
    "print(\"P-value:\", p_value)\n"
   ]
  },
  {
   "cell_type": "code",
   "execution_count": 64,
   "metadata": {},
   "outputs": [
    {
     "name": "stdout",
     "output_type": "stream",
     "text": [
      "T-statistic: -2.1330938884387614\n",
      "P-value: 0.03943563982367254\n"
     ]
    }
   ],
   "source": [
    "#Question 18: Gender-based salary gap analysis (T-test)\n",
    "male_salaries = np.random.normal(loc=50000, scale=10000, size=20)\n",
    "female_salaries = np.random.normal(loc=55000, scale=9000, size=20)\n",
    "\n",
    "# Perform t-test\n",
    "t_stat, p_value = ttest_ind(male_salaries, female_salaries)\n",
    "print(\"T-statistic:\", t_stat)\n",
    "print(\"P-value:\", p_value)\n"
   ]
  },
  {
   "cell_type": "code",
   "execution_count": 65,
   "metadata": {},
   "outputs": [
    {
     "name": "stdout",
     "output_type": "stream",
     "text": [
      "T-statistic: 11.325830417646698\n",
      "P-value: 3.6824250702873965e-15\n"
     ]
    }
   ],
   "source": [
    "#Question 19: T-test for product quality scores\n",
    "version1_scores = [85, 88, 82, 89, 87, 84, 90, 88, 85, 86, 91, 83, 87, 84, 89, 86, 84, 88, 85, 86, 89, 90, 87, 88, 85]\n",
    "version2_scores = [80, 78, 83, 81, 79, 82, 76, 80, 78, 81, 77, 82, 80, 79, 82, 79, 80, 81, 79, 82, 79, 78, 80, 81, 82]\n",
    "\n",
    "# Perform t-test\n",
    "t_stat, p_value = ttest_ind(version1_scores, version2_scores)\n",
    "print(\"T-statistic:\", t_stat)\n",
    "print(\"P-value:\", p_value)\n"
   ]
  },
  {
   "cell_type": "code",
   "execution_count": 66,
   "metadata": {},
   "outputs": [
    {
     "name": "stdout",
     "output_type": "stream",
     "text": [
      "T-statistic: 5.480077554195743\n",
      "P-value: 8.895290509945657e-07\n",
      "There is a statistically significant difference between the branches.\n"
     ]
    }
   ],
   "source": [
    "#20. Write a program to analyze the scores, calculate the t-statistic, and determine i@ there's a statistically significant difference in customer satis@action between the branches\n",
    "\n",
    "from scipy.stats import ttest_ind\n",
    "\n",
    "# Scores for branch A and branch B\n",
    "branch_a_scores = [4, 5, 3, 4, 5, 4, 5, 3, 4, 4, 5, 4, 4, 3, 4, 5, 5, 4, 3, 4, 5, 4, 3, 5, 4, 4, 5, 3, 4, 5, 4]\n",
    "branch_b_scores = [3, 4, 2, 3, 4, 3, 4, 2, 3, 3, 4, 3, 3, 2, 3, 4, 4, 3, 2, 3, 4, 3, 2, 4, 3, 3, 4, 2, 3, 4, 3]\n",
    "\n",
    "# Perform t-test\n",
    "t_stat, p_value = ttest_ind(branch_a_scores, branch_b_scores)\n",
    "\n",
    "# Display the results\n",
    "print(\"T-statistic:\", t_stat)\n",
    "print(\"P-value:\", p_value)\n",
    "\n",
    "# Check if the difference is statistically significant (typically p-value < 0.05)\n",
    "if p_value < 0.05:\n",
    "    print(\"There is a statistically significant difference between the branches.\")\n",
    "else:\n",
    "    print(\"There is no statistically significant difference between the branches.\")\n"
   ]
  },
  {
   "cell_type": "code",
   "execution_count": 67,
   "metadata": {},
   "outputs": [
    {
     "name": "stdout",
     "output_type": "stream",
     "text": [
      "Chi-Square Statistic: 4.663736263736264\n",
      "P-value: 0.09711415547511369\n"
     ]
    }
   ],
   "source": [
    "#Question 21: Chi-Square test for age groups and voter preferences\n",
    "import pandas as pd\n",
    "from scipy.stats import chi2_contingency\n",
    "\n",
    "age_groups = np.random.choice(['18-30', '31-50', '51+'], size=30)\n",
    "voter_preferences = np.random.choice(['Candidate A', 'Candidate B'], size=30)\n",
    "\n",
    "# Create a contingency table\n",
    "contingency_table = pd.crosstab(age_groups, voter_preferences)\n",
    "\n",
    "# Perform Chi-Square test\n",
    "chi2_stat, p_value, dof, expected = chi2_contingency(contingency_table)\n",
    "print(\"Chi-Square Statistic:\", chi2_stat)\n",
    "print(\"P-value:\", p_value)\n"
   ]
  },
  {
   "cell_type": "code",
   "execution_count": 68,
   "metadata": {},
   "outputs": [
    {
     "name": "stdout",
     "output_type": "stream",
     "text": [
      "Chi-Square Statistic: 27.777056277056275\n",
      "P-value: 0.00010349448486004387\n"
     ]
    }
   ],
   "source": [
    "#Question 22: Chi-Square test for product satisfaction and regions\n",
    "data = np.array([[50, 30, 40, 20], [30, 40, 30, 50], [20, 30, 40, 30]])\n",
    "\n",
    "# Perform Chi-Square test\n",
    "chi2_stat, p_value, dof, expected = chi2_contingency(data)\n",
    "print(\"Chi-Square Statistic:\", chi2_stat)\n",
    "print(\"P-value:\", p_value)\n"
   ]
  },
  {
   "cell_type": "code",
   "execution_count": 69,
   "metadata": {},
   "outputs": [
    {
     "name": "stdout",
     "output_type": "stream",
     "text": [
      "Chi-Square Statistic: 22.161728395061726\n",
      "P-value: 0.00018609719479882554\n"
     ]
    }
   ],
   "source": [
    "#Question 23: Chi-Square test for job performance before and after training\n",
    "data = np.array([[50, 30, 20], [30, 40, 30], [20, 30, 40]])\n",
    "\n",
    "# Perform Chi-Square test\n",
    "chi2_stat, p_value, dof, expected = chi2_contingency(data)\n",
    "print(\"Chi-Square Statistic:\", chi2_stat)\n",
    "print(\"P-value:\", p_value)\n"
   ]
  },
  {
   "cell_type": "code",
   "execution_count": 70,
   "metadata": {},
   "outputs": [
    {
     "name": "stdout",
     "output_type": "stream",
     "text": [
      "F-statistic: 27.03556231003039\n",
      "P-value: 3.578632885734896e-07\n"
     ]
    }
   ],
   "source": [
    "#Question 24: ANOVA test for customer satisfaction\n",
    "from scipy.stats import f_oneway\n",
    "\n",
    "standard_scores = [80, 85, 90, 78, 88, 82, 92, 78, 85, 87]\n",
    "premium_scores = [90, 92, 88, 92, 95, 91, 96, 93, 89, 93]\n",
    "deluxe_scores = [95, 98, 92, 97, 96, 94, 98, 97, 92, 99]\n",
    "\n",
    "# Perform ANOVA\n",
    "f_stat, p_value = f_oneway(standard_scores, premium_scores, deluxe_scores)\n",
    "print(\"F-statistic:\", f_stat)\n",
    "print(\"P-value:\", p_value)\n"
   ]
  }
 ],
 "metadata": {
  "kernelspec": {
   "display_name": "Python 3",
   "language": "python",
   "name": "python3"
  },
  "language_info": {
   "codemirror_mode": {
    "name": "ipython",
    "version": 3
   },
   "file_extension": ".py",
   "mimetype": "text/x-python",
   "name": "python",
   "nbconvert_exporter": "python",
   "pygments_lexer": "ipython3",
   "version": "3.12.4"
  }
 },
 "nbformat": 4,
 "nbformat_minor": 2
}
