{
 "cells": [
  {
   "cell_type": "code",
   "execution_count": 2,
   "metadata": {},
   "outputs": [
    {
     "name": "stdout",
     "output_type": "stream",
     "text": [
      "\n"
     ]
    }
   ],
   "source": [
    "#Q.1)Write a code to read the contents of a file in Python.\n",
    "def read_file(file_path):\n",
    "    with open(file_path, 'r') as file:\n",
    "        content = file.read()\n",
    "    return content\n",
    "\n",
    "# Example usage:\n",
    "file_content = read_file('example.txt')\n",
    "print(file_content)\n"
   ]
  },
  {
   "cell_type": "code",
   "execution_count": 3,
   "metadata": {},
   "outputs": [],
   "source": [
    "#Q.2)Write a code to write to a file in Python.\n",
    "def write_to_file(file_path, content):\n",
    "    with open(file_path, 'w') as file:\n",
    "        file.write(content)\n",
    "\n",
    "write_to_file('example.txt', 'This is some text.')\n"
   ]
  },
  {
   "cell_type": "code",
   "execution_count": 4,
   "metadata": {},
   "outputs": [],
   "source": [
    "#Q.3)Write a code to append to a file in Python.\n",
    "def append_to_file(file_path, content):\n",
    "    with open(file_path, 'a') as file:\n",
    "        file.write(content)\n",
    "\n",
    "append_to_file('example.txt', ' This is appended text.')\n"
   ]
  },
  {
   "cell_type": "code",
   "execution_count": 8,
   "metadata": {},
   "outputs": [],
   "source": [
    "#Q.4)Write a code to read a binary file in Python.\n",
    "def read_binary_file(file_path):\n",
    "    with open(file_path, 'rb') as file:\n",
    "        content = file.read()\n",
    "    return content\n",
    "\n",
    "binary_content = read_binary_file('exmple.bin')\n"
   ]
  },
  {
   "cell_type": "code",
   "execution_count": 9,
   "metadata": {},
   "outputs": [],
   "source": [
    "#Q.8)Write a Python function to read a text file using buffered reading and return its contents\n",
    "def read_with_buffer(file_path, buffer_size=1024):\n",
    "    with open(file_path, 'r', buffering=buffer_size) as file:\n",
    "        content = file.read()\n",
    "    return content\n",
    "\n",
    "buffered_content = read_with_buffer('example.txt')\n"
   ]
  },
  {
   "cell_type": "code",
   "execution_count": 10,
   "metadata": {},
   "outputs": [],
   "source": [
    "#Q.10) Write a Python code snippet to append content to a file using buffered writing.\n",
    "def append_with_buffer(file_path, content, buffer_size=1024):\n",
    "    with open(file_path, 'a', buffering=buffer_size) as file:\n",
    "        file.write(content)\n",
    "\n",
    "append_with_buffer('example.txt', ' Buffered append text.')\n"
   ]
  },
  {
   "cell_type": "code",
   "execution_count": 11,
   "metadata": {},
   "outputs": [],
   "source": [
    "#Q.11)Write a Python function that demonstrates the use of the close() method on a file.\n",
    "def write_and_close(file_path, content):\n",
    "    file = open(file_path, 'w')\n",
    "    file.write(content)\n",
    "    file.close()\n",
    "\n",
    "write_and_close('example.txt', 'Closing the file after writing.')\n"
   ]
  },
  {
   "cell_type": "code",
   "execution_count": 12,
   "metadata": {},
   "outputs": [],
   "source": [
    "#Q.12)Create a Python function to showcase the detach() method on a file object.\n",
    "def detach_example(file_path):\n",
    "    file = open(file_path, 'r')\n",
    "    file_obj = file.detach()\n",
    "    return file_obj\n",
    "\n",
    "file_object = detach_example('example.txt')\n"
   ]
  },
  {
   "cell_type": "code",
   "execution_count": 13,
   "metadata": {},
   "outputs": [],
   "source": [
    "#Q.13) Write a Python function to demonstrate the use of the seek() method to change the file position.\n",
    "def seek_example(file_path, position):\n",
    "    with open(file_path, 'r') as file:\n",
    "        file.seek(position)\n",
    "        content = file.read()\n",
    "    return content\n",
    "\n",
    "seek_content = seek_example('example.txt', 10)\n"
   ]
  },
  {
   "cell_type": "code",
   "execution_count": 14,
   "metadata": {},
   "outputs": [],
   "source": [
    "#Q.14) Create a Python function to return the file descriptor (integer number) of a file using the fileno() method.\n",
    "def get_file_descriptor(file_path):\n",
    "    with open(file_path, 'r') as file:\n",
    "        return file.fileno()\n",
    "\n",
    "fd = get_file_descriptor('example.txt')\n"
   ]
  },
  {
   "cell_type": "code",
   "execution_count": 15,
   "metadata": {},
   "outputs": [],
   "source": [
    "#Q.15)Write a Python function to return the current position of the file's object using the tell() method.\n",
    "def get_current_position(file_path):\n",
    "    with open(file_path, 'r') as file:\n",
    "        file.read(10)\n",
    "        return file.tell()\n",
    "\n",
    "position = get_current_position('example.txt')\n"
   ]
  },
  {
   "cell_type": "code",
   "execution_count": 16,
   "metadata": {},
   "outputs": [],
   "source": [
    "#Q.16)Create a Python program that logs a message to a file using the logging module.\n",
    "import logging\n",
    "\n",
    "def log_message(file_path, message):\n",
    "    logging.basicConfig(filename=file_path, level=logging.INFO)\n",
    "    logging.info(message)\n",
    "\n",
    "log_message('logfile.log', 'This is a log message.')\n"
   ]
  },
  {
   "cell_type": "code",
   "execution_count": 1,
   "metadata": {},
   "outputs": [
    {
     "name": "stdout",
     "output_type": "stream",
     "text": [
      "> \u001b[1;32mc:\\users\\sudee\\appdata\\local\\temp\\ipykernel_21636\\1820367173.py\u001b[0m(4)\u001b[0;36mfind_variable\u001b[1;34m()\u001b[0m\n",
      "\n"
     ]
    }
   ],
   "source": [
    "#Q.18)Create a Python program that uses the debugger to find the value of a variable inside a loop.\n",
    "def find_variable():\n",
    "    import pdb; pdb.set_trace()\n",
    "    for i in range(5):\n",
    "        x = i * 10\n",
    "        print(x)\n",
    "\n",
    "find_variable()\n"
   ]
  },
  {
   "cell_type": "code",
   "execution_count": 1,
   "metadata": {},
   "outputs": [
    {
     "name": "stdout",
     "output_type": "stream",
     "text": [
      "> \u001b[1;32mc:\\users\\sudee\\appdata\\local\\temp\\ipykernel_24712\\1954391166.py\u001b[0m(4)\u001b[0;36minspect_with_debugger\u001b[1;34m()\u001b[0m\n",
      "\n",
      "0\n",
      "12\n",
      "0\n"
     ]
    }
   ],
   "source": [
    "#Q.19)Create a Python program that demonstrates setting breakpoints and inspecting variables using the debugger.\n",
    "def inspect_with_debugger():\n",
    "    import pdb; pdb.set_trace()\n",
    "    x = 100\n",
    "    y = 200\n",
    "    z = x + y\n",
    "    return z\n",
    "\n",
    "inspect_with_debugger()\n"
   ]
  },
  {
   "cell_type": "code",
   "execution_count": 1,
   "metadata": {},
   "outputs": [
    {
     "name": "stdout",
     "output_type": "stream",
     "text": [
      "> \u001b[1;32mc:\\users\\sudee\\appdata\\local\\temp\\ipykernel_26716\\1024046909.py\u001b[0m(4)\u001b[0;36mrecursive_debugger\u001b[1;34m()\u001b[0m\n",
      "\n"
     ]
    }
   ],
   "source": [
    "#Q.20)Create a Python program that uses the debugger to trace a recursive function.\n",
    "def recursive_debugger(n):\n",
    "    import pdb; pdb.set_trace()\n",
    "    if n == 0:\n",
    "        return 1\n",
    "    else:\n",
    "        return n * recursive_debugger(n - 1)\n",
    "\n",
    "result = recursive_debugger(5)\n"
   ]
  },
  {
   "cell_type": "code",
   "execution_count": 1,
   "metadata": {},
   "outputs": [
    {
     "data": {
      "text/plain": [
       "'Division by zero is not allowed'"
      ]
     },
     "execution_count": 1,
     "metadata": {},
     "output_type": "execute_result"
    }
   ],
   "source": [
    "#Q.21) Write a try-except block to handle a ZeroDivisionError.\n",
    "def handle_zero_division():\n",
    "    try:\n",
    "        result = 10 / 0\n",
    "    except ZeroDivisionError:\n",
    "        return 'Division by zero is not allowed'\n",
    "\n",
    "handle_zero_division()\n"
   ]
  },
  {
   "cell_type": "code",
   "execution_count": 2,
   "metadata": {},
   "outputs": [
    {
     "data": {
      "text/plain": [
       "'Closing the file after writing.'"
      ]
     },
     "execution_count": 2,
     "metadata": {},
     "output_type": "execute_result"
    }
   ],
   "source": [
    "#Q.23)Implement a try-except-else block to open and read a file.\n",
    "def read_file_with_else(file_path):\n",
    "    try:\n",
    "        with open(file_path, 'r') as file:\n",
    "            content = file.read()\n",
    "    except FileNotFoundError:\n",
    "        return 'File not found'\n",
    "    else:\n",
    "        return content\n",
    "\n",
    "read_file_with_else('example.txt')\n"
   ]
  },
  {
   "cell_type": "code",
   "execution_count": 3,
   "metadata": {},
   "outputs": [
    {
     "name": "stdout",
     "output_type": "stream",
     "text": [
      "Execution completed\n"
     ]
    },
    {
     "data": {
      "text/plain": [
       "'ValueError: invalid literal for int()'"
      ]
     },
     "execution_count": 3,
     "metadata": {},
     "output_type": "execute_result"
    }
   ],
   "source": [
    "#Q.25)Write a try-except-finally block to handle a ValueError.\n",
    "def handle_value_error():\n",
    "    try:\n",
    "        num = int('abc')\n",
    "    except ValueError:\n",
    "        return 'ValueError: invalid literal for int()'\n",
    "    finally:\n",
    "        print('Execution completed')\n",
    "\n",
    "handle_value_error()\n"
   ]
  },
  {
   "cell_type": "code",
   "execution_count": 4,
   "metadata": {},
   "outputs": [],
   "source": [
    "#Q.28)Create a custom exception class with a message.\n",
    "class CustomException(Exception):\n",
    "    def __init__(self, message):\n",
    "        super().__init__(message)\n"
   ]
  },
  {
   "cell_type": "code",
   "execution_count": 5,
   "metadata": {},
   "outputs": [
    {
     "ename": "CustomException",
     "evalue": "This is a custom exception.",
     "output_type": "error",
     "traceback": [
      "\u001b[1;31m---------------------------------------------------------------------------\u001b[0m",
      "\u001b[1;31mCustomException\u001b[0m                           Traceback (most recent call last)",
      "Cell \u001b[1;32mIn[5], line 5\u001b[0m\n\u001b[0;32m      2\u001b[0m \u001b[38;5;28;01mdef\u001b[39;00m \u001b[38;5;21mraise_custom_exception\u001b[39m():\n\u001b[0;32m      3\u001b[0m     \u001b[38;5;28;01mraise\u001b[39;00m CustomException(\u001b[38;5;124m'\u001b[39m\u001b[38;5;124mThis is a custom exception.\u001b[39m\u001b[38;5;124m'\u001b[39m)\n\u001b[1;32m----> 5\u001b[0m \u001b[43mraise_custom_exception\u001b[49m\u001b[43m(\u001b[49m\u001b[43m)\u001b[49m\n",
      "Cell \u001b[1;32mIn[5], line 3\u001b[0m, in \u001b[0;36mraise_custom_exception\u001b[1;34m()\u001b[0m\n\u001b[0;32m      2\u001b[0m \u001b[38;5;28;01mdef\u001b[39;00m \u001b[38;5;21mraise_custom_exception\u001b[39m():\n\u001b[1;32m----> 3\u001b[0m     \u001b[38;5;28;01mraise\u001b[39;00m CustomException(\u001b[38;5;124m'\u001b[39m\u001b[38;5;124mThis is a custom exception.\u001b[39m\u001b[38;5;124m'\u001b[39m)\n",
      "\u001b[1;31mCustomException\u001b[0m: This is a custom exception."
     ]
    }
   ],
   "source": [
    "#Q.29)Write a code to raise a custom exception in Python.\n",
    "def raise_custom_exception():\n",
    "    raise CustomException('This is a custom exception.')\n",
    "\n",
    "raise_custom_exception()\n"
   ]
  },
  {
   "cell_type": "code",
   "execution_count": 6,
   "metadata": {},
   "outputs": [
    {
     "ename": "CustomException",
     "evalue": "Negative value encountered",
     "output_type": "error",
     "traceback": [
      "\u001b[1;31m---------------------------------------------------------------------------\u001b[0m",
      "\u001b[1;31mCustomException\u001b[0m                           Traceback (most recent call last)",
      "Cell \u001b[1;32mIn[6], line 6\u001b[0m\n\u001b[0;32m      3\u001b[0m     \u001b[38;5;28;01mif\u001b[39;00m value \u001b[38;5;241m<\u001b[39m \u001b[38;5;241m0\u001b[39m:\n\u001b[0;32m      4\u001b[0m         \u001b[38;5;28;01mraise\u001b[39;00m CustomException(\u001b[38;5;124m'\u001b[39m\u001b[38;5;124mNegative value encountered\u001b[39m\u001b[38;5;124m'\u001b[39m)\n\u001b[1;32m----> 6\u001b[0m \u001b[43mcheck_positive\u001b[49m\u001b[43m(\u001b[49m\u001b[38;5;241;43m-\u001b[39;49m\u001b[38;5;241;43m5\u001b[39;49m\u001b[43m)\u001b[49m\n",
      "Cell \u001b[1;32mIn[6], line 4\u001b[0m, in \u001b[0;36mcheck_positive\u001b[1;34m(value)\u001b[0m\n\u001b[0;32m      2\u001b[0m \u001b[38;5;28;01mdef\u001b[39;00m \u001b[38;5;21mcheck_positive\u001b[39m(value):\n\u001b[0;32m      3\u001b[0m     \u001b[38;5;28;01mif\u001b[39;00m value \u001b[38;5;241m<\u001b[39m \u001b[38;5;241m0\u001b[39m:\n\u001b[1;32m----> 4\u001b[0m         \u001b[38;5;28;01mraise\u001b[39;00m CustomException(\u001b[38;5;124m'\u001b[39m\u001b[38;5;124mNegative value encountered\u001b[39m\u001b[38;5;124m'\u001b[39m)\n",
      "\u001b[1;31mCustomException\u001b[0m: Negative value encountered"
     ]
    }
   ],
   "source": [
    "#Q.30)Write a function that raises a custom exception when a value is negative.\n",
    "def check_positive(value):\n",
    "    if value < 0:\n",
    "        raise CustomException('Negative value encountered')\n",
    "\n",
    "check_positive(-5)\n"
   ]
  },
  {
   "cell_type": "code",
   "execution_count": 7,
   "metadata": {},
   "outputs": [
    {
     "name": "stdout",
     "output_type": "stream",
     "text": [
      "Thread is running\n"
     ]
    }
   ],
   "source": [
    "#Q.34)Create a thread in Python.\n",
    "import threading\n",
    "\n",
    "def thread_function():\n",
    "    print(\"Thread is running\")\n",
    "\n",
    "thread = threading.Thread(target=thread_function)\n",
    "thread.start()\n"
   ]
  },
  {
   "cell_type": "code",
   "execution_count": 8,
   "metadata": {},
   "outputs": [
    {
     "name": "stdout",
     "output_type": "stream",
     "text": [
      "0\n",
      "1\n",
      "2\n",
      "3\n",
      "4\n",
      "0\n",
      "1\n",
      "2\n",
      "3\n",
      "4\n"
     ]
    }
   ],
   "source": [
    "#Q.36)Implement a simple multithreading example in Python.\n",
    "import threading\n",
    "\n",
    "def print_numbers():\n",
    "    for i in range(5):\n",
    "        print(i)\n",
    "\n",
    "thread1 = threading.Thread(target=print_numbers)\n",
    "thread2 = threading.Thread(target=print_numbers)\n",
    "\n",
    "thread1.start()\n",
    "thread2.start()\n",
    "\n",
    "thread1.join()\n",
    "thread2.join()\n"
   ]
  },
  {
   "cell_type": "code",
   "execution_count": 9,
   "metadata": {},
   "outputs": [],
   "source": [
    "#Q.41)Create a process using the multiprocessing module in Python.\n",
    "import multiprocessing\n",
    "\n",
    "def process_function():\n",
    "    print(\"Process is running\")\n",
    "\n",
    "process = multiprocessing.Process(target=process_function)\n",
    "process.start()\n",
    "process.join()\n"
   ]
  },
  {
   "cell_type": "code",
   "execution_count": null,
   "metadata": {},
   "outputs": [],
   "source": []
  }
 ],
 "metadata": {
  "kernelspec": {
   "display_name": "Python 3",
   "language": "python",
   "name": "python3"
  },
  "language_info": {
   "codemirror_mode": {
    "name": "ipython",
    "version": 3
   },
   "file_extension": ".py",
   "mimetype": "text/x-python",
   "name": "python",
   "nbconvert_exporter": "python",
   "pygments_lexer": "ipython3",
   "version": "3.12.4"
  }
 },
 "nbformat": 4,
 "nbformat_minor": 2
}
