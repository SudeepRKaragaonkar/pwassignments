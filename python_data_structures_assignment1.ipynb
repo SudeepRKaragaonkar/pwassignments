{
 "cells": [
  {
   "cell_type": "code",
   "execution_count": 6,
   "metadata": {},
   "outputs": [
    {
     "name": "stdout",
     "output_type": "stream",
     "text": [
      "enter a string\n",
      "entered  string: sudeep\n",
      "string after reversing peedus\n"
     ]
    }
   ],
   "source": [
    "#Q.1>Write a code to reverse a string\n",
    "print(\"enter a string\")\n",
    "s=input()\n",
    "print(\"entered  string:\",s)\n",
    "print(\"string after reversing\",s[::-1])"
   ]
  },
  {
   "cell_type": "code",
   "execution_count": 8,
   "metadata": {},
   "outputs": [
    {
     "name": "stdout",
     "output_type": "stream",
     "text": [
      "entered  string: sudeeprkaragaonkar\n",
      "number of vowels in entered string= 8\n"
     ]
    }
   ],
   "source": [
    "#Q.2> Write a code to count the number of vowels in a string\n",
    "d=\"aeiouAEIOU\"\n",
    "s=input(\"enter a string\")\n",
    "print(\"entered  string:\",s)\n",
    "count=0\n",
    "for i in s:\n",
    "      if i in d:\n",
    "            count=count+1\n",
    "      else:\n",
    "            count=count+0\n",
    "print(\"number of vowels in entered string=\",count)  "
   ]
  },
  {
   "cell_type": "code",
   "execution_count": 9,
   "metadata": {},
   "outputs": [
    {
     "name": "stdout",
     "output_type": "stream",
     "text": [
      "entered  string: naman\n",
      "entered string is a palindrome\n"
     ]
    }
   ],
   "source": [
    "#Q.3> Write a code to check if a given string is a palindrome or not\n",
    "s=input(\"enter the string:\")\n",
    "print(\"entered  string:\",s)\n",
    "d=s[::-1]\n",
    "if s==d:\n",
    "    print(\"entered string is a palindrome\")\n",
    "else:\n",
    "    print(\"entered string is not a palindrome\")"
   ]
  },
  {
   "cell_type": "code",
   "execution_count": 11,
   "metadata": {},
   "outputs": [
    {
     "name": "stdout",
     "output_type": "stream",
     "text": [
      "first string: that\n",
      "second string: hat\n",
      "given two strings are anagrams\n"
     ]
    }
   ],
   "source": [
    "#Q.4>Write a code to check if two given strings are anagrams of each other\n",
    "first=input(\"enter the first string:\")\n",
    "second=input(\"enter the second string:\")\n",
    "print(\"first string:\",first)\n",
    "print(\"second string:\",second)\n",
    "str1=set(first.lower())\n",
    "str2=set(second.lower())\n",
    "if sorted(str1)==sorted(str2):\n",
    "    print(\"given two strings are anagrams\")\n",
    "else:\n",
    "    print(\"given two strings are not anagrams\")"
   ]
  },
  {
   "cell_type": "code",
   "execution_count": 13,
   "metadata": {},
   "outputs": [
    {
     "name": "stdout",
     "output_type": "stream",
     "text": [
      "main string: wertyusswsertssrr\n",
      "substring: ss\n",
      "Occurrences of substring are found at these indexes: [6, 13]\n"
     ]
    }
   ],
   "source": [
    "#Q.5>Write a code to find all occurrences of a given substring within another string\n",
    "s = input(\"Enter main string: \")\n",
    "d = input(\"Enter substring: \")\n",
    "print(\"main string:\",s)\n",
    "print(\"substring:\",d)\n",
    "l = len(d)\n",
    "p = []\n",
    "index = 0\n",
    "\n",
    "while index < len(s):\n",
    "    found_index = s.find(d, index)\n",
    "    if found_index != -1:\n",
    "        p.append(found_index)  # Corrected the usage of append method\n",
    "        index = found_index + l\n",
    "    else:\n",
    "        break\n",
    "\n",
    "if len(p) > 0:\n",
    "    print(\"Occurrences of substring are found at these indexes:\", p)\n",
    "else:\n",
    "    print(\"No occurrences of substring are found\")"
   ]
  },
  {
   "cell_type": "code",
   "execution_count": 14,
   "metadata": {},
   "outputs": [
    {
     "name": "stdout",
     "output_type": "stream",
     "text": [
      "input string: wertyussderffghjklop\n",
      "these are different charecters and number of their repetition: {'k': 1, 'p': 1, 'w': 1, 'd': 1, 'l': 1, 'j': 1, 'e': 2, 'h': 1, 'o': 1, 'g': 1, 'y': 1, 's': 2, 'u': 1, 'r': 2, 't': 1, 'f': 2}\n",
      "string after compressing: kpwdljehogysurtf\n"
     ]
    }
   ],
   "source": [
    "#Q.6>Write a code to perform basic string compression using the counts of repeated characters\n",
    "str=input(\"enter the string:\")\n",
    "print(\"input string:\",str)\n",
    "compress=\"\".join(set(str))\n",
    "count_num=[]\n",
    "dict={}\n",
    "for i in compress:\n",
    "    count=str.count(i)\n",
    "    dict[i]=count\n",
    "if len(compress)<len(str):\n",
    "   print(\"these are different charecters and number of their repetition:\",dict)\n",
    "   print(\"string after compressing:\",compress)\n",
    "else:\n",
    "    print(\"string has no repeated charecters:\",str)"
   ]
  },
  {
   "cell_type": "code",
   "execution_count": 15,
   "metadata": {},
   "outputs": [
    {
     "name": "stdout",
     "output_type": "stream",
     "text": [
      "entered string sertyu\n",
      "string has all unique charecters\n",
      "['e', 'r', 's', 't', 'u', 'y']\n"
     ]
    }
   ],
   "source": [
    "#Q.7>Write a code to determine if a string has all unique characters\n",
    "str=input(\"enter the string:\")\n",
    "print(\"entered string\",str)\n",
    "compress=\"\".join(set(str))\n",
    "if sorted(str)==sorted(compress):\n",
    "    print(\"string has all unique charecters\")\n",
    "else:\n",
    "    print(\"string do not have all unique charecters\")\n",
    "print(sorted(str))\n"
   ]
  },
  {
   "cell_type": "code",
   "execution_count": 16,
   "metadata": {},
   "outputs": [
    {
     "name": "stdout",
     "output_type": "stream",
     "text": [
      "SUDEEP\n",
      "sudeep\n"
     ]
    }
   ],
   "source": [
    "#Q.8>Write a code to convert a given string to uppercase or lowercase\n",
    "str=input(\"enter the string:\")\n",
    "print(str.upper())\n",
    "print(str.lower())"
   ]
  },
  {
   "cell_type": "code",
   "execution_count": 18,
   "metadata": {},
   "outputs": [
    {
     "name": "stdout",
     "output_type": "stream",
     "text": [
      "entered string: sudeep r k\n",
      "number of words in entered string: 3\n"
     ]
    }
   ],
   "source": [
    "#Q.9>Write a code to count the number of words in a string\n",
    "str=input(\"enter the string:\")\n",
    "print(\"entered string:\",str)\n",
    "list=[]\n",
    "list=str.split(\" \")\n",
    "print(\"number of words in entered string:\",len(list))"
   ]
  },
  {
   "cell_type": "code",
   "execution_count": 19,
   "metadata": {},
   "outputs": [
    {
     "name": "stdout",
     "output_type": "stream",
     "text": [
      "first string: sam\n",
      "first string: bahaddur\n",
      "sambahaddur\n"
     ]
    }
   ],
   "source": [
    "#Q.10>Write a code to concatenate two strings without using the + operator\n",
    "str1=input(\"enter the first string:\")\n",
    "str2=input(\"enter the second string:\")\n",
    "print(\"first string:\",str1)\n",
    "print(\"first string:\",str2)\n",
    "concatenated_string=\"\".join([str1,str2])\n",
    "print(concatenated_string)"
   ]
  },
  {
   "cell_type": "code",
   "execution_count": 23,
   "metadata": {},
   "outputs": [
    {
     "name": "stdout",
     "output_type": "stream",
     "text": [
      "entered number of elements: 4\n",
      "entered elements: ['sam', 'man', 'ram', 'dam']\n",
      "entered specific element: ram\n",
      "after removing specified elements: ['sam', 'man', 'dam']\n"
     ]
    }
   ],
   "source": [
    "#Q.11>Write a code to remove all occurrences of a specific element from a list\n",
    "n=int(input(\"enter number of list elements:\"))\n",
    "print(\"entered number of elements:\",n)\n",
    "list=[]\n",
    "for i in range(n):\n",
    "    element=input(f\"enter element {i+1} of list:\")\n",
    "    list.append(element)\n",
    "print(\"entered elements:\",list)\n",
    "specific=input(\"enter specific element which you want to remove:\")\n",
    "print(\"entered specific element:\",specific)\n",
    "for i in list:\n",
    "    if i==specific:\n",
    "        list.remove(specific)\n",
    "print(\"after removing specified elements:\",list)\n"
   ]
  },
  {
   "cell_type": "code",
   "execution_count": 24,
   "metadata": {},
   "outputs": [
    {
     "name": "stdout",
     "output_type": "stream",
     "text": [
      "Number of elements to be added: 5\n",
      "Element 1 added: 78\n",
      "Element 2 added: 55\n",
      "Element 3 added: 99\n",
      "Element 4 added: 14\n",
      "Element 5 added: 25\n",
      "Original list: [78, 55, 99, 14, 25]\n",
      "Sorted list: [14, 25, 55, 78, 99]\n",
      "Second largest element: 78\n"
     ]
    }
   ],
   "source": [
    "#Q.12>Implement a code to find the second largest number in a given list of integers\n",
    "n = int(input(\"Enter number of list elements: \"))\n",
    "print(f\"Number of elements to be added: {n}\")\n",
    "\n",
    "lst = []\n",
    "for i in range(n):\n",
    "    element = int(input(f\"Enter element {i+1} of list: \"))\n",
    "    print(f\"Element {i+1} added: {element}\")\n",
    "    lst.append(element)\n",
    "\n",
    "print(f\"Original list: {lst}\")\n",
    "sorted_list = sorted(lst)\n",
    "print(f\"Sorted list: {sorted_list}\")\n",
    "print(f\"Second largest element: {sorted_list[-2]}\")\n"
   ]
  },
  {
   "cell_type": "code",
   "execution_count": 25,
   "metadata": {},
   "outputs": [
    {
     "name": "stdout",
     "output_type": "stream",
     "text": [
      "Number of elements to be added: 5\n",
      "Element 1 added: r\n",
      "Element 2 added: s\n",
      "Element 3 added: e\n",
      "Element 4 added: r\n",
      "Element 5 added: d\n",
      "Original list: ['r', 's', 'e', 'r', 'd']\n",
      "Unique elements in the list: {'d', 'r', 's', 'e'}\n",
      "Count of element 'd': 1\n",
      "Count of element 'r': 2\n",
      "Count of element 's': 1\n",
      "Count of element 'e': 1\n",
      "Dictionary with elements as keys and their counts as values: {'d': 1, 'r': 2, 's': 1, 'e': 1}\n"
     ]
    }
   ],
   "source": [
    "#Q.13>Create a code to count the occurrences of each element in a list and return a dictionary with elements as keys and their counts as values\n",
    "n = int(input(\"Enter number of list elements: \"))\n",
    "print(f\"Number of elements to be added: {n}\")\n",
    "\n",
    "lst = []\n",
    "for i in range(n):\n",
    "    element = input(f\"Enter element {i+1} of list: \")\n",
    "    print(f\"Element {i+1} added: {element}\")\n",
    "    lst.append(element)\n",
    "\n",
    "print(f\"Original list: {lst}\")\n",
    "\n",
    "keys = set(lst)\n",
    "print(f\"Unique elements in the list: {keys}\")\n",
    "\n",
    "dict_counts = {}\n",
    "for i in keys:\n",
    "    dict_counts[i] = lst.count(i)\n",
    "    print(f\"Count of element '{i}': {dict_counts[i]}\")\n",
    "\n",
    "print(\"Dictionary with elements as keys and their counts as values:\", dict_counts)\n"
   ]
  },
  {
   "cell_type": "code",
   "execution_count": 26,
   "metadata": {},
   "outputs": [
    {
     "name": "stdout",
     "output_type": "stream",
     "text": [
      "Number of elements to be added: 4\n",
      "Element 1 added: 12\n",
      "Element 2 added: dfg\n",
      "Element 3 added: 48s\n",
      "Element 4 added: 75\n",
      "Original list: ['12', 'dfg', '48s', '75']\n",
      "Reversed list: ['75', '48s', 'dfg', '12']\n"
     ]
    }
   ],
   "source": [
    "#Q.14>Write a code to reverse a list in-place without using any built-in reverse functions\n",
    "n = int(input(\"Enter number of list elements: \"))\n",
    "print(f\"Number of elements to be added: {n}\")\n",
    "\n",
    "lst = []\n",
    "for i in range(n):\n",
    "    element = input(f\"Enter element {i+1} of list: \")\n",
    "    print(f\"Element {i+1} added: {element}\")\n",
    "    lst.append(element)\n",
    "\n",
    "print(f\"Original list: {lst}\")\n",
    "reverse = lst[::-1]\n",
    "print(f\"Reversed list: {reverse}\")\n"
   ]
  },
  {
   "cell_type": "code",
   "execution_count": 27,
   "metadata": {},
   "outputs": [
    {
     "name": "stdout",
     "output_type": "stream",
     "text": [
      "Number of elements to be added: 5\n",
      "Element 1 added: s\n",
      "Element 2 added: w\n",
      "Element 3 added: e\n",
      "Element 4 added: w\n",
      "Element 5 added: r\n",
      "Original list: ['s', 'w', 'e', 'w', 'r']\n",
      "Added 's' to new list\n",
      "Added 'w' to new list\n",
      "Added 'e' to new list\n",
      "Added 'r' to new list\n",
      "List after removing duplicates and maintaining same order: ['s', 'w', 'e', 'r']\n"
     ]
    }
   ],
   "source": [
    "#Q.15> Implement a code to find and remove duplicates from a list while preserving the original order\n",
    "#of elements\n",
    "n = int(input(\"Enter number of list elements: \"))\n",
    "print(f\"Number of elements to be added: {n}\")\n",
    "\n",
    "lst = []\n",
    "for i in range(n):\n",
    "    element = input(f\"Enter element {i+1} of list: \")\n",
    "    print(f\"Element {i+1} added: {element}\")\n",
    "    lst.append(element)\n",
    "\n",
    "print(f\"Original list: {lst}\")\n",
    "\n",
    "newlist = []\n",
    "for i in lst:\n",
    "    if i not in newlist:\n",
    "        newlist.append(i)\n",
    "        print(f\"Added '{i}' to new list\")\n",
    "\n",
    "print(f\"List after removing duplicates and maintaining same order: {newlist}\")\n"
   ]
  },
  {
   "cell_type": "code",
   "execution_count": 29,
   "metadata": {},
   "outputs": [
    {
     "name": "stdout",
     "output_type": "stream",
     "text": [
      "Number of elements to be added: 3\n",
      "Element 1 added: 12\n",
      "Element 2 added: 75\n",
      "Element 3 added: 80\n",
      "Original list: ['12', '75', '80']\n",
      "Ascending order: ['12', '75', '80']\n",
      "Descending order: ['80', '75', '12']\n",
      "Entered list is in ascending order\n"
     ]
    }
   ],
   "source": [
    "#Q.16>Create a code to check if a given list is sorted (either in ascending or descending order) or not\n",
    "n = int(input(\"Enter number of list elements: \"))\n",
    "print(f\"Number of elements to be added: {n}\")\n",
    "\n",
    "lst = []\n",
    "for i in range(n):\n",
    "    element = input(f\"Enter element {i+1} of list: \")\n",
    "    print(f\"Element {i+1} added: {element}\")\n",
    "    lst.append(element)\n",
    "\n",
    "print(f\"Original list: {lst}\")\n",
    "\n",
    "descending = sorted(lst, reverse=True)\n",
    "ascending = sorted(lst, reverse=False)\n",
    "\n",
    "print(f\"Ascending order: {ascending}\")\n",
    "print(f\"Descending order: {descending}\")\n",
    "\n",
    "if lst == ascending or lst == descending:\n",
    "    if lst == ascending:\n",
    "        print(\"Entered list is in ascending order\")\n",
    "    else:\n",
    "        print(\"Entered list is in descending order\")\n",
    "else:\n",
    "    print(\"Entered list is not in ascending or descending order\")\n"
   ]
  },
  {
   "cell_type": "code",
   "execution_count": 3,
   "metadata": {},
   "outputs": [
    {
     "name": "stdout",
     "output_type": "stream",
     "text": [
      "[15, 10, 14, 78, 7]\n",
      "[19, 18, 82, 55, 64]\n",
      "final single sorted list: [7, 10, 14, 15, 18, 19, 55, 64, 78, 82]\n"
     ]
    }
   ],
   "source": [
    "#Q.17>Write a code to merge two sorted lists into a single sorted list\n",
    "n=int(input(\"enter number of list 1 elements:\"))\n",
    "list1=[]\n",
    "for i in range(n):\n",
    "    element=int(input(f\"enter element {i+1} of list 1:\"))\n",
    "    list1.append(element)\n",
    "print(list1)\n",
    "m=int(input(\"enter number of list 2 elements:\"))\n",
    "list2=[]\n",
    "for i in range(n):\n",
    "    element=int(input(f\"enter element {i+1} of list 2:\"))\n",
    "    list2.append(element)\n",
    "print(list2)\n",
    "sorted1=sorted(list1)\n",
    "sorted2=sorted(list2)\n",
    "list3=sorted1+sorted2\n",
    "final_sort=sorted(list3)\n",
    "print(\"final single sorted list:\",final_sort)"
   ]
  },
  {
   "cell_type": "code",
   "execution_count": 5,
   "metadata": {},
   "outputs": [
    {
     "name": "stdout",
     "output_type": "stream",
     "text": [
      "['44', '15', '8', '15', '50']\n",
      "['44', '8', '15', '77', '90']\n",
      "intersection of two given lists: {'8', '15', '44'}\n"
     ]
    }
   ],
   "source": [
    "#Q.18>Implement a code to find the intersection of two given lists\n",
    "n=int(input(\"enter number of list 1 elements:\"))\n",
    "list1=[]\n",
    "for i in range(n):\n",
    "    element=input(f\"enter element {i+1} of list 1:\")\n",
    "    list1.append(element)\n",
    "print(list1)\n",
    "m=int(input(\"enter number of list 2 elements:\"))\n",
    "list2=[]\n",
    "for i in range(m):\n",
    "    element=input(f\"enter element {i+1} of list 2:\")\n",
    "    list2.append(element)\n",
    "print(list2)\n",
    "print(\"intersection of two given lists:\",set(list1)&set(list2))"
   ]
  },
  {
   "cell_type": "code",
   "execution_count": 6,
   "metadata": {},
   "outputs": [
    {
     "name": "stdout",
     "output_type": "stream",
     "text": [
      "['17', '16', '12', '14', '17']\n",
      "['20', '35', '36', '80', '25']\n",
      "intersection of two given lists: {'17', '36', '16', '25', '35', '80', '12', '14', '20'}\n"
     ]
    }
   ],
   "source": [
    "#Q.19>Create a code to find the union of two lists without duplicates\n",
    "n=int(input(\"enter number of list 1 elements:\"))\n",
    "list1=[]\n",
    "for i in range(n):\n",
    "    element=input(f\"enter element {i+1} of list 1:\")\n",
    "    list1.append(element)\n",
    "print(list1)\n",
    "m=int(input(\"enter number of list 2 elements:\"))\n",
    "list2=[]\n",
    "for i in range(m):\n",
    "    element=input(f\"enter element {i+1} of list 2:\")\n",
    "    list2.append(element)\n",
    "print(list2)\n",
    "print(\"intersection of two given lists:\",set(list1)|set(list2)) "
   ]
  },
  {
   "cell_type": "code",
   "execution_count": 7,
   "metadata": {},
   "outputs": [
    {
     "name": "stdout",
     "output_type": "stream",
     "text": [
      "Original list: [1, 2, 3, 4, 5, 6, 7]\n",
      "Shuffled list: [1, 2, 3, 5, 7, 4, 6]\n"
     ]
    }
   ],
   "source": [
    "\n",
    "#Q.20>Write a code to shuffle a given list randomly without using any built-in shuffle functions import random\n",
    "import random\n",
    "def shuffle_list(arr):\n",
    "    for i in range(len(arr) - 1, 0, -1):\n",
    "        j = random.randint(0, i)\n",
    "        arr[i], arr[j] = arr[j], arr[i]\n",
    "my_list = [1, 2, 3, 4, 5, 6, 7]\n",
    "print(\"Original list:\", my_list)\n",
    "\n",
    "shuffle_list(my_list)\n",
    "print(\"Shuffled list:\", my_list)\n"
   ]
  },
  {
   "cell_type": "code",
   "execution_count": 2,
   "metadata": {},
   "outputs": [
    {
     "name": "stdout",
     "output_type": "stream",
     "text": [
      "First tuple: ('l', 'h', 'g', 't', 'd')\n",
      "Second tuple: ('w', 'h', 'e', 'r', 't')\n",
      "Common elements: {'t', 'h'}\n",
      "New tuple containing elements that are common to both input: ('t', 'h')\n"
     ]
    }
   ],
   "source": [
    "#Q.21>Write a code that takes two tuples as input and returns a new tuple containing elements that are common to both input tuples\n",
    "tuple1 = tuple(input(\"Enter elements of first tuple separated by spaces: \").split())\n",
    "print(f\"First tuple: {tuple1}\")\n",
    "\n",
    "tuple2 = tuple(input(\"Enter elements of second tuple separated by spaces: \").split())\n",
    "print(f\"Second tuple: {tuple2}\")\n",
    "\n",
    "common = set(tuple1) & set(tuple2)\n",
    "print(f\"Common elements: {common}\")\n",
    "\n",
    "print(f\"New tuple containing elements that are common to both input: {tuple(common)}\")\n"
   ]
  },
  {
   "cell_type": "code",
   "execution_count": 4,
   "metadata": {},
   "outputs": [
    {
     "name": "stdout",
     "output_type": "stream",
     "text": [
      "First set: {'r', 't', 'y', 'g', 'e'}\n",
      "Second set: {'f', 'h', 'r', 'u', 'j', 'e'}\n",
      "Intersection of these two sets: {'r', 'e'}\n"
     ]
    }
   ],
   "source": [
    "#Q.22>Create a code that prompts the user to enter two sets of integers separated by commas. Then, print the intersection of these two sets\n",
    "set1 = set(input(\"Enter elements of first set separated by commas: \").split(','))\n",
    "print(f\"First set: {set1}\")\n",
    "\n",
    "set2 = set(input(\"Enter elements of second set separated by commas: \").split(','))\n",
    "print(f\"Second set: {set2}\")\n",
    "\n",
    "intersection = set1 & set2\n",
    "print(f\"Intersection of these two sets: {intersection}\")\n",
    "\n"
   ]
  },
  {
   "cell_type": "code",
   "execution_count": 1,
   "metadata": {},
   "outputs": [
    {
     "name": "stdout",
     "output_type": "stream",
     "text": [
      "First tuple: ()\n",
      "Second tuple: ('s', 'd', 'e', 'r', 't')\n",
      "Union of both sets: {'t', 'e', 's', 'd', 'r'}\n",
      "Elements from both input tuples: ('t', 'e', 's', 'd', 'r')\n"
     ]
    }
   ],
   "source": [
    "#Q.23>Write a code to concatenate two tuples. The function should take two tuples as input and return a new tuple containing elements from both input tuples.\n",
    "def fun():\n",
    "    tuple1 = tuple(input(\"Enter elements of first tuple separated by spaces: \").split())\n",
    "    print(f\"First tuple: {tuple1}\")\n",
    "\n",
    "    tuple2 = tuple(input(\"Enter elements of second tuple separated by spaces: \").split())\n",
    "    print(f\"Second tuple: {tuple2}\")\n",
    "\n",
    "    set3 = set(tuple1) | set(tuple2)\n",
    "    print(f\"Union of both sets: {set3}\")\n",
    "\n",
    "    final_tuple = tuple(set3)\n",
    "    return final_tuple\n",
    "\n",
    "final_tuple = fun()\n",
    "print(f\"Elements from both input tuples: {final_tuple}\")\n"
   ]
  },
  {
   "cell_type": "code",
   "execution_count": 3,
   "metadata": {},
   "outputs": [
    {
     "name": "stdout",
     "output_type": "stream",
     "text": [
      "First set: {'', 't', 'e', 's', 'y', 'r', 'hf'}\n",
      "Second set: {'t', 'e', 's', 'w', 'r'}\n",
      "Elements that are present in the first set but not in the second set: {'', 'hf', 'w', 'y'}\n"
     ]
    }
   ],
   "source": [
    "#Q.24>Develop a code that prompts the user to input two sets of strings. Then, print the elements that are present in the first set but not in the second set\n",
    "set1 = set(input(\"Enter strings of first set separated by commas: \").split(','))\n",
    "print(f\"First set: {set1}\")\n",
    "\n",
    "set2 = set(input(\"Enter strings of second set separated by commas: \").split(','))\n",
    "print(f\"Second set: {set2}\")\n",
    "\n",
    "difference = set1 ^ set2\n",
    "print(f\"Elements that are present in the first set but not in the second set: {difference}\")\n"
   ]
  },
  {
   "cell_type": "code",
   "execution_count": 9,
   "metadata": {},
   "outputs": [
    {
     "name": "stdout",
     "output_type": "stream",
     "text": [
      "Original tuple: ('s', 'd', 'e', 'r', 'g', 'h', 'v', 'b', 'n')\n",
      "Start index: 3\n",
      "End index: 7\n",
      "Sliced tuple: ('r', 'g', 'h', 'v')\n"
     ]
    }
   ],
   "source": [
    "#Q.25>Create a code that takes a tuple and two integers as input. The function should return a new tuple containing elements from the original tuple within the specified range of indices\n",
    "def slice_tuple(input_tuple, start_index, end_index):\n",
    "    return input_tuple[start_index:end_index]\n",
    "\n",
    "tuple1 = tuple(input(\"Enter elements of the tuple separated by spaces: \").split())\n",
    "print(f\"Original tuple: {tuple1}\")\n",
    "\n",
    "n = int(input(\"Enter the start index: \"))\n",
    "print(f\"Start index: {n}\")\n",
    "\n",
    "m = int(input(\"Enter the end index: \"))\n",
    "print(f\"End index: {m}\")\n",
    "\n",
    "result = slice_tuple(tuple1, n, m)\n",
    "print(f\"Sliced tuple: {result}\")\n",
    "\n"
   ]
  },
  {
   "cell_type": "code",
   "execution_count": null,
   "metadata": {},
   "outputs": [],
   "source": [
    "#Q.26> Write a code that prompts the user to input two sets of characters. Then, print the union of these two sets\n",
    "set1=set(input(\"enter elements of first set separated by commas:\").split(','))\n",
    "set2=set(input(\"enter elements of second set separated by commas:\").split(','))\n",
    "print(\"unon of these two sets:\",set1|set2)"
   ]
  },
  {
   "cell_type": "code",
   "execution_count": null,
   "metadata": {},
   "outputs": [],
   "source": [
    "#Q.27>Develop a code that takes a tuple of integers as input. The function should return the maximum and minimum values from the tuple using tuple unpacking\n",
    "def find_min_max(input_tuple):\n",
    "    min_val = min(input_tuple)\n",
    "    max_val = max(input_tuple)\n",
    "    return (min_val, max_val)\n",
    "tuple_elements = input(\"Enter the elements of the tuple separated by spaces: \")\n",
    "input_tuple = tuple(map(int, tuple_elements.split()))\n",
    "min_val, max_val = find_min_max(input_tuple)\n",
    "print(f\"Minimum value: {min_val}\")\n",
    "print(f\"Maximum value: {max_val}\")\n"
   ]
  },
  {
   "cell_type": "code",
   "execution_count": null,
   "metadata": {},
   "outputs": [],
   "source": [
    "#Q.28>Create a code that defines two sets of integers. Then, print the union, intersection, and difference of these two sets\n",
    "set1=set(input(\"enter elements of first set separated by commas:\").split(','))\n",
    "set2=set(input(\"enter elements of second set separated by commas:\").split(','))\n",
    "print(\"union of these two sets:\",set1|set2)\n",
    "print(\"intersection of these two sets:\",set1&set2)\n",
    "print(\"difference of these two sets:\",set1^set2)"
   ]
  },
  {
   "cell_type": "code",
   "execution_count": 6,
   "metadata": {},
   "outputs": [
    {
     "name": "stdout",
     "output_type": "stream",
     "text": [
      "Entered tuple: ('s', 'w', 'e', 'r', 'd', 's', 'a', 'w', 'f', 'r', 'r', '')\n",
      "Element to count: s\n",
      "Number of times 's' appears in the tuple: 2\n"
     ]
    }
   ],
   "source": [
    "#Q.29> Write a code that takes a tuple and an element as input. The function should return the count of occurrences of the given element in the tuple\n",
    "def fun(tuple1, element):\n",
    "    count = 0\n",
    "    for i in tuple1:\n",
    "        if i == element:\n",
    "            count += 1\n",
    "    return count\n",
    "\n",
    "tuple1 = tuple(input(\"Enter tuple elements separated by commas: \").split(\",\"))\n",
    "print(f\"Entered tuple: {tuple1}\")\n",
    "\n",
    "element = input(\"Enter the element for which you want to count occurrences in the tuple: \")\n",
    "print(f\"Element to count: {element}\")\n",
    "\n",
    "count = fun(tuple1, element)\n",
    "print(f\"Number of times '{element}' appears in the tuple: {count}\")\n"
   ]
  },
  {
   "cell_type": "code",
   "execution_count": 5,
   "metadata": {},
   "outputs": [
    {
     "name": "stdout",
     "output_type": "stream",
     "text": [
      "Number of strings for set 1: 3\n",
      "Number of strings for set 2: 3\n",
      "Adding 'sw' to set1\n",
      "Adding 'se' to set1\n",
      "Adding 'df' to set1\n",
      "Adding 'gf' to set2\n",
      "Adding 'sw' to set2\n",
      "Adding 'er' to set2\n",
      "Set 1: {'se', 'sw', 'df'}\n",
      "Set 2: {'er', 'sw', 'gf'}\n",
      "Symmetric difference of set1 and set2: {'gf', 'se', 'df', 'er'}\n"
     ]
    }
   ],
   "source": [
    "#Q.30>Develop a code that prompts the user to input two sets of strings. Then, print the symmetric difference of these two sets\n",
    "n = int(input(\"Enter number of set 1 strings: \"))\n",
    "print(f\"Number of strings for set 1: {n}\")\n",
    "\n",
    "m = int(input(\"Enter number of set 2 strings: \"))\n",
    "print(f\"Number of strings for set 2: {m}\")\n",
    "\n",
    "set1 = set()\n",
    "set2 = set()\n",
    "\n",
    "for i in range(n):\n",
    "    num = input(f\"Enter string {i+1} of set1: \")\n",
    "    print(f\"Adding '{num}' to set1\")\n",
    "    set1.add(num)\n",
    "\n",
    "for i in range(m):\n",
    "    num = input(f\"Enter string {i+1} of set2: \")\n",
    "    print(f\"Adding '{num}' to set2\")\n",
    "    set2.add(num)\n",
    "\n",
    "print(f\"Set 1: {set1}\")\n",
    "print(f\"Set 2: {set2}\")\n",
    "\n",
    "symmetric_diff = set1.symmetric_difference(set2)\n",
    "print(f\"Symmetric difference of set1 and set2: {symmetric_diff}\")\n"
   ]
  },
  {
   "cell_type": "code",
   "execution_count": 4,
   "metadata": {},
   "outputs": [
    {
     "name": "stdout",
     "output_type": "stream",
     "text": [
      "Number of words to be added: 5\n",
      "Adding word 'a' to the list\n",
      "Adding word 's' to the list\n",
      "Adding word 'f' to the list\n",
      "Adding word 's' to the list\n",
      "Adding word 'a' to the list\n",
      "Unique words (set): {'a', 's', 'f'}\n",
      "Count for word 'a': 2\n",
      "Count for word 's': 2\n",
      "Count for word 'f': 1\n",
      "Word count dictionary: {'a': 2, 's': 2, 'f': 1}\n"
     ]
    }
   ],
   "source": [
    "#Q.31> Write a code that takes a list of words as input and returns a dictionary where the keys are unique words and the values are the frequencies of those words in the input list\n",
    "n = int(input(\"Enter number of words: \"))\n",
    "print(f\"Number of words to be added: {n}\")\n",
    "\n",
    "word_list = []\n",
    "for i in range(n):\n",
    "    word = input(f\"Enter word {i+1}: \")\n",
    "    print(f\"Adding word '{word}' to the list\")\n",
    "    word_list.append(word)\n",
    "\n",
    "word_set = set(word_list)\n",
    "print(f\"Unique words (set): {word_set}\")\n",
    "\n",
    "word_count = {}\n",
    "for word in word_set:\n",
    "    count = word_list.count(word)\n",
    "    print(f\"Count for word '{word}': {count}\")\n",
    "    word_count[word] = count\n",
    "\n",
    "print(f\"Word count dictionary: {word_count}\")\n",
    "\n"
   ]
  },
  {
   "cell_type": "code",
   "execution_count": 2,
   "metadata": {},
   "outputs": [
    {
     "name": "stdout",
     "output_type": "stream",
     "text": [
      "{'1': 45, '2': 54, '3': 66}\n",
      "{'4': 78, '5': 87, '6': 99}\n",
      "{'1': 45, '2': 54, '3': 66, '4': 78, '5': 87, '6': 99}\n"
     ]
    }
   ],
   "source": [
    "#Q.32> Write a code that takes two dictionaries as input and merges them into a single dictionary. If there are common keys, the values should be added together\n",
    "num1=int(input(\"enter number of keys in first set:\"))\n",
    "keys_of_set1=[]\n",
    "values_of_set1=[]\n",
    "dict1={}\n",
    "dict2={}\n",
    "merged_dict={}\n",
    "for i in range(num1):\n",
    "    key=input(f\"Enter key {i+1} of set1:\")\n",
    "    keys_of_set1.append(key)\n",
    "for i in keys_of_set1:\n",
    "     value1=int(input(f\"Enter value  of set1:\"))\n",
    "     dict1[i]=value1\n",
    "num2=int(input(\"enter number of keys in second set:\"))\n",
    "keys_of_set2=[]\n",
    "values_of_set2=[]\n",
    "for i in range(num2):\n",
    "    key=input(f\"Enter key {i+1} of set2:\")\n",
    "    keys_of_set2.append(key)\n",
    "for i in keys_of_set2:\n",
    "    value2=int(input(f\"Enter value  of set2:\"))\n",
    "    dict2[i]=value2\n",
    "    \n",
    "print(dict1)\n",
    "print(dict2)\n",
    "merged_dict=dict1\n",
    "for key,value in dict2.items():\n",
    "    if key in merged_dict:\n",
    "        merged_dict[key] += value\n",
    "    else:\n",
    "        merged_dict[key] = value\n",
    "print(merged_dict)"
   ]
  },
  {
   "cell_type": "code",
   "execution_count": 5,
   "metadata": {},
   "outputs": [
    {
     "name": "stdout",
     "output_type": "stream",
     "text": [
      "42\n",
      "None\n"
     ]
    }
   ],
   "source": [
    "#Q.33>Write a code to access a value in a nested dictionary. The function should take the dictionary and a list of keys as input, and return the corresponding value. If any of the keys do not exist in the dictionary, the function should return None\n",
    "def get_value_from_nested_dict(d, keys):\n",
    "    current = d\n",
    "    for key in keys:\n",
    "        if isinstance(current, dict) and key in current:\n",
    "            current = current[key]\n",
    "        else:\n",
    "            return None\n",
    "    return current\n",
    "\n",
    "nested_dict = {\n",
    "    'a': {\n",
    "        'b': {\n",
    "            'c': 42,\n",
    "            'd': 'hello'\n",
    "        },\n",
    "        'e': 100\n",
    "    },\n",
    "    'f': 'world'\n",
    "}\n",
    "\n",
    "keys = ['a', 'b', 'c']\n",
    "print(get_value_from_nested_dict(nested_dict, keys))\n",
    "\n",
    "keys = ['a', 'b', 'x']\n",
    "print(get_value_from_nested_dict(nested_dict, keys))\n"
   ]
  },
  {
   "cell_type": "code",
   "execution_count": 4,
   "metadata": {},
   "outputs": [
    {
     "name": "stdout",
     "output_type": "stream",
     "text": [
      "Number of items to be added: 4\n",
      "Adding key '1' with value 22\n",
      "Adding key '2' with value 14\n",
      "Adding key '3' with value 55\n",
      "Adding key '4' with value 23\n",
      "Original dictionary: {'1': 22, '2': 14, '3': 55, '4': 23}\n",
      "Sorting in ascending order: True\n",
      "Sorted dictionary: {'2': 14, '1': 22, '4': 23, '3': 55}\n"
     ]
    }
   ],
   "source": [
    "#Q.34> Write a code that takes a dictionary as input and returns a sorted version of it based on the values. You can choose whether to sort in ascending or descending order\n",
    "def sort_dict_by_values(input_dict, ascending=True):\n",
    "    sorted_items = sorted(input_dict.items(), key=lambda item: item[1], reverse=not ascending)\n",
    "    sorted_dict = dict(sorted_items)\n",
    "    return sorted_dict\n",
    "\n",
    "input_dict = {}\n",
    "n = int(input(\"Enter the number of items in the dictionary: \"))\n",
    "print(f\"Number of items to be added: {n}\")\n",
    "\n",
    "for i in range(n):\n",
    "    key = input(f\"Enter key {i+1}: \")\n",
    "    value = int(input(f\"Enter value for key '{key}': \"))\n",
    "    print(f\"Adding key '{key}' with value {value}\")\n",
    "    input_dict[key] = value\n",
    "\n",
    "print(f\"Original dictionary: {input_dict}\")\n",
    "\n",
    "order = input(\"Sort in ascending order? (yes/no): \").strip().lower()\n",
    "ascending = order == 'yes'\n",
    "print(f\"Sorting in ascending order: {ascending}\")\n",
    "\n",
    "sorted_dict = sort_dict_by_values(input_dict, ascending)\n",
    "print(f\"Sorted dictionary: {sorted_dict}\")\n"
   ]
  },
  {
   "cell_type": "code",
   "execution_count": 4,
   "metadata": {},
   "outputs": [
    {
     "name": "stdout",
     "output_type": "stream",
     "text": [
      "{1: ['a', 'c'], 2: ['b'], 3: ['d']}\n"
     ]
    }
   ],
   "source": [
    "#Q.35>Write a code that inverts a dictionary, swapping keys and values. Ensure that the inverted dictionary correctly handles cases where multiple keys have the same value by storing the keys as a list in the inverted dictionary.\n",
    "def invert_dict(d):\n",
    "    inverted = {}\n",
    "    for key, value in d.items():\n",
    "        if value in inverted:\n",
    "            inverted[value].append(key)\n",
    "        else:\n",
    "            inverted[value] = [key]\n",
    "    return inverted\n",
    "\n",
    "d = {'a': 1, 'b': 2, 'c': 1, 'd': 3}\n",
    "print(invert_dict(d))\n"
   ]
  }
 ],
 "metadata": {
  "kernelspec": {
   "display_name": "Python 3",
   "language": "python",
   "name": "python3"
  },
  "language_info": {
   "codemirror_mode": {
    "name": "ipython",
    "version": 3
   },
   "file_extension": ".py",
   "mimetype": "text/x-python",
   "name": "python",
   "nbconvert_exporter": "python",
   "pygments_lexer": "ipython3",
   "version": "3.12.4"
  }
 },
 "nbformat": 4,
 "nbformat_minor": 2
}
