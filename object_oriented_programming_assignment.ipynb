{
 "cells": [
  {
   "cell_type": "code",
   "execution_count": 1,
   "metadata": {},
   "outputs": [
    {
     "name": "stdout",
     "output_type": "stream",
     "text": [
      "Hello, sudeep! Welcome to the class.\n"
     ]
    }
   ],
   "source": [
    "#Q.2>Write a basic function to  greet students\n",
    "def greet_student(name):\n",
    "    print(f\"Hello, {name}! Welcome to the class.\")\n",
    "\n",
    "student_name = input(\"Enter the student's name: \")\n",
    "greet_student(student_name)\n"
   ]
  },
  {
   "cell_type": "code",
   "execution_count": 2,
   "metadata": {},
   "outputs": [
    {
     "name": "stdout",
     "output_type": "stream",
     "text": [
      "1\n",
      "4\n",
      "9\n",
      "16\n",
      "25\n"
     ]
    }
   ],
   "source": [
    "#Q.6)Write a code that generates the squares of numbers from 1 to n using a generator.\n",
    "def generate_squares(n):\n",
    "    for i in range(1, n + 1):\n",
    "        yield i ** 2\n",
    "\n",
    "n = 5\n",
    "squares = generate_squares(n)\n",
    "for square in squares:\n",
    "    print(square)\n"
   ]
  },
  {
   "cell_type": "code",
   "execution_count": 3,
   "metadata": {},
   "outputs": [
    {
     "name": "stdout",
     "output_type": "stream",
     "text": [
      "1\n",
      "2\n",
      "3\n",
      "4\n",
      "5\n",
      "6\n",
      "7\n",
      "8\n",
      "9\n",
      "11\n",
      "22\n",
      "33\n",
      "44\n",
      "55\n",
      "66\n",
      "77\n",
      "88\n",
      "99\n"
     ]
    }
   ],
   "source": [
    "#Q.7)Write a code that generates palindromic numbers up to n using a generator\n",
    "def is_palindrome(num):\n",
    "    return str(num) == str(num)[::-1]\n",
    "\n",
    "def generate_palindromes(n):\n",
    "    for num in range(1, n + 1):\n",
    "        if is_palindrome(num):\n",
    "            yield num\n",
    "\n",
    "# Example usage\n",
    "n = 100\n",
    "for palindrome in generate_palindromes(n):\n",
    "    print(palindrome)\n"
   ]
  },
  {
   "cell_type": "code",
   "execution_count": 4,
   "metadata": {},
   "outputs": [
    {
     "name": "stdout",
     "output_type": "stream",
     "text": [
      "2\n",
      "4\n",
      "6\n",
      "8\n",
      "10\n"
     ]
    }
   ],
   "source": [
    "#Q.8)Write a code that generates even numbers from 2 to n using a generator.\n",
    "def even_numbers(n):\n",
    "    num = 2\n",
    "    while num <= n:\n",
    "        yield num\n",
    "        num += 2\n",
    "\n",
    "# Example usage\n",
    "for even in even_numbers(10):\n",
    "    print(even)\n"
   ]
  },
  {
   "cell_type": "code",
   "execution_count": 5,
   "metadata": {},
   "outputs": [
    {
     "name": "stdout",
     "output_type": "stream",
     "text": [
      "1\n",
      "2\n",
      "4\n",
      "8\n",
      "16\n",
      "32\n",
      "64\n"
     ]
    }
   ],
   "source": [
    "#Q.9)Write a code that generates powers of two up to n using a generator.\n",
    "def powers_of_two(n):\n",
    "    power = 1\n",
    "    while power <= n:\n",
    "        yield power\n",
    "        power *= 2\n",
    "\n",
    "# Example usage\n",
    "for power in powers_of_two(100):\n",
    "    print(power)\n"
   ]
  },
  {
   "cell_type": "code",
   "execution_count": 6,
   "metadata": {},
   "outputs": [
    {
     "name": "stdout",
     "output_type": "stream",
     "text": [
      "2\n",
      "3\n",
      "5\n",
      "7\n",
      "11\n",
      "13\n",
      "17\n",
      "19\n",
      "23\n",
      "29\n",
      "31\n",
      "37\n",
      "41\n",
      "43\n",
      "47\n"
     ]
    }
   ],
   "source": [
    "#Q.10)Write a code that generates prime numbers up to n using a generator.\n",
    "def is_prime(num):\n",
    "    if num <= 1:\n",
    "        return False\n",
    "    for i in range(2, int(num**0.5) + 1):\n",
    "        if num % i == 0:\n",
    "            return False\n",
    "    return True\n",
    "\n",
    "def prime_numbers(n):\n",
    "    for num in range(2, n + 1):\n",
    "        if is_prime(num):\n",
    "            yield num\n",
    "\n",
    "# Example usage\n",
    "for prime in prime_numbers(50):\n",
    "    print(prime)\n"
   ]
  },
  {
   "cell_type": "code",
   "execution_count": 7,
   "metadata": {},
   "outputs": [
    {
     "name": "stdout",
     "output_type": "stream",
     "text": [
      "8\n"
     ]
    }
   ],
   "source": [
    "#Q.11)Write a code that uses a lambda function to calculate the sum of two numbers.\n",
    "sum_two_numbers = lambda x, y: x + y\n",
    "\n",
    "# Example usage\n",
    "result = sum_two_numbers(5, 3)\n",
    "print(result)\n"
   ]
  },
  {
   "cell_type": "code",
   "execution_count": 8,
   "metadata": {},
   "outputs": [
    {
     "name": "stdout",
     "output_type": "stream",
     "text": [
      "16\n"
     ]
    }
   ],
   "source": [
    "#Q.12)Write a code that uses a lambda function to calculate the square of a given number.\n",
    "square = lambda x: x * x\n",
    "\n",
    "# Example usage\n",
    "result = square(4)\n",
    "print(result)\n"
   ]
  },
  {
   "cell_type": "code",
   "execution_count": 9,
   "metadata": {},
   "outputs": [
    {
     "name": "stdout",
     "output_type": "stream",
     "text": [
      "Odd\n"
     ]
    }
   ],
   "source": [
    "#Q.13)Write a code that uses a lambda function to check whether a given number is even or odd.\n",
    "check_even_odd = lambda x: \"Even\" if x % 2 == 0 else \"Odd\"\n",
    "\n",
    "# Example usage\n",
    "result = check_even_odd(7)\n",
    "print(result)\n"
   ]
  },
  {
   "cell_type": "code",
   "execution_count": 10,
   "metadata": {},
   "outputs": [
    {
     "name": "stdout",
     "output_type": "stream",
     "text": [
      "Hello, world!\n"
     ]
    }
   ],
   "source": [
    "#Q.15)Write a code that uses a lambda function to concatenate two strings.\n",
    "concat_strings = lambda s1, s2: s1 + s2\n",
    "\n",
    "# Example usage\n",
    "result = concat_strings(\"Hello, \", \"world!\")\n",
    "print(result)\n"
   ]
  },
  {
   "cell_type": "code",
   "execution_count": 11,
   "metadata": {},
   "outputs": [
    {
     "name": "stdout",
     "output_type": "stream",
     "text": [
      "20\n"
     ]
    }
   ],
   "source": [
    "#Q.16)Write a code that uses a lambda function to find the maximum of three given numbers.\n",
    "max_of_three = lambda a, b, c: max(a, b, c)\n",
    "\n",
    "# Example usage\n",
    "result = max_of_three(10, 20, 15)\n",
    "print(result)\n"
   ]
  },
  {
   "cell_type": "code",
   "execution_count": 12,
   "metadata": {},
   "outputs": [
    {
     "name": "stdout",
     "output_type": "stream",
     "text": [
      "[4, 16, 36, 64, 100]\n"
     ]
    }
   ],
   "source": [
    "#Q.17)Write a code that generates the squares of even numbers from a given list.\n",
    "numbers = [1, 2, 3, 4, 5, 6, 7, 8, 9, 10]\n",
    "\n",
    "squares_of_even = [x**2 for x in numbers if x % 2 == 0]\n",
    "\n",
    "print(squares_of_even)\n"
   ]
  },
  {
   "cell_type": "code",
   "execution_count": 13,
   "metadata": {},
   "outputs": [
    {
     "name": "stdout",
     "output_type": "stream",
     "text": [
      "72\n"
     ]
    }
   ],
   "source": [
    "#Q.18)Write a code that calculates the product of positive numbers from a given list.\n",
    "from functools import reduce\n",
    "\n",
    "numbers = [1, -2, 3, 4, -5, 6]\n",
    "\n",
    "product_of_positives = reduce(lambda x, y: x * y, [num for num in numbers if num > 0], 1)\n",
    "\n",
    "print(product_of_positives)\n"
   ]
  },
  {
   "cell_type": "code",
   "execution_count": 14,
   "metadata": {},
   "outputs": [
    {
     "name": "stdout",
     "output_type": "stream",
     "text": [
      "[2, 4, 6, 8, 10]\n"
     ]
    }
   ],
   "source": [
    "#Q.19)Write a code that doubles the values of all numbers from a given list\n",
    "numbers = [1, 2, 3, 4, 5]\n",
    "\n",
    "doubled_numbers = [num * 2 for num in numbers]\n",
    "\n",
    "print(doubled_numbers)\n"
   ]
  },
  {
   "cell_type": "code",
   "execution_count": 15,
   "metadata": {},
   "outputs": [
    {
     "name": "stdout",
     "output_type": "stream",
     "text": [
      "225\n"
     ]
    }
   ],
   "source": [
    "#Q.20)Write a code that calculates the sum of cubes of numbers from a given list.\n",
    "numbers = [1, 2, 3, 4, 5]\n",
    "\n",
    "sum_of_cubes = sum(num ** 3 for num in numbers)\n",
    "\n",
    "print(sum_of_cubes)\n"
   ]
  },
  {
   "cell_type": "code",
   "execution_count": 16,
   "metadata": {},
   "outputs": [
    {
     "name": "stdout",
     "output_type": "stream",
     "text": [
      "[2, 3, 5, 7]\n"
     ]
    }
   ],
   "source": [
    "#Q.21)Write a code that filters out prime numbers from a given list.\n",
    "def is_prime(n):\n",
    "    if n <= 1:\n",
    "        return False\n",
    "    if n <= 3:\n",
    "        return True\n",
    "    if n % 2 == 0 or n % 3 == 0:\n",
    "        return False\n",
    "    i = 5\n",
    "    while i * i <= n:\n",
    "        if n % i == 0 or n % (i + 2) == 0:\n",
    "            return False\n",
    "        i += 6\n",
    "    return True\n",
    "\n",
    "numbers = [1, 2, 3, 4, 5, 6, 7, 8, 9, 10]\n",
    "prime_numbers = []\n",
    "for num in numbers:\n",
    "    if is_prime(num):\n",
    "        prime_numbers.append(num)\n",
    "\n",
    "print(prime_numbers)\n"
   ]
  },
  {
   "cell_type": "code",
   "execution_count": 17,
   "metadata": {},
   "outputs": [
    {
     "name": "stdout",
     "output_type": "stream",
     "text": [
      "8\n"
     ]
    }
   ],
   "source": [
    "#Q.22)Write a code that uses a lambda function to calculate the sum of two numbers.\n",
    "sum_two_numbers = lambda a, b: a + b\n",
    "\n",
    "result = sum_two_numbers(5, 3)\n",
    "print(result)\n"
   ]
  },
  {
   "cell_type": "code",
   "execution_count": 18,
   "metadata": {},
   "outputs": [
    {
     "name": "stdout",
     "output_type": "stream",
     "text": [
      "16\n"
     ]
    }
   ],
   "source": [
    "#Q.23)Write a code that uses a lambda function to calculate the square of a given number.\n",
    "square = lambda x: x * x\n",
    "\n",
    "result = square(4)\n",
    "print(result)\n"
   ]
  },
  {
   "cell_type": "code",
   "execution_count": 19,
   "metadata": {},
   "outputs": [
    {
     "name": "stdout",
     "output_type": "stream",
     "text": [
      "False\n"
     ]
    }
   ],
   "source": [
    "#Q.24)Write a code that uses a lambda function to check whether a given number is even or odd.\n",
    "is_even = lambda x: x % 2 == 0\n",
    "\n",
    "result = is_even(5)\n",
    "print(result)\n"
   ]
  },
  {
   "cell_type": "code",
   "execution_count": 20,
   "metadata": {},
   "outputs": [
    {
     "name": "stdout",
     "output_type": "stream",
     "text": [
      "Hello, world!\n"
     ]
    }
   ],
   "source": [
    "#Q.25)Write a code that uses a lambda function to concatenate two strings.\n",
    "concat = lambda str1, str2: str1 + str2\n",
    "\n",
    "result = concat(\"Hello, \", \"world!\")\n",
    "print(result)\n"
   ]
  },
  {
   "cell_type": "code",
   "execution_count": 21,
   "metadata": {},
   "outputs": [
    {
     "name": "stdout",
     "output_type": "stream",
     "text": [
      "20\n"
     ]
    }
   ],
   "source": [
    "#Q.26)Write a code that uses a lambda function to find the maximum of three given numbers.\n",
    "max_of_three = lambda x, y, z: max(x, y, z)\n",
    "\n",
    "result = max_of_three(10, 20, 15)\n",
    "print(result)\n"
   ]
  },
  {
   "cell_type": "code",
   "execution_count": 22,
   "metadata": {},
   "outputs": [
    {
     "name": "stdout",
     "output_type": "stream",
     "text": [
      "Generic animal sound\n",
      "Woof!\n"
     ]
    }
   ],
   "source": [
    "#Q.32)1.\tDefine a parent class Animal with a method make_sound that prints \"Generic animal sound\". Create a child class Dog inheriting from Animal with a method make_sound that prints \"Woof!\".\n",
    "class Animal:\n",
    "    def make_sound(self):\n",
    "        print(\"Generic animal sound\")\n",
    "\n",
    "class Dog(Animal):\n",
    "    def make_sound(self):\n",
    "        print(\"Woof!\")\n",
    "\n",
    "# Example usage\n",
    "animal = Animal()\n",
    "animal.make_sound()  \n",
    "\n",
    "dog = Dog()\n",
    "dog.make_sound()  \n"
   ]
  },
  {
   "cell_type": "code",
   "execution_count": 23,
   "metadata": {},
   "outputs": [
    {
     "name": "stdout",
     "output_type": "stream",
     "text": [
      "Animal moves\n",
      "Dog runs\n"
     ]
    }
   ],
   "source": [
    "#Q.33)1.\tDefine a method move in the Animal class that prints \"Animal moves\". Override the move method in the Dog class to print \"Dog runs\".\n",
    "class Animal:\n",
    "    def move(self):\n",
    "        print(\"Animal moves\")\n",
    "\n",
    "class Dog(Animal):\n",
    "    def move(self):\n",
    "        print(\"Dog runs\")\n",
    "\n",
    "# Example usage\n",
    "animal = Animal()\n",
    "animal.move() \n",
    "\n",
    "dog = Dog()\n",
    "dog.move() \n"
   ]
  },
  {
   "cell_type": "code",
   "execution_count": 24,
   "metadata": {},
   "outputs": [
    {
     "name": "stdout",
     "output_type": "stream",
     "text": [
      "Dog runs\n",
      "Giving birth to live young\n"
     ]
    }
   ],
   "source": [
    "#Q.34)Create a class Mammal with a method reproduce that prints \"Giving birth to live young\". Create a class DogMammal inheriting from both Dog and Mammal.\n",
    "class Animal:\n",
    "    def move(self):\n",
    "        print(\"Animal moves\")\n",
    "\n",
    "class Dog(Animal):\n",
    "    def move(self):\n",
    "        print(\"Dog runs\")\n",
    "\n",
    "class Mammal:\n",
    "    def reproduce(self):\n",
    "        print(\"Giving birth to live young\")\n",
    "\n",
    "class DogMammal(Dog, Mammal):\n",
    "    pass\n",
    "\n",
    "# Example usage\n",
    "dog_mammal = DogMammal()\n",
    "dog_mammal.move()        \n",
    "dog_mammal.reproduce()    "
   ]
  },
  {
   "cell_type": "code",
   "execution_count": 25,
   "metadata": {},
   "outputs": [
    {
     "name": "stdout",
     "output_type": "stream",
     "text": [
      "Bark!\n"
     ]
    }
   ],
   "source": [
    "#Q.35)Create a class GermanShepherd inheriting from Dog and override the make_sound method to print \"Bark!\".\n",
    "class Dog:\n",
    "    def make_sound(self):\n",
    "        print(\"Woof!\")\n",
    "\n",
    "class GermanShepherd(Dog):\n",
    "    def make_sound(self):\n",
    "        print(\"Bark!\")\n",
    "\n",
    "# Example usage\n",
    "gs = GermanShepherd()\n",
    "gs.make_sound()\n"
   ]
  },
  {
   "cell_type": "code",
   "execution_count": 26,
   "metadata": {},
   "outputs": [
    {
     "name": "stdout",
     "output_type": "stream",
     "text": [
      "Buddy\n",
      "Golden Retriever\n",
      "Woof!\n"
     ]
    }
   ],
   "source": [
    "#Q.36)Define constructors in both the Animal and Dog classes with different initialization parameters\n",
    "class Animal:\n",
    "    def __init__(self, name):\n",
    "        self.name = name\n",
    "\n",
    "    def make_sound(self):\n",
    "        print(\"Generic animal sound\")\n",
    "\n",
    "class Dog(Animal):\n",
    "    def __init__(self, name, breed):\n",
    "        super().__init__(name)\n",
    "        self.breed = breed\n",
    "\n",
    "    def make_sound(self):\n",
    "        print(\"Woof!\")\n",
    "\n",
    "# Example usage\n",
    "dog = Dog(\"Buddy\", \"Golden Retriever\")\n",
    "print(dog.name)\n",
    "print(dog.breed)\n",
    "dog.make_sound()\n"
   ]
  },
  {
   "cell_type": "code",
   "execution_count": 27,
   "metadata": {},
   "outputs": [
    {
     "name": "stdout",
     "output_type": "stream",
     "text": [
      "Car engine started.\n",
      "Car is driving.\n",
      "Car engine stopped.\n",
      "Bike engine started.\n",
      "Bike is driving.\n",
      "Bike engine stopped.\n"
     ]
    }
   ],
   "source": [
    "#Q.41)Can you provide an example of how abstraction can be utilized to create a common interface for a group of related classes in Python?\n",
    "from abc import ABC, abstractmethod\n",
    "\n",
    "# Define the abstract base class (interface)\n",
    "class Vehicle(ABC):\n",
    "    \n",
    "    @abstractmethod\n",
    "    def start_engine(self):\n",
    "        pass\n",
    "    \n",
    "    @abstractmethod\n",
    "    def stop_engine(self):\n",
    "        pass\n",
    "    \n",
    "    @abstractmethod\n",
    "    def drive(self):\n",
    "        pass\n",
    "\n",
    "# Concrete class that implements the Vehicle interface\n",
    "class Car(Vehicle):\n",
    "    \n",
    "    def start_engine(self):\n",
    "        print(\"Car engine started.\")\n",
    "    \n",
    "    def stop_engine(self):\n",
    "        print(\"Car engine stopped.\")\n",
    "    \n",
    "    def drive(self):\n",
    "        print(\"Car is driving.\")\n",
    "\n",
    "# Another concrete class that implements the Vehicle interface\n",
    "class Bike(Vehicle):\n",
    "    \n",
    "    def start_engine(self):\n",
    "        print(\"Bike engine started.\")\n",
    "    \n",
    "    def stop_engine(self):\n",
    "        print(\"Bike engine stopped.\")\n",
    "    \n",
    "    def drive(self):\n",
    "        print(\"Bike is driving.\")\n",
    "\n",
    "# Usage\n",
    "vehicles = [Car(), Bike()]\n",
    "\n",
    "for vehicle in vehicles:\n",
    "    vehicle.start_engine()\n",
    "    vehicle.drive()\n",
    "    vehicle.stop_engine()\n"
   ]
  },
  {
   "cell_type": "code",
   "execution_count": 28,
   "metadata": {},
   "outputs": [
    {
     "name": "stdout",
     "output_type": "stream",
     "text": [
      "Woof!\n",
      "Meow!\n"
     ]
    }
   ],
   "source": [
    "#Q.42)How does Python achieve polymorphism through method overriding?\n",
    "class Animal:\n",
    "    def make_sound(self):\n",
    "        print(\"Generic animal sound\")\n",
    "\n",
    "class Dog(Animal):\n",
    "    def make_sound(self):\n",
    "        print(\"Woof!\")\n",
    "\n",
    "class Cat(Animal):\n",
    "    def make_sound(self):\n",
    "        print(\"Meow!\")\n",
    "\n",
    "# Create instances of Dog and Cat\n",
    "animals = [Dog(), Cat()]\n",
    "\n",
    "# Call make_sound method on each instance\n",
    "for animal in animals:\n",
    "    animal.make_sound()\n"
   ]
  },
  {
   "cell_type": "code",
   "execution_count": 29,
   "metadata": {},
   "outputs": [
    {
     "name": "stdout",
     "output_type": "stream",
     "text": [
      "Hello from BaseClass\n",
      "Hello from SubClass\n"
     ]
    }
   ],
   "source": [
    "#Q.43)Define a base class with a method and a subclass that overrides the method\n",
    "class BaseClass:\n",
    "    def greet(self):\n",
    "        print(\"Hello from BaseClass\")\n",
    "\n",
    "class SubClass(BaseClass):\n",
    "    def greet(self):\n",
    "        print(\"Hello from SubClass\")\n",
    "\n",
    "# Create instances of BaseClass and SubClass\n",
    "base_instance = BaseClass()\n",
    "sub_instance = SubClass()\n",
    "\n",
    "# Call the greet method on both instances\n",
    "base_instance.greet()  # Output: Hello from BaseClass\n",
    "sub_instance.greet()  # Output: Hello from SubClass\n"
   ]
  },
  {
   "cell_type": "code",
   "execution_count": 30,
   "metadata": {},
   "outputs": [
    {
     "name": "stdout",
     "output_type": "stream",
     "text": [
      "Woof!\n",
      "Meow!\n",
      "Moo!\n"
     ]
    }
   ],
   "source": [
    "#Q.44)Define a base class and multiple subclasses with overridden methods.\n",
    "class Animal:\n",
    "    def make_sound(self):\n",
    "        print(\"Generic animal sound\")\n",
    "\n",
    "class Dog(Animal):\n",
    "    def make_sound(self):\n",
    "        print(\"Woof!\")\n",
    "\n",
    "class Cat(Animal):\n",
    "    def make_sound(self):\n",
    "        print(\"Meow!\")\n",
    "\n",
    "class Cow(Animal):\n",
    "    def make_sound(self):\n",
    "        print(\"Moo!\")\n",
    "\n",
    "# Create instances of each subclass\n",
    "dog = Dog()\n",
    "cat = Cat()\n",
    "cow = Cow()\n",
    "\n",
    "# Call the make_sound method on each instance\n",
    "dog.make_sound()  # Output: Woof!\n",
    "cat.make_sound()  # Output: Meow!\n",
    "cow.make_sound()  # Output: Moo!\n"
   ]
  },
  {
   "cell_type": "code",
   "execution_count": 31,
   "metadata": {},
   "outputs": [
    {
     "name": "stdout",
     "output_type": "stream",
     "text": [
      "Quack!\n",
      "I can quack like a duck!\n"
     ]
    }
   ],
   "source": [
    "#Q.46)Describe how Python supports polymorphism with duck typing.\n",
    "class Duck:\n",
    "    def quack(self):\n",
    "        print(\"Quack!\")\n",
    "\n",
    "    def fly(self):\n",
    "        print(\"Duck is flying!\")\n",
    "\n",
    "class Person:\n",
    "    def quack(self):\n",
    "        print(\"I can quack like a duck!\")\n",
    "\n",
    "    def fly(self):\n",
    "        print(\"I can pretend to fly!\")\n",
    "\n",
    "def make_it_quack(thing):\n",
    "    thing.quack()\n",
    "\n",
    "# Create instances\n",
    "duck = Duck()\n",
    "person = Person()\n",
    "\n",
    "make_it_quack(duck)   # Output: Quack!\n",
    "make_it_quack(person) # Output: I can quack like a duck!\n"
   ]
  },
  {
   "cell_type": "code",
   "execution_count": 32,
   "metadata": {},
   "outputs": [
    {
     "name": "stdout",
     "output_type": "stream",
     "text": [
      "Initial Balance: 100\n",
      "Balance after deposit: 150\n",
      "Balance after withdrawal: 120\n",
      "Invalid withdrawal amount or insufficient funds.\n"
     ]
    }
   ],
   "source": [
    "#Q.49)\tImplement a class BankAccount with a private balance attribute. Include methods to deposit, withdraw, and check the balance.\n",
    "class BankAccount:\n",
    "    def __init__(self, initial_balance=0):\n",
    "        self.__balance = initial_balance\n",
    "\n",
    "    def deposit(self, amount):\n",
    "        if amount > 0:\n",
    "            self.__balance += amount\n",
    "        else:\n",
    "            print(\"Deposit amount must be positive.\")\n",
    "\n",
    "    def withdraw(self, amount):\n",
    "        if 0 < amount <= self.__balance:\n",
    "            self.__balance -= amount\n",
    "        else:\n",
    "            print(\"Invalid withdrawal amount or insufficient funds.\")\n",
    "\n",
    "    def check_balance(self):\n",
    "        return self.__balance\n",
    "\n",
    "# Example usage\n",
    "account = BankAccount(100)\n",
    "print(\"Initial Balance:\", account.check_balance())  # Output: Initial Balance: 100\n",
    "\n",
    "account.deposit(50)\n",
    "print(\"Balance after deposit:\", account.check_balance())  # Output: Balance after deposit: 150\n",
    "\n",
    "account.withdraw(30)\n",
    "print(\"Balance after withdrawal:\", account.check_balance())  # Output: Balance after withdrawal: 120\n",
    "\n",
    "account.withdraw(200)  # Output: Invalid withdrawal amount or insufficient funds.\n"
   ]
  },
  {
   "cell_type": "code",
   "execution_count": 33,
   "metadata": {},
   "outputs": [
    {
     "name": "stdout",
     "output_type": "stream",
     "text": [
      "Name: John Doe\n",
      "Email: john.doe@example.com\n",
      "Updated Email: john.newemail@example.com\n"
     ]
    }
   ],
   "source": [
    "#Q.50)Develop a Person class with private attributes name and email, and methods to set and get the email.\n",
    "class Person:\n",
    "    def __init__(self, name, email):\n",
    "        self.__name = name\n",
    "        self.__email = email\n",
    "\n",
    "    def set_email(self, email):\n",
    "        self.__email = email\n",
    "\n",
    "    def get_email(self):\n",
    "        return self.__email\n",
    "\n",
    "    def get_name(self):\n",
    "        return self.__name\n",
    "\n",
    "# Example usage\n",
    "person = Person(\"John Doe\", \"john.doe@example.com\")\n",
    "print(\"Name:\", person.get_name())  # Output: Name: John Doe\n",
    "print(\"Email:\", person.get_email())  # Output: Email: john.doe@example.com\n",
    "\n",
    "person.set_email(\"john.newemail@example.com\")\n",
    "print(\"Updated Email:\", person.get_email())  # Output: Updated Email: john.newemail@example.com\n"
   ]
  },
  {
   "cell_type": "code",
   "execution_count": 34,
   "metadata": {},
   "outputs": [
    {
     "name": "stdout",
     "output_type": "stream",
     "text": [
      "Before function execution\n",
      "Function is executing\n",
      "After function execution\n"
     ]
    }
   ],
   "source": [
    "#Q.52)Create a decorator in Python that adds functionality to a simple function by printing a message before and after the function execution\n",
    "def my_decorator(func):\n",
    "    def wrapper(*args, **kwargs):\n",
    "        print(\"Before function execution\")\n",
    "        result = func(*args, **kwargs)\n",
    "        print(\"After function execution\")\n",
    "        return result\n",
    "    return wrapper\n",
    "\n",
    "@my_decorator\n",
    "def simple_function():\n",
    "    print(\"Function is executing\")\n",
    "\n",
    "simple_function()\n"
   ]
  },
  {
   "cell_type": "code",
   "execution_count": 35,
   "metadata": {},
   "outputs": [
    {
     "name": "stdout",
     "output_type": "stream",
     "text": [
      "Log - Function: simple_function\n",
      "Function is executing\n",
      "Log - Function: simple_function completed\n"
     ]
    }
   ],
   "source": [
    "#Q.53)Modify the decorator to accept arguments and print the function name along with the message\n",
    "def my_decorator_with_args(message):\n",
    "    def decorator(func):\n",
    "        def wrapper(*args, **kwargs):\n",
    "            print(f\"{message} - Function: {func.__name__}\")\n",
    "            result = func(*args, **kwargs)\n",
    "            print(f\"{message} - Function: {func.__name__} completed\")\n",
    "            return result\n",
    "        return wrapper\n",
    "    return decorator\n",
    "\n",
    "@my_decorator_with_args(\"Log\")\n",
    "def simple_function():\n",
    "    print(\"Function is executing\")\n",
    "\n",
    "simple_function()\n"
   ]
  },
  {
   "cell_type": "code",
   "execution_count": 36,
   "metadata": {},
   "outputs": [
    {
     "name": "stdout",
     "output_type": "stream",
     "text": [
      "Decorator One - Before\n",
      "Decorator Two - Before\n",
      "Function is executing\n",
      "Decorator Two - After\n",
      "Decorator One - After\n"
     ]
    }
   ],
   "source": [
    "#Q.54)Create two decorators and apply them to a single function. Ensure that they execute in the order they are applied\n",
    "def decorator_one(func):\n",
    "    def wrapper(*args, **kwargs):\n",
    "        print(\"Decorator One - Before\")\n",
    "        result = func(*args, **kwargs)\n",
    "        print(\"Decorator One - After\")\n",
    "        return result\n",
    "    return wrapper\n",
    "\n",
    "def decorator_two(func):\n",
    "    def wrapper(*args, **kwargs):\n",
    "        print(\"Decorator Two - Before\")\n",
    "        result = func(*args, **kwargs)\n",
    "        print(\"Decorator Two - After\")\n",
    "        return result\n",
    "    return wrapper\n",
    "\n",
    "@decorator_one\n",
    "@decorator_two\n",
    "def simple_function():\n",
    "    print(\"Function is executing\")\n",
    "\n",
    "simple_function()\n"
   ]
  },
  {
   "cell_type": "code",
   "execution_count": 37,
   "metadata": {},
   "outputs": [
    {
     "name": "stdout",
     "output_type": "stream",
     "text": [
      "Before function execution\n",
      "After function execution\n",
      "8\n"
     ]
    }
   ],
   "source": [
    "#Q.55)Modify the decorator to accept and pass function arguments to the wrapped function\n",
    "def my_decorator_with_args(func):\n",
    "    def wrapper(*args, **kwargs):\n",
    "        print(\"Before function execution\")\n",
    "        result = func(*args, **kwargs)\n",
    "        print(\"After function execution\")\n",
    "        return result\n",
    "    return wrapper\n",
    "\n",
    "@my_decorator_with_args\n",
    "def add_numbers(a, b):\n",
    "    return a + b\n",
    "\n",
    "print(add_numbers(5, 3))\n"
   ]
  },
  {
   "cell_type": "code",
   "execution_count": 38,
   "metadata": {},
   "outputs": [
    {
     "name": "stdout",
     "output_type": "stream",
     "text": [
      "simple_function\n",
      "This is a simple function.\n",
      "Before function execution\n",
      "Function is executing\n",
      "After function execution\n"
     ]
    }
   ],
   "source": [
    "#Q.56)Create a decorator that preserves the metadata of the original function\n",
    "from functools import wraps\n",
    "\n",
    "def preserve_metadata(func):\n",
    "    @wraps(func)\n",
    "    def wrapper(*args, **kwargs):\n",
    "        print(\"Before function execution\")\n",
    "        result = func(*args, **kwargs)\n",
    "        print(\"After function execution\")\n",
    "        return result\n",
    "    return wrapper\n",
    "\n",
    "@preserve_metadata\n",
    "def simple_function():\n",
    "    \"\"\"This is a simple function.\"\"\"\n",
    "    print(\"Function is executing\")\n",
    "\n",
    "print(simple_function.__name__)  # Output: simple_function\n",
    "print(simple_function.__doc__)   # Output: This is a simple function.\n",
    "simple_function()\n"
   ]
  },
  {
   "cell_type": "code",
   "execution_count": 39,
   "metadata": {},
   "outputs": [
    {
     "name": "stdout",
     "output_type": "stream",
     "text": [
      "8\n"
     ]
    }
   ],
   "source": [
    "#Q.57)Create a Python class Calculator with a static method add that takes in two numbers and returns their sum\n",
    "class Calculator:\n",
    "    @staticmethod\n",
    "    def add(x, y):\n",
    "        return x + y\n",
    "\n",
    "# Usage\n",
    "print(Calculator.add(5, 3))\n"
   ]
  },
  {
   "cell_type": "code",
   "execution_count": 40,
   "metadata": {},
   "outputs": [
    {
     "name": "stdout",
     "output_type": "stream",
     "text": [
      "2\n"
     ]
    }
   ],
   "source": [
    "#Q.58)Create a Python class Employee with a class method get_employee_count that returns the total number of employees created\n",
    "class Employee:\n",
    "    _count = 0\n",
    "\n",
    "    def __init__(self):\n",
    "        Employee._count += 1\n",
    "\n",
    "    @classmethod\n",
    "    def get_employee_count(cls):\n",
    "        return cls._count\n",
    "\n",
    "# Usage\n",
    "emp1 = Employee()\n",
    "emp2 = Employee()\n",
    "print(Employee.get_employee_count())\n"
   ]
  },
  {
   "cell_type": "code",
   "execution_count": 41,
   "metadata": {},
   "outputs": [
    {
     "name": "stdout",
     "output_type": "stream",
     "text": [
      "olleH\n"
     ]
    }
   ],
   "source": [
    "#Q.59)Create a Python class StringFormatter with a static method reverse_string that takes a string as input and returns its reverse\n",
    "class StringFormatter:\n",
    "    @staticmethod\n",
    "    def reverse_string(s):\n",
    "        return s[::-1]\n",
    "\n",
    "# Usage\n",
    "print(StringFormatter.reverse_string(\"Hello\"))\n"
   ]
  },
  {
   "cell_type": "code",
   "execution_count": 42,
   "metadata": {},
   "outputs": [
    {
     "name": "stdout",
     "output_type": "stream",
     "text": [
      "78.53981633974483\n"
     ]
    }
   ],
   "source": [
    "#Q.60)Create a Python class Circle with a class method calculate_area that calculates the area of a circle given its radius\n",
    "import math\n",
    "\n",
    "class Circle:\n",
    "    @classmethod\n",
    "    def calculate_area(cls, radius):\n",
    "        return math.pi * (radius ** 2)\n",
    "\n",
    "# Usage\n",
    "print(Circle.calculate_area(5))\n"
   ]
  },
  {
   "cell_type": "code",
   "execution_count": 43,
   "metadata": {},
   "outputs": [
    {
     "name": "stdout",
     "output_type": "stream",
     "text": [
      "77.0\n"
     ]
    }
   ],
   "source": [
    "#Q.61)Create a Python class TemperatureConverter with a static method celsius_to_fahrenheit that converts Celsius to Fahrenheit\n",
    "class TemperatureConverter:\n",
    "    @staticmethod\n",
    "    def celsius_to_fahrenheit(celsius):\n",
    "        return (celsius * 9/5) + 32\n",
    "\n",
    "# Usage\n",
    "print(TemperatureConverter.celsius_to_fahrenheit(25))\n",
    "\n"
   ]
  },
  {
   "cell_type": "code",
   "execution_count": 44,
   "metadata": {},
   "outputs": [
    {
     "name": "stdout",
     "output_type": "stream",
     "text": [
      "Person(name=Alice, age=30)\n"
     ]
    }
   ],
   "source": [
    "#Q.62)What is the purpose of the __str__() method in Python classes? Provide an example.\n",
    "class Person:\n",
    "    def __init__(self, name, age):\n",
    "        self.name = name\n",
    "        self.age = age\n",
    "\n",
    "    def __str__(self):\n",
    "        return f\"Person(name={self.name}, age={self.age})\"\n",
    "\n",
    "# Creating an instance of Person\n",
    "person = Person(\"Alice\", 30)\n",
    "\n",
    "# Printing the instance\n",
    "print(person)\n"
   ]
  },
  {
   "cell_type": "code",
   "execution_count": 45,
   "metadata": {},
   "outputs": [
    {
     "name": "stdout",
     "output_type": "stream",
     "text": [
      "5\n"
     ]
    }
   ],
   "source": [
    "#Q.63)What does the __len__() method do in Python? Provide an example.\n",
    "class MyList:\n",
    "    def __init__(self, items):\n",
    "        self.items = items\n",
    "\n",
    "    def __len__(self):\n",
    "        return len(self.items)\n",
    "\n",
    "# Creating an instance of MyList\n",
    "my_list = MyList([1, 2, 3, 4, 5])\n",
    "\n",
    "# Getting the length of the instance\n",
    "print(len(my_list))\n"
   ]
  },
  {
   "cell_type": "code",
   "execution_count": 46,
   "metadata": {},
   "outputs": [
    {
     "name": "stdout",
     "output_type": "stream",
     "text": [
      "Point(4, 6)\n"
     ]
    }
   ],
   "source": [
    "#Q.64)Explain the usage of the __add__() method in Python classes. Provide an example.\n",
    "class Point:\n",
    "    def __init__(self, x, y):\n",
    "        self.x = x\n",
    "        self.y = y\n",
    "\n",
    "    def __add__(self, other):\n",
    "        return Point(self.x + other.x, self.y + other.y)\n",
    "\n",
    "    def __repr__(self):\n",
    "        return f\"Point({self.x}, {self.y})\"\n",
    "\n",
    "# Creating two Point objects\n",
    "p1 = Point(1, 2)\n",
    "p2 = Point(3, 4)\n",
    "\n",
    "# Adding the two Point objects\n",
    "p3 = p1 + p2\n",
    "\n",
    "# Printing the result\n",
    "print(p3)\n"
   ]
  },
  {
   "cell_type": "code",
   "execution_count": 47,
   "metadata": {},
   "outputs": [
    {
     "name": "stdout",
     "output_type": "stream",
     "text": [
      "20\n",
      "40\n"
     ]
    }
   ],
   "source": [
    "#Q.65)What is the purpose of the __getitem__() method in Python? Provide an example.\n",
    "class MyList:\n",
    "    def __init__(self, *args):\n",
    "        self.items = list(args)\n",
    "\n",
    "    def __getitem__(self, index):\n",
    "        return self.items[index]\n",
    "\n",
    "# Creating an instance of MyList\n",
    "my_list = MyList(10, 20, 30, 40)\n",
    "\n",
    "# Accessing elements using the index\n",
    "print(my_list[1])  # Output: 20\n",
    "print(my_list[3])  # Output: 40\n"
   ]
  },
  {
   "cell_type": "code",
   "execution_count": 48,
   "metadata": {},
   "outputs": [
    {
     "name": "stdout",
     "output_type": "stream",
     "text": [
      "1\n",
      "2\n",
      "3\n",
      "4\n"
     ]
    }
   ],
   "source": [
    "#Q.66)Explain the usage of the __iter__() and __next__() methods in Python. Provide an example using iterators\n",
    "class MyRange:\n",
    "    def __init__(self, start, end):\n",
    "        self.start = start\n",
    "        self.end = end\n",
    "        self.current = start\n",
    "    \n",
    "    def __iter__(self):\n",
    "        return self\n",
    "    \n",
    "    def __next__(self):\n",
    "        if self.current < self.end:\n",
    "            value = self.current\n",
    "            self.current += 1\n",
    "            return value\n",
    "        else:\n",
    "            raise StopIteration\n",
    "\n",
    "# Creating an instance of MyRange\n",
    "my_range = MyRange(1, 5)\n",
    "\n",
    "# Iterating through the MyRange instance\n",
    "for number in my_range:\n",
    "    print(number)\n"
   ]
  },
  {
   "cell_type": "code",
   "execution_count": null,
   "metadata": {},
   "outputs": [],
   "source": [
    "#Q.67)What is the purpose of a getter method in Python? Provide an example demonstrating the use of a getter method using a custom class.\n",
    "class Person:\n",
    "    def __init__(self, name, age):\n",
    "        self.__name = name  # Private attribute\n",
    "        self.__age = age    # Private attribute\n",
    "    \n",
    "    def get_name(self):\n",
    "        return self.__name  # Getter method for name\n",
    "    \n",
    "    def get_age(self):\n",
    "        return self.__age   # Getter method for age\n",
    "\n",
    "# Creating an instance of Person\n",
    "person = Person(\"Alice\", 30)\n",
    "\n",
    "# Accessing private attributes using getter methods\n",
    "print(person.get_name())  # Output: Alice\n",
    "print(person.get_age())   # Output: 30\n"
   ]
  },
  {
   "cell_type": "code",
   "execution_count": 49,
   "metadata": {},
   "outputs": [
    {
     "name": "stdout",
     "output_type": "stream",
     "text": [
      "Bob\n",
      "25\n",
      "Age must be a positive integer\n"
     ]
    }
   ],
   "source": [
    "#Q.68)Explain the role of setter methods in Python. Provide an example demonstrating how to use a setter method to modify a class attribute.\n",
    "class Person:\n",
    "    def __init__(self, name, age):\n",
    "        self.__name = name  # Private attribute\n",
    "        self.__age = age    # Private attribute\n",
    "    \n",
    "    @property\n",
    "    def name(self):\n",
    "        return self.__name  # Getter method for name\n",
    "\n",
    "    @name.setter\n",
    "    def name(self, value):\n",
    "        if isinstance(value, str) and value:\n",
    "            self.__name = value  # Setter method for name\n",
    "        else:\n",
    "            raise ValueError(\"Name must be a non-empty string\")\n",
    "\n",
    "    @property\n",
    "    def age(self):\n",
    "        return self.__age   # Getter method for age\n",
    "\n",
    "    @age.setter\n",
    "    def age(self, value):\n",
    "        if isinstance(value, int) and value > 0:\n",
    "            self.__age = value  # Setter method for age\n",
    "        else:\n",
    "            raise ValueError(\"Age must be a positive integer\")\n",
    "\n",
    "# Creating an instance of Person\n",
    "person = Person(\"Alice\", 30)\n",
    "\n",
    "# Using setter methods to modify private attributes\n",
    "person.name = \"Bob\"       # Calls the setter method for name\n",
    "person.age = 25           # Calls the setter method for age\n",
    "\n",
    "print(person.name)  # Output: Bob\n",
    "print(person.age)   # Output: 25\n",
    "\n",
    "# Attempting to set invalid values will raise an exception\n",
    "try:\n",
    "    person.age = -5\n",
    "except ValueError as e:\n",
    "    print(e)  # Output: Age must be a positive integer\n"
   ]
  },
  {
   "cell_type": "code",
   "execution_count": 50,
   "metadata": {},
   "outputs": [
    {
     "name": "stdout",
     "output_type": "stream",
     "text": [
      "5\n",
      "10\n",
      "314.159\n",
      "Radius must be a positive number\n"
     ]
    }
   ],
   "source": [
    "#Q.69)What is the purpose of the @property decorator in Python? Provide an example illustrating its usage.\n",
    "class Circle:\n",
    "    def __init__(self, radius):\n",
    "        self.__radius = radius\n",
    "    \n",
    "    @property\n",
    "    def radius(self):\n",
    "        return self.__radius  # Getter method for radius\n",
    "    \n",
    "    @radius.setter\n",
    "    def radius(self, value):\n",
    "        if value > 0:\n",
    "            self.__radius = value  # Setter method for radius\n",
    "        else:\n",
    "            raise ValueError(\"Radius must be a positive number\")\n",
    "\n",
    "    @property\n",
    "    def area(self):\n",
    "        return 3.14159 * (self.__radius ** 2)  # Computed property for area\n",
    "\n",
    "# Creating an instance of Circle\n",
    "circle = Circle(5)\n",
    "\n",
    "# Accessing the radius using the getter method\n",
    "print(circle.radius)  # Output: 5\n",
    "\n",
    "# Modifying the radius using the setter method\n",
    "circle.radius = 10\n",
    "\n",
    "# Accessing the updated radius\n",
    "print(circle.radius)  # Output: 10\n",
    "\n",
    "# Accessing the computed area\n",
    "print(circle.area)  # Output: 314.159\n",
    "\n",
    "# Attempting to set an invalid radius will raise an exception\n",
    "try:\n",
    "    circle.radius = -3\n",
    "except ValueError as e:\n",
    "    print(e)  # Output: Radius must be a positive number\n"
   ]
  },
  {
   "cell_type": "code",
   "execution_count": 51,
   "metadata": {},
   "outputs": [
    {
     "name": "stdout",
     "output_type": "stream",
     "text": [
      "25\n",
      "30\n",
      "Deleting temperature\n",
      "'Temperature' object has no attribute '_Temperature__celsius'\n"
     ]
    }
   ],
   "source": [
    "#Q.70)Explain the use of the @deleter decorator in Python property methods. Provide a code example demonstrating its application.\n",
    "class Temperature:\n",
    "    def __init__(self, celsius):\n",
    "        self.__celsius = celsius\n",
    "    \n",
    "    @property\n",
    "    def celsius(self):\n",
    "        return self.__celsius  # Getter method for celsius\n",
    "    \n",
    "    @celsius.setter\n",
    "    def celsius(self, value):\n",
    "        if value < -273.15:\n",
    "            raise ValueError(\"Temperature cannot be below absolute zero\")\n",
    "        self.__celsius = value  # Setter method for celsius\n",
    "    \n",
    "    @celsius.deleter\n",
    "    def celsius(self):\n",
    "        print(\"Deleting temperature\")\n",
    "        del self.__celsius  # Deleter method for celsius\n",
    "\n",
    "# Creating an instance of Temperature\n",
    "temp = Temperature(25)\n",
    "\n",
    "# Accessing the celsius property\n",
    "print(temp.celsius)  # Output: 25\n",
    "\n",
    "# Modifying the celsius property\n",
    "temp.celsius = 30\n",
    "print(temp.celsius)  # Output: 30\n",
    "\n",
    "# Deleting the celsius property\n",
    "del temp.celsius  # Output: Deleting temperature\n",
    "\n",
    "# Trying to access the celsius property after deletion will raise an AttributeError\n",
    "try:\n",
    "    print(temp.celsius)\n",
    "except AttributeError as e:\n",
    "    print(e)  # Output: 'Temperature' object has no attribute '_Temperature__celsius'\n",
    "\n"
   ]
  },
  {
   "cell_type": "code",
   "execution_count": null,
   "metadata": {},
   "outputs": [],
   "source": [
    "#Q.71)"
   ]
  }
 ],
 "metadata": {
  "kernelspec": {
   "display_name": "Python 3",
   "language": "python",
   "name": "python3"
  },
  "language_info": {
   "codemirror_mode": {
    "name": "ipython",
    "version": 3
   },
   "file_extension": ".py",
   "mimetype": "text/x-python",
   "name": "python",
   "nbconvert_exporter": "python",
   "pygments_lexer": "ipython3",
   "version": "3.12.4"
  }
 },
 "nbformat": 4,
 "nbformat_minor": 2
}
