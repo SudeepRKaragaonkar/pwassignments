{
 "cells": [
  {
   "cell_type": "code",
   "execution_count": 1,
   "metadata": {},
   "outputs": [
    {
     "name": "stdout",
     "output_type": "stream",
     "text": [
      "int32\n"
     ]
    }
   ],
   "source": [
    "#1.Create a NumPy array 'arr' of integers from 0 to 5 and print its data type.\n",
    "import numpy as np\n",
    "arr = np.array([0, 1, 2, 3, 4, 5])\n",
    "print(arr.dtype)\n"
   ]
  },
  {
   "cell_type": "code",
   "execution_count": 2,
   "metadata": {},
   "outputs": [
    {
     "name": "stdout",
     "output_type": "stream",
     "text": [
      "Data type is float64\n"
     ]
    }
   ],
   "source": [
    "#2.Given a NumPy array 'arr', check if its data type is float64.\n",
    "import numpy as np\n",
    "arr = np.array([1.5, 2.6, 3.7], dtype=np.float64)\n",
    "if arr.dtype == np.float64:\n",
    "    print(\"Data type is float64\")\n"
   ]
  },
  {
   "cell_type": "code",
   "execution_count": 3,
   "metadata": {},
   "outputs": [
    {
     "name": "stdout",
     "output_type": "stream",
     "text": [
      "[1.+2.j 3.+4.j 5.+6.j]\n"
     ]
    }
   ],
   "source": [
    "#3.Create a NumPy array 'arr' with a data type of complex128 containing three complex numbers.\n",
    "import numpy as np\n",
    "arr = np.array([1+2j, 3+4j, 5+6j], dtype=np.complex128)\n",
    "print(arr)\n"
   ]
  },
  {
   "cell_type": "code",
   "execution_count": 4,
   "metadata": {},
   "outputs": [
    {
     "name": "stdout",
     "output_type": "stream",
     "text": [
      "[1. 2. 3. 4. 5.]\n"
     ]
    }
   ],
   "source": [
    "#4.Convert an existing NumPy array 'arr' of integers to float32 data type.\n",
    "import numpy as np\n",
    "arr = np.array([1, 2, 3, 4, 5], dtype=np.int32)\n",
    "arr_float = arr.astype(np.float32)\n",
    "print(arr_float)\n"
   ]
  },
  {
   "cell_type": "code",
   "execution_count": 5,
   "metadata": {},
   "outputs": [
    {
     "name": "stdout",
     "output_type": "stream",
     "text": [
      "[1.2345679 2.3456788 3.456789 ]\n"
     ]
    }
   ],
   "source": [
    "#5.Given a NumPy array 'arr' with float64 data type, convert it to float32 to reduce decimal precision.\n",
    "import numpy as np\n",
    "arr = np.array([1.234567891, 2.345678912, 3.456789123], dtype=np.float64)\n",
    "arr_float32 = arr.astype(np.float32)\n",
    "print(arr_float32)\n"
   ]
  },
  {
   "cell_type": "code",
   "execution_count": 6,
   "metadata": {},
   "outputs": [
    {
     "name": "stdout",
     "output_type": "stream",
     "text": [
      "((2, 3), 6, dtype('int32'))\n"
     ]
    }
   ],
   "source": [
    "#6.Write a function array_attributes that takes a NumPy array as input and returns its shape, size, and data type.\n",
    "import numpy as np\n",
    "def array_attributes(arr):\n",
    "    return arr.shape, arr.size, arr.dtype\n",
    "\n",
    "arr = np.array([[1, 2, 3], [4, 5, 6]])\n",
    "print(array_attributes(arr))\n"
   ]
  },
  {
   "cell_type": "code",
   "execution_count": 7,
   "metadata": {},
   "outputs": [
    {
     "name": "stdout",
     "output_type": "stream",
     "text": [
      "2\n"
     ]
    }
   ],
   "source": [
    "#7.Create a function array_dimension that takes a NumPy array as input and returns its dimensionality.\n",
    "import numpy as np\n",
    "def array_dimension(arr):\n",
    "    return arr.ndim\n",
    "\n",
    "arr = np.array([[1, 2, 3], [4, 5, 6]])\n",
    "print(array_dimension(arr))\n"
   ]
  },
  {
   "cell_type": "code",
   "execution_count": 8,
   "metadata": {},
   "outputs": [
    {
     "name": "stdout",
     "output_type": "stream",
     "text": [
      "(4, 12)\n"
     ]
    }
   ],
   "source": [
    "#8.Design a function item_size_info that takes a NumPy array as input and returns the item size and the total size in bytes.\n",
    "import numpy as np\n",
    "def item_size_info(arr):\n",
    "    return arr.itemsize, arr.nbytes\n",
    "\n",
    "arr = np.array([1, 2, 3], dtype=np.int32)\n",
    "print(item_size_info(arr))\n"
   ]
  },
  {
   "cell_type": "code",
   "execution_count": 9,
   "metadata": {},
   "outputs": [
    {
     "name": "stdout",
     "output_type": "stream",
     "text": [
      "(8,)\n"
     ]
    }
   ],
   "source": [
    "#9.Create a function array_strides that takes a NumPy array as input and returns the strides of the array.\n",
    "import numpy as np\n",
    "def array_strides(arr):\n",
    "    return arr.strides\n",
    "\n",
    "arr = np.array([1.5, 2.6, 3.7])\n",
    "print(array_strides(arr))\n"
   ]
  },
  {
   "cell_type": "code",
   "execution_count": 10,
   "metadata": {},
   "outputs": [
    {
     "name": "stdout",
     "output_type": "stream",
     "text": [
      "((2, 3), (12, 4))\n"
     ]
    }
   ],
   "source": [
    "#10.Design a function shape_stride_relationship that takes a NumPy array as input and returns the shape and strides of the array.\n",
    "import numpy as np\n",
    "def shape_stride_relationship(arr):\n",
    "    return arr.shape, arr.strides\n",
    "\n",
    "arr = np.array([[1, 2, 3], [4, 5, 6]])\n",
    "print(shape_stride_relationship(arr))\n"
   ]
  },
  {
   "cell_type": "code",
   "execution_count": 11,
   "metadata": {},
   "outputs": [
    {
     "name": "stdout",
     "output_type": "stream",
     "text": [
      "[0. 0. 0. 0. 0.]\n"
     ]
    }
   ],
   "source": [
    "#11.Create a function create_zeros_array that takes an integer n as input and returns a NumPy array of zeros with n elements.\n",
    "import numpy as np\n",
    "def create_zeros_array(n):\n",
    "    return np.zeros(n)\n",
    "\n",
    "print(create_zeros_array(5))\n"
   ]
  },
  {
   "cell_type": "code",
   "execution_count": 12,
   "metadata": {},
   "outputs": [
    {
     "name": "stdout",
     "output_type": "stream",
     "text": [
      "[[1. 1. 1. 1.]\n",
      " [1. 1. 1. 1.]\n",
      " [1. 1. 1. 1.]]\n"
     ]
    }
   ],
   "source": [
    "#12.Write a function create_ones_matrix that takes integers rows and cols as inputs and generates a 2D NumPy array filled with ones of size rows x cols.\n",
    "import numpy as np\n",
    "def create_ones_matrix(rows, cols):\n",
    "    return np.ones((rows, cols))\n",
    "\n",
    "print(create_ones_matrix(3, 4))\n"
   ]
  },
  {
   "cell_type": "code",
   "execution_count": 13,
   "metadata": {},
   "outputs": [
    {
     "name": "stdout",
     "output_type": "stream",
     "text": [
      "[0 2 4 6 8]\n"
     ]
    }
   ],
   "source": [
    "#13.Write a function generate_range_array that takes three integers start, stop, and step as arguments and creates a NumPy array with a range starting from start, ending at stop (exclusive), and with the specified step.\n",
    "import numpy as np\n",
    "def generate_range_array(start, stop, step):\n",
    "    return np.arange(start, stop, step)\n",
    "\n",
    "print(generate_range_array(0, 10, 2))\n"
   ]
  },
  {
   "cell_type": "code",
   "execution_count": 14,
   "metadata": {},
   "outputs": [
    {
     "name": "stdout",
     "output_type": "stream",
     "text": [
      "[ 0.   2.5  5.   7.5 10. ]\n"
     ]
    }
   ],
   "source": [
    "#14.Design a function generate_linear_space that takes two floats start, stop, and an integer num as arguments and generates a NumPy array with num equally spaced values between start and stop (inclusive).\n",
    "import numpy as np\n",
    "def generate_linear_space(start, stop, num):\n",
    "    return np.linspace(start, stop, num)\n",
    "\n",
    "print(generate_linear_space(0, 10, 5))\n"
   ]
  },
  {
   "cell_type": "code",
   "execution_count": 15,
   "metadata": {},
   "outputs": [
    {
     "name": "stdout",
     "output_type": "stream",
     "text": [
      "[[1. 0. 0. 0.]\n",
      " [0. 1. 0. 0.]\n",
      " [0. 0. 1. 0.]\n",
      " [0. 0. 0. 1.]]\n"
     ]
    }
   ],
   "source": [
    "#15.Create a function create_identity_matrix that takes an integer n as input and generates a square identity matrix of size n x n using numpy.eye.\n",
    "import numpy as np\n",
    "def create_identity_matrix(n):\n",
    "    return np.eye(n)\n",
    "\n",
    "print(create_identity_matrix(4))\n"
   ]
  },
  {
   "cell_type": "code",
   "execution_count": 16,
   "metadata": {},
   "outputs": [
    {
     "name": "stdout",
     "output_type": "stream",
     "text": [
      "[1 2 3 4 5]\n"
     ]
    }
   ],
   "source": [
    "#16.Write a function that takes a Python list and converts it into a NumPy array.\n",
    "import numpy as np\n",
    "def list_to_array(lst):\n",
    "    return np.array(lst)\n",
    "\n",
    "lst = [1, 2, 3, 4, 5]\n",
    "print(list_to_array(lst))\n"
   ]
  },
  {
   "cell_type": "code",
   "execution_count": 17,
   "metadata": {},
   "outputs": [
    {
     "name": "stdout",
     "output_type": "stream",
     "text": [
      "[1 2 3 4 5]\n"
     ]
    }
   ],
   "source": [
    "#17.Create a NumPy array and demonstrate the use of numpy.view to create a new array object with the same data.\n",
    "import numpy as np\n",
    "arr = np.array([1, 2, 3, 4, 5])\n",
    "view_arr = arr.view()\n",
    "print(view_arr)\n"
   ]
  },
  {
   "cell_type": "code",
   "execution_count": 18,
   "metadata": {},
   "outputs": [
    {
     "name": "stdout",
     "output_type": "stream",
     "text": [
      "[[1 2]\n",
      " [3 4]\n",
      " [5 6]\n",
      " [7 8]]\n"
     ]
    }
   ],
   "source": [
    "#18.Write a function that takes two NumPy arrays and concatenates them along a specified axis.\n",
    "import numpy as np\n",
    "def concatenate_arrays(arr1, arr2, axis):\n",
    "    return np.concatenate((arr1, arr2), axis=axis)\n",
    "\n",
    "arr1 = np.array([[1, 2], [3, 4]])\n",
    "arr2 = np.array([[5, 6], [7, 8]])\n",
    "print(concatenate_arrays(arr1, arr2, axis=0))\n"
   ]
  },
  {
   "cell_type": "code",
   "execution_count": 19,
   "metadata": {},
   "outputs": [
    {
     "name": "stdout",
     "output_type": "stream",
     "text": [
      "[[1 2 5]\n",
      " [3 4 6]]\n"
     ]
    }
   ],
   "source": [
    "#19.Create two NumPy arrays with different shapes and concatenate them horizontally using numpy.concatenate.\n",
    "import numpy as np\n",
    "arr1 = np.array([[1, 2], [3, 4]])\n",
    "arr2 = np.array([[5], [6]])\n",
    "result = np.concatenate((arr1, arr2), axis=1)\n",
    "print(result)\n"
   ]
  },
  {
   "cell_type": "code",
   "execution_count": 20,
   "metadata": {},
   "outputs": [
    {
     "name": "stdout",
     "output_type": "stream",
     "text": [
      "[[1 2]\n",
      " [3 4]\n",
      " [5 6]]\n"
     ]
    }
   ],
   "source": [
    "#20.Write a function that vertically stacks multiple NumPy arrays given as a list.\n",
    "import numpy as np\n",
    "def stack_arrays_vertically(arrays):\n",
    "    return np.vstack(arrays)\n",
    "\n",
    "arr1 = np.array([1, 2])\n",
    "arr2 = np.array([3, 4])\n",
    "arr3 = np.array([5, 6])\n",
    "print(stack_arrays_vertically([arr1, arr2, arr3]))\n"
   ]
  },
  {
   "cell_type": "code",
   "execution_count": 21,
   "metadata": {},
   "outputs": [
    {
     "name": "stdout",
     "output_type": "stream",
     "text": [
      "[1 3 5 7 9]\n"
     ]
    }
   ],
   "source": [
    "#21.Write a Python function using NumPy to create an array of integers within a specified range (inclusive) with a given step size.\n",
    "import numpy as np\n",
    "def create_range_array(start, stop, step):\n",
    "    return np.arange(start, stop + 1, step)\n",
    "\n",
    "print(create_range_array(1, 10, 2))\n"
   ]
  },
  {
   "cell_type": "code",
   "execution_count": 22,
   "metadata": {},
   "outputs": [
    {
     "name": "stdout",
     "output_type": "stream",
     "text": [
      "[0.         0.11111111 0.22222222 0.33333333 0.44444444 0.55555556\n",
      " 0.66666667 0.77777778 0.88888889 1.        ]\n"
     ]
    }
   ],
   "source": [
    "#22.Write a Python function using NumPy to generate an array of 10 equally spaced values between 0 and 1 (inclusive).\n",
    "import numpy as np\n",
    "def generate_spaced_array():\n",
    "    return np.linspace(0, 1, 10)\n",
    "\n",
    "print(generate_spaced_array())\n"
   ]
  },
  {
   "cell_type": "code",
   "execution_count": 23,
   "metadata": {},
   "outputs": [
    {
     "name": "stdout",
     "output_type": "stream",
     "text": [
      "[   1.            5.62341325   31.6227766   177.827941   1000.        ]\n"
     ]
    }
   ],
   "source": [
    "#23.Write a Python function using NumPy to create an array of 5 logarithmically spaced values between 1 and 1000 (inclusive).\n",
    "import numpy as np\n",
    "def generate_log_space():\n",
    "    return np.logspace(0, 3, 5)\n",
    "\n",
    "print(generate_log_space())\n"
   ]
  },
  {
   "cell_type": "code",
   "execution_count": 24,
   "metadata": {},
   "outputs": [
    {
     "name": "stdout",
     "output_type": "stream",
     "text": [
      "    A   B   C\n",
      "0  87  20   2\n",
      "1  94  53  81\n",
      "2  36  23  11\n",
      "3  67  84  60\n",
      "4  73  87   9\n"
     ]
    }
   ],
   "source": [
    "#24.Create a Pandas DataFrame using a NumPy array that contains 5 rows and 3 columns, where the values are random integers between 1 and 100.\n",
    "import numpy as np\n",
    "import pandas as pd\n",
    "data = np.random.randint(1, 101, size=(5, 3))\n",
    "df = pd.DataFrame(data, columns=['A', 'B', 'C'])\n",
    "print(df)\n"
   ]
  },
  {
   "cell_type": "code",
   "execution_count": 25,
   "metadata": {},
   "outputs": [
    {
     "name": "stdout",
     "output_type": "stream",
     "text": [
      "   A\n",
      "0  1\n",
      "1  0\n",
      "2  3\n",
      "3  0\n",
      "4  5\n"
     ]
    }
   ],
   "source": [
    "#25.Write a function that takes a Pandas DataFrame and replaces all negative values in a specific column with zeros. Use NumPy operations within the Pandas DataFrame.\n",
    "import pandas as pd\n",
    "import numpy as np\n",
    "def replace_negatives(df, column):\n",
    "    df[column] = np.where(df[column] < 0, 0, df[column])\n",
    "    return df\n",
    "\n",
    "df = pd.DataFrame({'A': [1, -2, 3, -4, 5]})\n",
    "print(replace_negatives(df, 'A'))\n"
   ]
  },
  {
   "cell_type": "code",
   "execution_count": 26,
   "metadata": {},
   "outputs": [
    {
     "name": "stdout",
     "output_type": "stream",
     "text": [
      "30\n"
     ]
    }
   ],
   "source": [
    "#26.Access the 3rd element from the given NumPy array.\n",
    "import numpy as np\n",
    "arr = np.array([10, 20, 30, 40, 50])\n",
    "print(arr[2])\n"
   ]
  },
  {
   "cell_type": "code",
   "execution_count": 27,
   "metadata": {},
   "outputs": [
    {
     "name": "stdout",
     "output_type": "stream",
     "text": [
      "6\n"
     ]
    }
   ],
   "source": [
    "#27.Retrieve the element at index (1, 2) from the 2D NumPy array.\n",
    "import numpy as np\n",
    "arr_2d = np.array([[1, 2, 3], [4, 5, 6], [7, 8, 9]])\n",
    "print(arr_2d[1, 2])\n"
   ]
  },
  {
   "cell_type": "code",
   "execution_count": 28,
   "metadata": {},
   "outputs": [
    {
     "name": "stdout",
     "output_type": "stream",
     "text": [
      "[ 8 10  7]\n"
     ]
    }
   ],
   "source": [
    "#28.Using boolean indexing, extract elements greater than 5 from the given NumPy array.\n",
    "import numpy as np\n",
    "arr = np.array([3, 8, 2, 10, 5, 7])\n",
    "result = arr[arr > 5]\n",
    "print(result)\n"
   ]
  },
  {
   "cell_type": "code",
   "execution_count": 29,
   "metadata": {},
   "outputs": [
    {
     "name": "stdout",
     "output_type": "stream",
     "text": [
      "[3 4 5 6]\n"
     ]
    }
   ],
   "source": [
    "#29.Perform basic slicing to extract elements from index 2 to 5 (inclusive) from the given NumPy array.\n",
    "import numpy as np\n",
    "arr = np.array([1, 2, 3, 4, 5, 6, 7, 8, 9])\n",
    "print(arr[2:6])\n"
   ]
  },
  {
   "cell_type": "code",
   "execution_count": 30,
   "metadata": {},
   "outputs": [
    {
     "name": "stdout",
     "output_type": "stream",
     "text": [
      "[[2 3]\n",
      " [5 6]]\n"
     ]
    }
   ],
   "source": [
    "#30.Slice the 2D NumPy array to extract the sub-array [[2, 3], [5, 6]] from the given array.\n",
    "import numpy as np\n",
    "arr_2d = np.array([[1, 2, 3], [4, 5, 6], [7, 8, 9]])\n",
    "sub_array = arr_2d[0:2, 1:3]\n",
    "print(sub_array)\n"
   ]
  },
  {
   "cell_type": "code",
   "execution_count": 31,
   "metadata": {},
   "outputs": [
    {
     "name": "stdout",
     "output_type": "stream",
     "text": [
      "[[[1 2 3]\n",
      "  [4 5 6]]\n",
      "\n",
      " [[7 8 9]\n",
      "  [1 2 3]]]\n"
     ]
    }
   ],
   "source": [
    "#31.Write a NumPy function to extract elements in specific order from a given 2D array based on indices provided in another array.\n",
    "import numpy as np\n",
    "arr_2d = np.array([[1, 2, 3], [4, 5, 6], [7, 8, 9]])\n",
    "indices = np.array([[0, 1], [2, 0]])\n",
    "result = arr_2d[indices]\n",
    "print(result)\n"
   ]
  },
  {
   "cell_type": "code",
   "execution_count": 32,
   "metadata": {},
   "outputs": [
    {
     "name": "stdout",
     "output_type": "stream",
     "text": [
      "[12 15]\n"
     ]
    }
   ],
   "source": [
    "#32.Create a NumPy function that filters elements greater than a threshold from a given 1D array using boolean indexing.\n",
    "import numpy as np\n",
    "def filter_greater_than(arr, threshold):\n",
    "    return arr[arr > threshold]\n",
    "\n",
    "arr = np.array([1, 5, 8, 12, 15])\n",
    "print(filter_greater_than(arr, 8))\n"
   ]
  },
  {
   "cell_type": "code",
   "execution_count": 33,
   "metadata": {},
   "outputs": [
    {
     "name": "stdout",
     "output_type": "stream",
     "text": [
      "[20 85 78]\n"
     ]
    }
   ],
   "source": [
    "#33.Develop a NumPy function that extracts specific elements from a 3D array using indices provided in three separate arrays for each dimension.\n",
    "import numpy as np\n",
    "def extract_elements_3d(arr, indices_x, indices_y, indices_z):\n",
    "    return arr[indices_x, indices_y, indices_z]\n",
    "\n",
    "arr_3d = np.random.randint(1, 100, (4, 4, 4))\n",
    "x = np.array([0, 1, 2])\n",
    "y = np.array([1, 2, 3])\n",
    "z = np.array([2, 1, 0])\n",
    "print(extract_elements_3d(arr_3d, x, y, z))\n"
   ]
  },
  {
   "cell_type": "code",
   "execution_count": 34,
   "metadata": {},
   "outputs": [
    {
     "name": "stdout",
     "output_type": "stream",
     "text": [
      "[15 25 35 45]\n"
     ]
    }
   ],
   "source": [
    "#34.Write a NumPy function that returns elements from an array where both two conditions are satisfied using boolean indexing.\n",
    "import numpy as np\n",
    "def filter_with_conditions(arr):\n",
    "    return arr[(arr > 10) & (arr < 50)]\n",
    "\n",
    "arr = np.array([5, 15, 25, 35, 45, 55])\n",
    "print(filter_with_conditions(arr))\n"
   ]
  },
  {
   "cell_type": "code",
   "execution_count": 35,
   "metadata": {},
   "outputs": [
    {
     "name": "stdout",
     "output_type": "stream",
     "text": [
      "[2 6 7]\n"
     ]
    }
   ],
   "source": [
    "#35.Create a NumPy function that extracts elements from a 2D array using row and column indices provided in separate arrays.\n",
    "import numpy as np\n",
    "def extract_elements_2d(arr, row_indices, col_indices):\n",
    "    return arr[row_indices, col_indices]\n",
    "\n",
    "arr_2d = np.array([[1, 2, 3], [4, 5, 6], [7, 8, 9]])\n",
    "rows = np.array([0, 1, 2])\n",
    "cols = np.array([1, 2, 0])\n",
    "print(extract_elements_2d(arr_2d, rows, cols))\n"
   ]
  },
  {
   "cell_type": "code",
   "execution_count": 36,
   "metadata": {},
   "outputs": [
    {
     "name": "stdout",
     "output_type": "stream",
     "text": [
      "[[ 6  7  8]\n",
      " [ 9 10 11]\n",
      " [12 13 14]]\n"
     ]
    }
   ],
   "source": [
    "#36.Given an array arr of shape (3, 3), add a scalar value of 5 to each element using NumPy broadcasting\n",
    "import numpy as np\n",
    "arr = np.array([[1, 2, 3], [4, 5, 6], [7, 8, 9]])\n",
    "arr += 5\n",
    "print(arr)\n"
   ]
  },
  {
   "cell_type": "code",
   "execution_count": 37,
   "metadata": {},
   "outputs": [
    {
     "name": "stdout",
     "output_type": "stream",
     "text": [
      "[[ 2  4  6  8]\n",
      " [15 18 21 24]\n",
      " [36 40 44 48]]\n"
     ]
    }
   ],
   "source": [
    "#37.Consider two arrays arr1 of shape (1, 3) and arr2 of shape (3, 4). Multiply each row of arr2 by the corresponding element in arr1 using NumPy broadcasting.\n",
    "import numpy as np\n",
    "arr1 = np.array([[2, 3, 4]])\n",
    "arr2 = np.array([[1, 2, 3, 4], [5, 6, 7, 8], [9, 10, 11, 12]])\n",
    "result = arr1.T * arr2\n",
    "print(result)\n"
   ]
  },
  {
   "cell_type": "code",
   "execution_count": 38,
   "metadata": {},
   "outputs": [
    {
     "name": "stdout",
     "output_type": "stream",
     "text": [
      "[[ 2  3  4]\n",
      " [ 6  7  8]\n",
      " [10 11 12]\n",
      " [14 15 16]]\n"
     ]
    }
   ],
   "source": [
    "#38.Given a 1D array arr1 of shape (1, 4) and a 2D array arr2 of shape (4, 3), add arr1 to each row of arr2 using NumPy broadcasting.\n",
    "import numpy as np\n",
    "arr1 = np.array([1, 2, 3, 4])\n",
    "arr2 = np.array([[1, 2, 3], [4, 5, 6], [7, 8, 9], [10, 11, 12]])\n",
    "result = arr2 + arr1.reshape(-1, 1)\n",
    "print(result)\n"
   ]
  },
  {
   "cell_type": "code",
   "execution_count": 39,
   "metadata": {},
   "outputs": [
    {
     "name": "stdout",
     "output_type": "stream",
     "text": [
      "[[5 6 7]\n",
      " [6 7 8]\n",
      " [7 8 9]]\n"
     ]
    }
   ],
   "source": [
    "#39.Consider two arrays arr1 of shape (3, 1) and arr2 of shape (1, 3). Add these arrays using NumPy broadcasting.\n",
    "import numpy as np\n",
    "arr1 = np.array([[1], [2], [3]])\n",
    "arr2 = np.array([[4, 5, 6]])\n",
    "result = arr1 + arr2\n",
    "print(result)\n"
   ]
  },
  {
   "cell_type": "code",
   "execution_count": 40,
   "metadata": {},
   "outputs": [
    {
     "name": "stdout",
     "output_type": "stream",
     "text": [
      "[[ 7. 16.  0.]\n",
      " [36. 50.  0.]]\n"
     ]
    }
   ],
   "source": [
    "#40.Given arrays arr1 of shape (2, 3) and arr2 of shape (2, 2), perform multiplication using NumPy broadcasting. Handle the shape incompatibility.\n",
    "import numpy as np\n",
    "arr1 = np.array([[1, 2, 3], [4, 5, 6]])\n",
    "arr2 = np.array([[7, 8], [9, 10]])\n",
    "# Adjust the shapes to be compatible for broadcasting\n",
    "arr2 = np.hstack([arr2, np.zeros((2, 1))])\n",
    "result = arr1 * arr2\n",
    "print(result)\n",
    "\n"
   ]
  },
  {
   "cell_type": "code",
   "execution_count": 41,
   "metadata": {},
   "outputs": [
    {
     "name": "stdout",
     "output_type": "stream",
     "text": [
      "[2.5 3.5 4.5]\n"
     ]
    }
   ],
   "source": [
    "#41.Calculate the column-wise mean for the given array:\n",
    "import numpy as np\n",
    "arr = np.array([[1, 2, 3], [4, 5, 6]])\n",
    "print(np.mean(arr, axis=0))\n"
   ]
  },
  {
   "cell_type": "code",
   "execution_count": 42,
   "metadata": {},
   "outputs": [
    {
     "name": "stdout",
     "output_type": "stream",
     "text": [
      "[3 6]\n"
     ]
    }
   ],
   "source": [
    "#42.Find the maximum value in each row of the given array\n",
    "import numpy as np\n",
    "arr = np.array([[1, 2, 3], [4, 5, 6]])\n",
    "print(np.max(arr, axis=1))\n"
   ]
  },
  {
   "cell_type": "code",
   "execution_count": 43,
   "metadata": {},
   "outputs": [
    {
     "name": "stdout",
     "output_type": "stream",
     "text": [
      "[1 1 1]\n"
     ]
    }
   ],
   "source": [
    "#43.For the given array, find the indices of the maximum value in each column:\n",
    "import numpy as np\n",
    "arr = np.array([[1, 2, 3], [4, 5, 6]])\n",
    "print(np.argmax(arr, axis=0))\n"
   ]
  },
  {
   "cell_type": "code",
   "execution_count": 44,
   "metadata": {},
   "outputs": [
    {
     "name": "stdout",
     "output_type": "stream",
     "text": [
      "[[ 1  3  6]\n",
      " [ 4  9 15]]\n"
     ]
    }
   ],
   "source": [
    "#44.For the given array, apply a custom function to calculate the moving sum along rows:\n",
    "import numpy as np\n",
    "def moving_sum(arr):\n",
    "    return np.cumsum(arr, axis=1)\n",
    "\n",
    "arr = np.array([[1, 2, 3], [4, 5, 6]])\n",
    "print(moving_sum(arr))\n"
   ]
  },
  {
   "cell_type": "code",
   "execution_count": 45,
   "metadata": {},
   "outputs": [
    {
     "name": "stdout",
     "output_type": "stream",
     "text": [
      "[False False False]\n"
     ]
    }
   ],
   "source": [
    "#45.In the given array, check if all elements in each column are even:\n",
    "import numpy as np\n",
    "arr = np.array([[2, 4, 6], [3, 5, 7]])\n",
    "print(np.all(arr % 2 == 0, axis=0))\n"
   ]
  },
  {
   "cell_type": "code",
   "execution_count": 46,
   "metadata": {},
   "outputs": [
    {
     "name": "stdout",
     "output_type": "stream",
     "text": [
      "[[1 2 3]\n",
      " [4 5 6]]\n"
     ]
    }
   ],
   "source": [
    "#46.Given a NumPy array arr, reshape it into a matrix of dimensions m rows and n columns. Return the reshaped matrix:\n",
    "import numpy as np\n",
    "def reshape_array(arr, m, n):\n",
    "    return arr.reshape(m, n)\n",
    "\n",
    "arr = np.array([1, 2, 3, 4, 5, 6])\n",
    "print(reshape_array(arr, 2, 3))\n"
   ]
  },
  {
   "cell_type": "code",
   "execution_count": 47,
   "metadata": {},
   "outputs": [
    {
     "name": "stdout",
     "output_type": "stream",
     "text": [
      "[1 2 3 4 5 6]\n"
     ]
    }
   ],
   "source": [
    "#47.Create a function that takes a matrix as input and returns the flattened array:\n",
    "import numpy as np\n",
    "def flatten_matrix(matrix):\n",
    "    return matrix.flatten()\n",
    "\n",
    "matrix = np.array([[1, 2, 3], [4, 5, 6]])\n",
    "print(flatten_matrix(matrix))\n"
   ]
  },
  {
   "cell_type": "code",
   "execution_count": 48,
   "metadata": {},
   "outputs": [
    {
     "name": "stdout",
     "output_type": "stream",
     "text": [
      "[[1 2 5 6]\n",
      " [3 4 7 8]]\n"
     ]
    }
   ],
   "source": [
    "#48.Write a function that concatenates two given arrays along a specified axis:\n",
    "import numpy as np\n",
    "def concatenate_arrays(arr1, arr2, axis):\n",
    "    return np.concatenate((arr1, arr2), axis=axis)\n",
    "\n",
    "arr1 = np.array([[1, 2], [3, 4]])\n",
    "arr2 = np.array([[5, 6], [7, 8]])\n",
    "print(concatenate_arrays(arr1, arr2, axis=1))\n"
   ]
  },
  {
   "cell_type": "code",
   "execution_count": 49,
   "metadata": {},
   "outputs": [
    {
     "name": "stdout",
     "output_type": "stream",
     "text": [
      "[array([[1, 2],\n",
      "       [3, 4]]), array([[5, 6]])]\n"
     ]
    }
   ],
   "source": [
    "#49.Create a function that splits an array into multiple sub-arrays along a specified axis:\n",
    "import numpy as np\n",
    "def split_array(arr, sections, axis):\n",
    "    return np.array_split(arr, sections, axis=axis)\n",
    "\n",
    "arr = np.array([[1, 2], [3, 4], [5, 6]])\n",
    "print(split_array(arr, 2, axis=0))\n"
   ]
  },
  {
   "cell_type": "code",
   "execution_count": 50,
   "metadata": {},
   "outputs": [
    {
     "name": "stdout",
     "output_type": "stream",
     "text": [
      "[ 1 10  4 11  5]\n"
     ]
    }
   ],
   "source": [
    "#50.Write a function that inserts and then deletes elements from a given array at specified indices:\n",
    "import numpy as np\n",
    "def insert_and_delete(arr, indices_to_insert, values_to_insert, indices_to_delete):\n",
    "    arr = np.insert(arr, indices_to_insert, values_to_insert)\n",
    "    arr = np.delete(arr, indices_to_delete)\n",
    "    return arr\n",
    "\n",
    "arr = np.array([1, 2, 3, 4, 5])\n",
    "indices_to_insert = [2, 4]\n",
    "values_to_insert = [10, 11]\n",
    "indices_to_delete = [1, 3]\n",
    "print(insert_and_delete(arr, indices_to_insert, values_to_insert, indices_to_delete))\n"
   ]
  },
  {
   "cell_type": "code",
   "execution_count": 51,
   "metadata": {},
   "outputs": [
    {
     "name": "stdout",
     "output_type": "stream",
     "text": [
      "[10  3 10  8 13 13 16 10 14 11]\n"
     ]
    }
   ],
   "source": [
    "#51.Create a NumPy array arr1 with random integers and another array arr2 with integers from 1 to 10. Perform element-wise addition between arr1 and arr2:\n",
    "import numpy as np\n",
    "arr1 = np.random.randint(1, 10, size=10)\n",
    "arr2 = np.arange(1, 11)\n",
    "print(arr1 + arr2)\n"
   ]
  },
  {
   "cell_type": "code",
   "execution_count": 52,
   "metadata": {},
   "outputs": [
    {
     "name": "stdout",
     "output_type": "stream",
     "text": [
      "[ 9  7  5  3  1 -1 -3 -5 -7 -9]\n"
     ]
    }
   ],
   "source": [
    "#52.Generate a NumPy array arr1 with sequential integers from 10 to 1 and another array arr2 with integers from 1 to 10. Subtract arr2 from arr1 element-wise:\n",
    "import numpy as np\n",
    "arr1 = np.arange(10, 0, -1)\n",
    "arr2 = np.arange(1, 11)\n",
    "print(arr1 - arr2)\n"
   ]
  },
  {
   "cell_type": "code",
   "execution_count": 53,
   "metadata": {},
   "outputs": [
    {
     "name": "stdout",
     "output_type": "stream",
     "text": [
      "[ 7 10  6  8 20]\n"
     ]
    }
   ],
   "source": [
    "#53.Create a NumPy array arr1 with random integers and another array arr2 with integers from 1 to 5. Perform element-wise multiplication between arr1 and arr2:\n",
    "import numpy as np\n",
    "arr1 = np.random.randint(1, 10, size=5)\n",
    "arr2 = np.arange(1, 6)\n",
    "print(arr1 * arr2)\n"
   ]
  },
  {
   "cell_type": "code",
   "execution_count": 54,
   "metadata": {},
   "outputs": [
    {
     "name": "stdout",
     "output_type": "stream",
     "text": [
      "[2. 2. 2. 2. 2.]\n"
     ]
    }
   ],
   "source": [
    "#54.Generate a NumPy array arr1 with even integers from 2 to 10 and another array arr2 with integers from 1 to 5. Perform element-wise division of arr1 by arr2:\n",
    "import numpy as np\n",
    "arr1 = np.arange(2, 11, 2)\n",
    "arr2 = np.arange(1, 6)\n",
    "print(arr1 / arr2)\n"
   ]
  },
  {
   "cell_type": "code",
   "execution_count": 55,
   "metadata": {},
   "outputs": [
    {
     "name": "stdout",
     "output_type": "stream",
     "text": [
      "[ 1 16 27 16  5]\n"
     ]
    }
   ],
   "source": [
    "#55.Create a NumPy array arr1 with integers from 1 to 5 and another array arr2 with the same numbers reversed. Calculate the exponentiation of arr1 raised to the power of arr2 element-wise:\n",
    "import numpy as np\n",
    "arr1 = np.arange(1, 6)\n",
    "arr2 = arr1[::-1]\n",
    "print(arr1 ** arr2)\n"
   ]
  },
  {
   "cell_type": "code",
   "execution_count": 56,
   "metadata": {},
   "outputs": [
    {
     "name": "stdout",
     "output_type": "stream",
     "text": [
      "[1 0 1 0 1]\n"
     ]
    }
   ],
   "source": [
    "#56.Write a function that counts the occurrences of a specific substring within a NumPy array of strings:\n",
    "import numpy as np\n",
    "def count_substring(arr, substring):\n",
    "    return np.char.count(arr, substring)\n",
    "\n",
    "arr = np.array(['hello', 'world', 'hello', 'numpy', 'hello'])\n",
    "print(count_substring(arr, 'hello'))\n"
   ]
  },
  {
   "cell_type": "code",
   "execution_count": 57,
   "metadata": {},
   "outputs": [
    {
     "name": "stdout",
     "output_type": "stream",
     "text": [
      "['HELLO' 'WORLD' 'OPENAI' 'GPT']\n"
     ]
    }
   ],
   "source": [
    "#57.Write a function that extracts uppercase characters from a NumPy array of strings:\n",
    "import numpy as np\n",
    "def extract_uppercase(arr):\n",
    "    return np.char.upper(arr)\n",
    "\n",
    "arr = np.array(['Hello', 'World', 'OpenAI', 'GPT'])\n",
    "print(extract_uppercase(arr))\n"
   ]
  },
  {
   "cell_type": "code",
   "execution_count": 58,
   "metadata": {},
   "outputs": [
    {
     "name": "stdout",
     "output_type": "stream",
     "text": [
      "['orange' 'banana' 'grape' 'pineorange']\n"
     ]
    }
   ],
   "source": [
    "#58.Write a function that replaces occurrences of a substring in a NumPy array of strings with a new string:\n",
    "import numpy as np\n",
    "def replace_substring(arr, old, new):\n",
    "    return np.char.replace(arr, old, new)\n",
    "\n",
    "arr = np.array(['apple', 'banana', 'grape', 'pineapple'])\n",
    "print(replace_substring(arr, 'apple', 'orange'))\n"
   ]
  },
  {
   "cell_type": "code",
   "execution_count": 59,
   "metadata": {},
   "outputs": [
    {
     "name": "stdout",
     "output_type": "stream",
     "text": [
      "['HelloOpen' 'WorldAI']\n"
     ]
    }
   ],
   "source": [
    "#59.Write a function that concatenates strings in a NumPy array element-wise:\n",
    "import numpy as np\n",
    "def concatenate_strings(arr1, arr2):\n",
    "    return np.char.add(arr1, arr2)\n",
    "\n",
    "arr1 = np.array(['Hello', 'World'])\n",
    "arr2 = np.array(['Open', 'AI'])\n",
    "print(concatenate_strings(arr1, arr2))\n"
   ]
  },
  {
   "cell_type": "code",
   "execution_count": 60,
   "metadata": {},
   "outputs": [
    {
     "name": "stdout",
     "output_type": "stream",
     "text": [
      "9\n"
     ]
    }
   ],
   "source": [
    "#60.Write a function that finds the length of the longest string in a NumPy array:\n",
    "import numpy as np\n",
    "def longest_string(arr):\n",
    "    return max(np.char.str_len(arr))\n",
    "\n",
    "arr = np.array(['apple', 'banana', 'grape', 'pineapple'])\n",
    "print(longest_string(arr))\n"
   ]
  },
  {
   "cell_type": "code",
   "execution_count": 61,
   "metadata": {},
   "outputs": [
    {
     "name": "stdout",
     "output_type": "stream",
     "text": [
      "482.63 465.0 87529.1131 295.8531951830164\n"
     ]
    }
   ],
   "source": [
    "#61.Create a dataset of 100 random integers between 1 and 1000. Compute the mean, median, variance, and standard deviation of the dataset using NumPy's functions:\n",
    "import numpy as np\n",
    "arr = np.random.randint(1, 1001, size=100)\n",
    "mean = np.mean(arr)\n",
    "median = np.median(arr)\n",
    "variance = np.var(arr)\n",
    "std_dev = np.std(arr)\n",
    "print(mean, median, variance, std_dev)\n"
   ]
  },
  {
   "cell_type": "code",
   "execution_count": 62,
   "metadata": {},
   "outputs": [
    {
     "name": "stdout",
     "output_type": "stream",
     "text": [
      "24.25 72.25\n"
     ]
    }
   ],
   "source": [
    "#62.Generate an array of 50 random numbers between 1 and 100. Find the 25th and 75th percentiles of the dataset:\n",
    "import numpy as np\n",
    "arr = np.random.randint(1, 101, size=50)\n",
    "p25 = np.percentile(arr, 25)\n",
    "p75 = np.percentile(arr, 75)\n",
    "print(p25, p75)\n"
   ]
  },
  {
   "cell_type": "code",
   "execution_count": 63,
   "metadata": {},
   "outputs": [
    {
     "name": "stdout",
     "output_type": "stream",
     "text": [
      "[[1.         0.22031469]\n",
      " [0.22031469 1.        ]]\n"
     ]
    }
   ],
   "source": [
    "#63.Create two arrays representing two sets of variables. Compute the correlation coefficient between these arrays using NumPy's corrcoef function:\n",
    "import numpy as np\n",
    "arr1 = np.random.rand(100)\n",
    "arr2 = np.random.rand(100)\n",
    "correlation = np.corrcoef(arr1, arr2)\n",
    "print(correlation)\n"
   ]
  },
  {
   "cell_type": "code",
   "execution_count": 64,
   "metadata": {},
   "outputs": [
    {
     "name": "stdout",
     "output_type": "stream",
     "text": [
      "[[50 40 69]\n",
      " [74 28 47]\n",
      " [74 28 47]]\n"
     ]
    }
   ],
   "source": [
    "#64.Create two matrices and perform matrix multiplication using NumPy's dot function:\n",
    "import numpy as np\n",
    "mat1 = np.random.randint(1, 10, (3, 2))\n",
    "mat2 = np.random.randint(1, 10, (2, 3))\n",
    "result = np.dot(mat1, mat2)\n",
    "print(result)\n"
   ]
  },
  {
   "cell_type": "code",
   "execution_count": 65,
   "metadata": {},
   "outputs": [
    {
     "name": "stdout",
     "output_type": "stream",
     "text": [
      "176.3 448.5 898.1 276.0 760.5\n"
     ]
    }
   ],
   "source": [
    "#65.Create an array of 50 integers between 10 and 1000. Calculate the 10th, 50th (median), and 90th percentiles along with the first and third quartiles:\n",
    "import numpy as np\n",
    "arr = np.random.randint(10, 1001, size=50)\n",
    "p10 = np.percentile(arr, 10)\n",
    "p50 = np.median(arr)\n",
    "p90 = np.percentile(arr, 90)\n",
    "q1 = np.percentile(arr, 25)\n",
    "q3 = np.percentile(arr, 75)\n",
    "print(p10, p50, p90, q1, q3)\n"
   ]
  },
  {
   "cell_type": "code",
   "execution_count": 66,
   "metadata": {},
   "outputs": [
    {
     "name": "stdout",
     "output_type": "stream",
     "text": [
      "(array([2], dtype=int64),)\n"
     ]
    }
   ],
   "source": [
    "#66.Create a NumPy array of integers and find the index of a specific element:\n",
    "import numpy as np\n",
    "arr = np.array([1, 2, 3, 4, 5])\n",
    "index = np.where(arr == 3)\n",
    "print(index)\n"
   ]
  },
  {
   "cell_type": "code",
   "execution_count": 67,
   "metadata": {},
   "outputs": [
    {
     "name": "stdout",
     "output_type": "stream",
     "text": [
      "[ 2  7  8 13 15 15 17 44 53 86]\n"
     ]
    }
   ],
   "source": [
    "#67.Generate a random NumPy array and sort it in ascending order:\n",
    "import numpy as np\n",
    "arr = np.random.randint(1, 101, size=10)\n",
    "arr_sorted = np.sort(arr)\n",
    "print(arr_sorted)\n"
   ]
  },
  {
   "cell_type": "code",
   "execution_count": 68,
   "metadata": {},
   "outputs": [
    {
     "name": "stdout",
     "output_type": "stream",
     "text": [
      "[25 42 30]\n"
     ]
    }
   ],
   "source": [
    "#68.Filter elements greater than 20 in the given NumPy array:\n",
    "import numpy as np\n",
    "arr = np.array([12, 25, 6, 42, 8, 30])\n",
    "result = arr[arr > 20]\n",
    "print(result)\n"
   ]
  },
  {
   "cell_type": "code",
   "execution_count": 69,
   "metadata": {},
   "outputs": [
    {
     "name": "stdout",
     "output_type": "stream",
     "text": [
      "[12 15]\n"
     ]
    }
   ],
   "source": [
    "#69.Filter elements which are divisible by 3 from a given NumPy array:\n",
    "import numpy as np\n",
    "arr = np.array([1, 5, 8, 12, 15])\n",
    "result = arr[arr % 3 == 0]\n",
    "print(result)\n"
   ]
  },
  {
   "cell_type": "code",
   "execution_count": 70,
   "metadata": {},
   "outputs": [
    {
     "name": "stdout",
     "output_type": "stream",
     "text": [
      "[20 30 40]\n"
     ]
    }
   ],
   "source": [
    "#70.Filter elements which are ≥ 20 and ≤ 40 from a given NumPy array:\n",
    "import numpy as np\n",
    "arr = np.array([10, 20, 30, 40, 50])\n",
    "result = arr[(arr >= 20) & (arr <= 40)]\n",
    "print(result)\n"
   ]
  },
  {
   "cell_type": "code",
   "execution_count": 71,
   "metadata": {},
   "outputs": [
    {
     "name": "stdout",
     "output_type": "stream",
     "text": [
      "=\n"
     ]
    }
   ],
   "source": [
    "#71.For the given NumPy array, check its byte order using the dtype attribute byteorder:\n",
    "import numpy as np\n",
    "arr = np.array([1, 2, 3], dtype=np.int32)\n",
    "print(arr.dtype.byteorder)\n"
   ]
  },
  {
   "cell_type": "code",
   "execution_count": 72,
   "metadata": {},
   "outputs": [
    {
     "name": "stdout",
     "output_type": "stream",
     "text": [
      "[16777216 33554432 50331648]\n"
     ]
    }
   ],
   "source": [
    "#72.For the given NumPy array, perform byte swapping in place using byteswap():\n",
    "import numpy as np\n",
    "arr = np.array([1, 2, 3], dtype=np.int32)\n",
    "arr.byteswap(True)\n",
    "print(arr)\n"
   ]
  },
  {
   "cell_type": "code",
   "execution_count": 73,
   "metadata": {},
   "outputs": [
    {
     "name": "stdout",
     "output_type": "stream",
     "text": [
      "[16777216 33554432 50331648]\n"
     ]
    }
   ],
   "source": [
    "#73.For the given NumPy array, swap its byte order without modifying the original array using newbyteorder():\n",
    "import numpy as np\n",
    "arr = np.array([1, 2, 3], dtype=np.int32)\n",
    "new_arr = arr.newbyteorder()\n",
    "print(new_arr)\n"
   ]
  },
  {
   "cell_type": "code",
   "execution_count": 74,
   "metadata": {},
   "outputs": [
    {
     "name": "stdout",
     "output_type": "stream",
     "text": [
      "[16777216 33554432 50331648]\n"
     ]
    }
   ],
   "source": [
    "#74.For the given NumPy array, swap its byte order conditionally based on system endianness using newbyteorder():\n",
    "import numpy as np\n",
    "arr = np.array([1, 2, 3], dtype=np.int32)\n",
    "if arr.dtype.byteorder == '=':  # '=' indicates native endianness\n",
    "    arr = arr.newbyteorder()\n",
    "print(arr)\n"
   ]
  },
  {
   "cell_type": "code",
   "execution_count": 75,
   "metadata": {},
   "outputs": [
    {
     "name": "stdout",
     "output_type": "stream",
     "text": [
      "False\n"
     ]
    }
   ],
   "source": [
    "#75.For the given NumPy array, check if byte swapping is necessary for the current system using dtype attribute byteorder:\n",
    "import numpy as np\n",
    "arr = np.array([1, 2, 3], dtype=np.int32)\n",
    "needs_swap = arr.dtype.byteorder not in ('=', '|')\n",
    "print(needs_swap)\n"
   ]
  },
  {
   "cell_type": "code",
   "execution_count": 76,
   "metadata": {},
   "outputs": [
    {
     "name": "stdout",
     "output_type": "stream",
     "text": [
      "[ 1  2  3  4  5  6  7  8  9 10]\n",
      "[99  2  3  4  5  6  7  8  9 10]\n"
     ]
    }
   ],
   "source": [
    "#76.Create a NumPy array arr1 with values from 1 to 10. Create a copy of arr1 named copy_arr and modify an element in copy_arr. Check if modifying copy_arr affects arr1:\n",
    "import numpy as np\n",
    "arr1 = np.arange(1, 11)\n",
    "copy_arr = arr1.copy()\n",
    "copy_arr[0] = 99\n",
    "print(arr1)\n",
    "print(copy_arr)\n"
   ]
  },
  {
   "cell_type": "code",
   "execution_count": 77,
   "metadata": {},
   "outputs": [
    {
     "name": "stdout",
     "output_type": "stream",
     "text": [
      "[[99  5  3]\n",
      " [ 9  8  7]\n",
      " [ 1  1  9]]\n"
     ]
    }
   ],
   "source": [
    "#77.Create a 2D NumPy array matrix of shape (3, 3) with random integers. Extract a slice view_slice from the matrix. Modify an element in view_slice and observe if it changes the original matrix:\n",
    "import numpy as np\n",
    "matrix = np.random.randint(1, 10, size=(3, 3))\n",
    "view_slice = matrix[:2, :2]\n",
    "view_slice[0, 0] = 99\n",
    "print(matrix)\n"
   ]
  },
  {
   "cell_type": "code",
   "execution_count": 78,
   "metadata": {},
   "outputs": [
    {
     "name": "stdout",
     "output_type": "stream",
     "text": [
      "[[ 6  7  3]\n",
      " [ 9 10  6]\n",
      " [ 7  8  9]\n",
      " [10 11 12]]\n"
     ]
    }
   ],
   "source": [
    "#78.Create a NumPy array array_a of shape (4, 3) with sequential integers from 1 to 12. Extract a slice view_b from array_a and broadcast the addition of 5 to view_b. Check if it alters the original array_a:\n",
    "import numpy as np\n",
    "array_a = np.arange(1, 13).reshape(4, 3)\n",
    "view_b = array_a[:2, :2]\n",
    "view_b += 5\n",
    "print(array_a)\n"
   ]
  },
  {
   "cell_type": "code",
   "execution_count": 79,
   "metadata": {},
   "outputs": [
    {
     "name": "stdout",
     "output_type": "stream",
     "text": [
      "[[99  2  3  4]\n",
      " [ 5  6  7  8]]\n"
     ]
    }
   ],
   "source": [
    "#79.Create a NumPy array orig_array of shape (2, 4) with values from 1 to 8. Create a reshaped view reshaped_view of shape (4, 2) from orig_array. Modify an element in reshaped_view and check if it reflects changes in the original orig_array:\n",
    "import numpy as np\n",
    "orig_array = np.arange(1, 9).reshape(2, 4)\n",
    "reshaped_view = orig_array.reshape(4, 2)\n",
    "reshaped_view[0, 0] = 99\n",
    "print(orig_array)\n"
   ]
  },
  {
   "cell_type": "code",
   "execution_count": 80,
   "metadata": {},
   "outputs": [
    {
     "name": "stdout",
     "output_type": "stream",
     "text": [
      "[[6 1 9 7]\n",
      " [8 2 9 9]\n",
      " [5 7 2 3]]\n"
     ]
    }
   ],
   "source": [
    "#80.Create a NumPy array data of shape (3, 4) with random integers. Extract a copy data_copy of elements greater than 5. Modify an element in data_copy and verify if it affects the original data:\n",
    "import numpy as np\n",
    "data = np.random.randint(1, 10, size=(3, 4))\n",
    "data_copy = data[data > 5].copy()\n",
    "data_copy[0] = 99\n",
    "print(data)\n"
   ]
  },
  {
   "cell_type": "code",
   "execution_count": 81,
   "metadata": {},
   "outputs": [
    {
     "name": "stdout",
     "output_type": "stream",
     "text": [
      "[[ 2 14 12]\n",
      " [ 8  8  9]\n",
      " [11 12  3]]\n",
      "[[ 0 -4  2]\n",
      " [ 4 -2  5]\n",
      " [-5  0  1]]\n"
     ]
    }
   ],
   "source": [
    "#81.Create two matrices A and B of identical shape containing integers and perform addition and subtraction operations between them:\n",
    "import numpy as np\n",
    "A = np.random.randint(1, 10, size=(3, 3))\n",
    "B = np.random.randint(1, 10, size=(3, 3))\n",
    "print(A + B)\n",
    "print(A - B)\n"
   ]
  },
  {
   "cell_type": "code",
   "execution_count": 82,
   "metadata": {},
   "outputs": [
    {
     "name": "stdout",
     "output_type": "stream",
     "text": [
      "[[ 33  67  80  62]\n",
      " [  9  19  22  17]\n",
      " [ 51  89 120  94]]\n"
     ]
    }
   ],
   "source": [
    "#82.Generate two matrices C (3x2) and D (2x4) and perform matrix multiplication:\n",
    "import numpy as np\n",
    "C = np.random.randint(1, 10, size=(3, 2))\n",
    "D = np.random.randint(1, 10, size=(2, 4))\n",
    "print(np.dot(C, D))\n"
   ]
  },
  {
   "cell_type": "code",
   "execution_count": 83,
   "metadata": {},
   "outputs": [
    {
     "name": "stdout",
     "output_type": "stream",
     "text": [
      "[[9 7 5]\n",
      " [3 2 7]\n",
      " [1 3 7]]\n"
     ]
    }
   ],
   "source": [
    "#83.Create a matrix E and find its transpose:\n",
    "import numpy as np\n",
    "E = np.random.randint(1, 10, size=(3, 3))\n",
    "print(E.T)\n"
   ]
  },
  {
   "cell_type": "code",
   "execution_count": 84,
   "metadata": {},
   "outputs": [
    {
     "name": "stdout",
     "output_type": "stream",
     "text": [
      "-96.00000000000007\n"
     ]
    }
   ],
   "source": [
    "#84.Generate a square matrix F and compute its determinant:\n",
    "import numpy as np\n",
    "F = np.random.randint(1, 10, size=(3, 3))\n",
    "det = np.linalg.det(F)\n",
    "print(det)\n"
   ]
  },
  {
   "cell_type": "code",
   "execution_count": 85,
   "metadata": {},
   "outputs": [
    {
     "name": "stdout",
     "output_type": "stream",
     "text": [
      "[[-0.37864078  0.16504854  0.19417476]\n",
      " [ 0.17475728  0.0776699  -0.32038835]\n",
      " [ 0.09708738 -0.06796117  0.15533981]]\n"
     ]
    }
   ],
   "source": [
    "#85.Create a square matrix G and find its inverse:\n",
    "import numpy as np\n",
    "G = np.random.randint(1, 10, size=(3, 3))\n",
    "inverse_G = np.linalg.inv(G)\n",
    "print(inverse_G)\n"
   ]
  }
 ],
 "metadata": {
  "kernelspec": {
   "display_name": "Python 3",
   "language": "python",
   "name": "python3"
  },
  "language_info": {
   "codemirror_mode": {
    "name": "ipython",
    "version": 3
   },
   "file_extension": ".py",
   "mimetype": "text/x-python",
   "name": "python",
   "nbconvert_exporter": "python",
   "pygments_lexer": "ipython3",
   "version": "3.12.4"
  }
 },
 "nbformat": 4,
 "nbformat_minor": 2
}
